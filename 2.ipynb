{
 "cells": [
  {
   "cell_type": "code",
   "execution_count": 98,
   "metadata": {
    "collapsed": true,
    "pycharm": {
     "name": "#%%\n"
    }
   },
   "outputs": [],
   "source": [
    "import pandas as pd\n",
    "import numpy as np\n",
    "# Libraries to help with data visualization\n",
    "import matplotlib.pyplot as plt\n",
    "\n",
    "import seaborn as  sns"
   ]
  },
  {
   "cell_type": "code",
   "execution_count": 99,
   "outputs": [],
   "source": [
    "customer_read = pd.read_csv('1.csv', sep = \",\")\n",
    "customer_data = pd.DataFrame(customer_read)"
   ],
   "metadata": {
    "collapsed": false,
    "pycharm": {
     "name": "#%%\n"
    }
   }
  },
  {
   "cell_type": "code",
   "execution_count": 100,
   "outputs": [
    {
     "data": {
      "text/plain": "   Unnamed: 0   Income  Dt_Customer  Recency  WinesProducts  FruitsProducts  \\\n0           0  58138.0           25       58            635              88   \n1           1  46344.0            7       38             11               1   \n2           2  71613.0           13       26            426              49   \n3           3  26646.0            7       26             11               4   \n4           4  58293.0            8       94            173              43   \n\n   MeatProducts  FishProducts  SweetProducts  GoldProducts  ...  AcceptedCmp1  \\\n0           546           172             88            88  ...             0   \n1             6             2              1             6  ...             0   \n2           127           111             21            42  ...             0   \n3            20            10              3             5  ...             0   \n4           118            46             27            15  ...             0   \n\n   AcceptedCmp2  Complain  Response  Children  Education_Graduation  \\\n0             0         0         1         0                     1   \n1             0         0         0         1                     1   \n2             0         0         0         0                     1   \n3             0         0         0         1                     1   \n4             0         0         0         1                     0   \n\n   Education_Postgraduate  Education_Undergraduate  Marital_Status_Married  \\\n0                       0                        0                       0   \n1                       0                        0                       0   \n2                       0                        0                       1   \n3                       0                        0                       1   \n4                       1                        0                       1   \n\n   Marital_Status_Single  \n0                      1  \n1                      1  \n2                      0  \n3                      0  \n4                      0  \n\n[5 rows x 28 columns]",
      "text/html": "<div>\n<style scoped>\n    .dataframe tbody tr th:only-of-type {\n        vertical-align: middle;\n    }\n\n    .dataframe tbody tr th {\n        vertical-align: top;\n    }\n\n    .dataframe thead th {\n        text-align: right;\n    }\n</style>\n<table border=\"1\" class=\"dataframe\">\n  <thead>\n    <tr style=\"text-align: right;\">\n      <th></th>\n      <th>Unnamed: 0</th>\n      <th>Income</th>\n      <th>Dt_Customer</th>\n      <th>Recency</th>\n      <th>WinesProducts</th>\n      <th>FruitsProducts</th>\n      <th>MeatProducts</th>\n      <th>FishProducts</th>\n      <th>SweetProducts</th>\n      <th>GoldProducts</th>\n      <th>...</th>\n      <th>AcceptedCmp1</th>\n      <th>AcceptedCmp2</th>\n      <th>Complain</th>\n      <th>Response</th>\n      <th>Children</th>\n      <th>Education_Graduation</th>\n      <th>Education_Postgraduate</th>\n      <th>Education_Undergraduate</th>\n      <th>Marital_Status_Married</th>\n      <th>Marital_Status_Single</th>\n    </tr>\n  </thead>\n  <tbody>\n    <tr>\n      <th>0</th>\n      <td>0</td>\n      <td>58138.0</td>\n      <td>25</td>\n      <td>58</td>\n      <td>635</td>\n      <td>88</td>\n      <td>546</td>\n      <td>172</td>\n      <td>88</td>\n      <td>88</td>\n      <td>...</td>\n      <td>0</td>\n      <td>0</td>\n      <td>0</td>\n      <td>1</td>\n      <td>0</td>\n      <td>1</td>\n      <td>0</td>\n      <td>0</td>\n      <td>0</td>\n      <td>1</td>\n    </tr>\n    <tr>\n      <th>1</th>\n      <td>1</td>\n      <td>46344.0</td>\n      <td>7</td>\n      <td>38</td>\n      <td>11</td>\n      <td>1</td>\n      <td>6</td>\n      <td>2</td>\n      <td>1</td>\n      <td>6</td>\n      <td>...</td>\n      <td>0</td>\n      <td>0</td>\n      <td>0</td>\n      <td>0</td>\n      <td>1</td>\n      <td>1</td>\n      <td>0</td>\n      <td>0</td>\n      <td>0</td>\n      <td>1</td>\n    </tr>\n    <tr>\n      <th>2</th>\n      <td>2</td>\n      <td>71613.0</td>\n      <td>13</td>\n      <td>26</td>\n      <td>426</td>\n      <td>49</td>\n      <td>127</td>\n      <td>111</td>\n      <td>21</td>\n      <td>42</td>\n      <td>...</td>\n      <td>0</td>\n      <td>0</td>\n      <td>0</td>\n      <td>0</td>\n      <td>0</td>\n      <td>1</td>\n      <td>0</td>\n      <td>0</td>\n      <td>1</td>\n      <td>0</td>\n    </tr>\n    <tr>\n      <th>3</th>\n      <td>3</td>\n      <td>26646.0</td>\n      <td>7</td>\n      <td>26</td>\n      <td>11</td>\n      <td>4</td>\n      <td>20</td>\n      <td>10</td>\n      <td>3</td>\n      <td>5</td>\n      <td>...</td>\n      <td>0</td>\n      <td>0</td>\n      <td>0</td>\n      <td>0</td>\n      <td>1</td>\n      <td>1</td>\n      <td>0</td>\n      <td>0</td>\n      <td>1</td>\n      <td>0</td>\n    </tr>\n    <tr>\n      <th>4</th>\n      <td>4</td>\n      <td>58293.0</td>\n      <td>8</td>\n      <td>94</td>\n      <td>173</td>\n      <td>43</td>\n      <td>118</td>\n      <td>46</td>\n      <td>27</td>\n      <td>15</td>\n      <td>...</td>\n      <td>0</td>\n      <td>0</td>\n      <td>0</td>\n      <td>0</td>\n      <td>1</td>\n      <td>0</td>\n      <td>1</td>\n      <td>0</td>\n      <td>1</td>\n      <td>0</td>\n    </tr>\n  </tbody>\n</table>\n<p>5 rows × 28 columns</p>\n</div>"
     },
     "execution_count": 100,
     "metadata": {},
     "output_type": "execute_result"
    }
   ],
   "source": [
    "customer_data.head()"
   ],
   "metadata": {
    "collapsed": false,
    "pycharm": {
     "name": "#%%\n"
    }
   }
  },
  {
   "cell_type": "code",
   "execution_count": 101,
   "outputs": [],
   "source": [
    "data = customer_data[['WinesProducts','FruitsProducts','MeatProducts','FishProducts','SweetProducts','GoldProducts']]"
   ],
   "metadata": {
    "collapsed": false,
    "pycharm": {
     "name": "#%%\n"
    }
   }
  },
  {
   "cell_type": "code",
   "execution_count": 102,
   "outputs": [
    {
     "data": {
      "text/plain": "   WinesProducts  FruitsProducts  MeatProducts  FishProducts  SweetProducts  \\\n0            635              88           546           172             88   \n1             11               1             6             2              1   \n2            426              49           127           111             21   \n3             11               4            20            10              3   \n4            173              43           118            46             27   \n5            520              42            98             0             42   \n\n   GoldProducts  \n0            88  \n1             6  \n2            42  \n3             5  \n4            15  \n5            14  ",
      "text/html": "<div>\n<style scoped>\n    .dataframe tbody tr th:only-of-type {\n        vertical-align: middle;\n    }\n\n    .dataframe tbody tr th {\n        vertical-align: top;\n    }\n\n    .dataframe thead th {\n        text-align: right;\n    }\n</style>\n<table border=\"1\" class=\"dataframe\">\n  <thead>\n    <tr style=\"text-align: right;\">\n      <th></th>\n      <th>WinesProducts</th>\n      <th>FruitsProducts</th>\n      <th>MeatProducts</th>\n      <th>FishProducts</th>\n      <th>SweetProducts</th>\n      <th>GoldProducts</th>\n    </tr>\n  </thead>\n  <tbody>\n    <tr>\n      <th>0</th>\n      <td>635</td>\n      <td>88</td>\n      <td>546</td>\n      <td>172</td>\n      <td>88</td>\n      <td>88</td>\n    </tr>\n    <tr>\n      <th>1</th>\n      <td>11</td>\n      <td>1</td>\n      <td>6</td>\n      <td>2</td>\n      <td>1</td>\n      <td>6</td>\n    </tr>\n    <tr>\n      <th>2</th>\n      <td>426</td>\n      <td>49</td>\n      <td>127</td>\n      <td>111</td>\n      <td>21</td>\n      <td>42</td>\n    </tr>\n    <tr>\n      <th>3</th>\n      <td>11</td>\n      <td>4</td>\n      <td>20</td>\n      <td>10</td>\n      <td>3</td>\n      <td>5</td>\n    </tr>\n    <tr>\n      <th>4</th>\n      <td>173</td>\n      <td>43</td>\n      <td>118</td>\n      <td>46</td>\n      <td>27</td>\n      <td>15</td>\n    </tr>\n    <tr>\n      <th>5</th>\n      <td>520</td>\n      <td>42</td>\n      <td>98</td>\n      <td>0</td>\n      <td>42</td>\n      <td>14</td>\n    </tr>\n  </tbody>\n</table>\n</div>"
     },
     "execution_count": 102,
     "metadata": {},
     "output_type": "execute_result"
    }
   ],
   "source": [
    "data.head(6)"
   ],
   "metadata": {
    "collapsed": false,
    "pycharm": {
     "name": "#%%\n"
    }
   }
  },
  {
   "cell_type": "code",
   "execution_count": 102,
   "outputs": [],
   "source": [],
   "metadata": {
    "collapsed": false,
    "pycharm": {
     "name": "#%%\n"
    }
   }
  },
  {
   "cell_type": "code",
   "execution_count": 103,
   "outputs": [],
   "source": [
    "pd.options.mode.chained_assignment = None\n",
    "data['WinesProducts'] = [1 if x != 0 else 0 for x in data['WinesProducts']]\n",
    "data['FruitsProducts'] = [1 if x != 0 else 0 for x in data['FruitsProducts']]\n",
    "data['MeatProducts'] = [1 if x != 0 else 0 for x in data['MeatProducts']]\n",
    "data['FishProducts'] = [1 if x != 0 else 0 for x in data['FishProducts']]\n",
    "data['SweetProducts'] = [1 if x != 0 else 0 for x in data['SweetProducts']]\n",
    "data['GoldProducts'] = [1 if x != 0 else 0 for x in data['GoldProducts']]"
   ],
   "metadata": {
    "collapsed": false,
    "pycharm": {
     "name": "#%%\n"
    }
   }
  },
  {
   "cell_type": "code",
   "execution_count": 104,
   "outputs": [
    {
     "name": "stdout",
     "output_type": "stream",
     "text": [
      "<class 'pandas.core.frame.DataFrame'>\n",
      "RangeIndex: 2035 entries, 0 to 2034\n",
      "Data columns (total 6 columns):\n",
      " #   Column          Non-Null Count  Dtype\n",
      "---  ------          --------------  -----\n",
      " 0   WinesProducts   2035 non-null   int64\n",
      " 1   FruitsProducts  2035 non-null   int64\n",
      " 2   MeatProducts    2035 non-null   int64\n",
      " 3   FishProducts    2035 non-null   int64\n",
      " 4   SweetProducts   2035 non-null   int64\n",
      " 5   GoldProducts    2035 non-null   int64\n",
      "dtypes: int64(6)\n",
      "memory usage: 95.5 KB\n"
     ]
    }
   ],
   "source": [
    "data.info()"
   ],
   "metadata": {
    "collapsed": false,
    "pycharm": {
     "name": "#%%\n"
    }
   }
  },
  {
   "cell_type": "code",
   "execution_count": 105,
   "outputs": [
    {
     "data": {
      "text/plain": "    WinesProducts  FruitsProducts  MeatProducts  FishProducts  SweetProducts  \\\n0               1               1             1             1              1   \n1               1               1             1             1              1   \n2               1               1             1             1              1   \n3               1               1             1             1              1   \n4               1               1             1             1              1   \n5               1               1             1             0              1   \n6               1               1             1             1              1   \n7               1               1             1             1              1   \n8               1               0             1             1              1   \n9               1               0             1             1              1   \n10              1               1             1             1              1   \n11              1               1             1             1              1   \n12              1               1             1             1              1   \n13              1               1             1             1              1   \n14              1               1             1             1              1   \n15              1               1             1             1              1   \n16              1               1             1             1              1   \n17              1               1             1             0              1   \n18              1               1             1             1              1   \n19              1               1             1             1              1   \n20              1               1             1             1              1   \n21              1               0             1             0              0   \n22              1               0             1             1              1   \n23              1               1             1             1              1   \n24              1               1             1             1              1   \n25              1               1             1             1              1   \n26              1               1             1             1              1   \n27              1               1             1             1              1   \n28              1               1             1             1              1   \n29              1               1             1             1              1   \n\n    GoldProducts  \n0              1  \n1              1  \n2              1  \n3              1  \n4              1  \n5              1  \n6              1  \n7              1  \n8              1  \n9              1  \n10             1  \n11             1  \n12             1  \n13             1  \n14             1  \n15             1  \n16             1  \n17             1  \n18             1  \n19             1  \n20             1  \n21             1  \n22             1  \n23             1  \n24             1  \n25             1  \n26             1  \n27             0  \n28             1  \n29             1  ",
      "text/html": "<div>\n<style scoped>\n    .dataframe tbody tr th:only-of-type {\n        vertical-align: middle;\n    }\n\n    .dataframe tbody tr th {\n        vertical-align: top;\n    }\n\n    .dataframe thead th {\n        text-align: right;\n    }\n</style>\n<table border=\"1\" class=\"dataframe\">\n  <thead>\n    <tr style=\"text-align: right;\">\n      <th></th>\n      <th>WinesProducts</th>\n      <th>FruitsProducts</th>\n      <th>MeatProducts</th>\n      <th>FishProducts</th>\n      <th>SweetProducts</th>\n      <th>GoldProducts</th>\n    </tr>\n  </thead>\n  <tbody>\n    <tr>\n      <th>0</th>\n      <td>1</td>\n      <td>1</td>\n      <td>1</td>\n      <td>1</td>\n      <td>1</td>\n      <td>1</td>\n    </tr>\n    <tr>\n      <th>1</th>\n      <td>1</td>\n      <td>1</td>\n      <td>1</td>\n      <td>1</td>\n      <td>1</td>\n      <td>1</td>\n    </tr>\n    <tr>\n      <th>2</th>\n      <td>1</td>\n      <td>1</td>\n      <td>1</td>\n      <td>1</td>\n      <td>1</td>\n      <td>1</td>\n    </tr>\n    <tr>\n      <th>3</th>\n      <td>1</td>\n      <td>1</td>\n      <td>1</td>\n      <td>1</td>\n      <td>1</td>\n      <td>1</td>\n    </tr>\n    <tr>\n      <th>4</th>\n      <td>1</td>\n      <td>1</td>\n      <td>1</td>\n      <td>1</td>\n      <td>1</td>\n      <td>1</td>\n    </tr>\n    <tr>\n      <th>5</th>\n      <td>1</td>\n      <td>1</td>\n      <td>1</td>\n      <td>0</td>\n      <td>1</td>\n      <td>1</td>\n    </tr>\n    <tr>\n      <th>6</th>\n      <td>1</td>\n      <td>1</td>\n      <td>1</td>\n      <td>1</td>\n      <td>1</td>\n      <td>1</td>\n    </tr>\n    <tr>\n      <th>7</th>\n      <td>1</td>\n      <td>1</td>\n      <td>1</td>\n      <td>1</td>\n      <td>1</td>\n      <td>1</td>\n    </tr>\n    <tr>\n      <th>8</th>\n      <td>1</td>\n      <td>0</td>\n      <td>1</td>\n      <td>1</td>\n      <td>1</td>\n      <td>1</td>\n    </tr>\n    <tr>\n      <th>9</th>\n      <td>1</td>\n      <td>0</td>\n      <td>1</td>\n      <td>1</td>\n      <td>1</td>\n      <td>1</td>\n    </tr>\n    <tr>\n      <th>10</th>\n      <td>1</td>\n      <td>1</td>\n      <td>1</td>\n      <td>1</td>\n      <td>1</td>\n      <td>1</td>\n    </tr>\n    <tr>\n      <th>11</th>\n      <td>1</td>\n      <td>1</td>\n      <td>1</td>\n      <td>1</td>\n      <td>1</td>\n      <td>1</td>\n    </tr>\n    <tr>\n      <th>12</th>\n      <td>1</td>\n      <td>1</td>\n      <td>1</td>\n      <td>1</td>\n      <td>1</td>\n      <td>1</td>\n    </tr>\n    <tr>\n      <th>13</th>\n      <td>1</td>\n      <td>1</td>\n      <td>1</td>\n      <td>1</td>\n      <td>1</td>\n      <td>1</td>\n    </tr>\n    <tr>\n      <th>14</th>\n      <td>1</td>\n      <td>1</td>\n      <td>1</td>\n      <td>1</td>\n      <td>1</td>\n      <td>1</td>\n    </tr>\n    <tr>\n      <th>15</th>\n      <td>1</td>\n      <td>1</td>\n      <td>1</td>\n      <td>1</td>\n      <td>1</td>\n      <td>1</td>\n    </tr>\n    <tr>\n      <th>16</th>\n      <td>1</td>\n      <td>1</td>\n      <td>1</td>\n      <td>1</td>\n      <td>1</td>\n      <td>1</td>\n    </tr>\n    <tr>\n      <th>17</th>\n      <td>1</td>\n      <td>1</td>\n      <td>1</td>\n      <td>0</td>\n      <td>1</td>\n      <td>1</td>\n    </tr>\n    <tr>\n      <th>18</th>\n      <td>1</td>\n      <td>1</td>\n      <td>1</td>\n      <td>1</td>\n      <td>1</td>\n      <td>1</td>\n    </tr>\n    <tr>\n      <th>19</th>\n      <td>1</td>\n      <td>1</td>\n      <td>1</td>\n      <td>1</td>\n      <td>1</td>\n      <td>1</td>\n    </tr>\n    <tr>\n      <th>20</th>\n      <td>1</td>\n      <td>1</td>\n      <td>1</td>\n      <td>1</td>\n      <td>1</td>\n      <td>1</td>\n    </tr>\n    <tr>\n      <th>21</th>\n      <td>1</td>\n      <td>0</td>\n      <td>1</td>\n      <td>0</td>\n      <td>0</td>\n      <td>1</td>\n    </tr>\n    <tr>\n      <th>22</th>\n      <td>1</td>\n      <td>0</td>\n      <td>1</td>\n      <td>1</td>\n      <td>1</td>\n      <td>1</td>\n    </tr>\n    <tr>\n      <th>23</th>\n      <td>1</td>\n      <td>1</td>\n      <td>1</td>\n      <td>1</td>\n      <td>1</td>\n      <td>1</td>\n    </tr>\n    <tr>\n      <th>24</th>\n      <td>1</td>\n      <td>1</td>\n      <td>1</td>\n      <td>1</td>\n      <td>1</td>\n      <td>1</td>\n    </tr>\n    <tr>\n      <th>25</th>\n      <td>1</td>\n      <td>1</td>\n      <td>1</td>\n      <td>1</td>\n      <td>1</td>\n      <td>1</td>\n    </tr>\n    <tr>\n      <th>26</th>\n      <td>1</td>\n      <td>1</td>\n      <td>1</td>\n      <td>1</td>\n      <td>1</td>\n      <td>1</td>\n    </tr>\n    <tr>\n      <th>27</th>\n      <td>1</td>\n      <td>1</td>\n      <td>1</td>\n      <td>1</td>\n      <td>1</td>\n      <td>0</td>\n    </tr>\n    <tr>\n      <th>28</th>\n      <td>1</td>\n      <td>1</td>\n      <td>1</td>\n      <td>1</td>\n      <td>1</td>\n      <td>1</td>\n    </tr>\n    <tr>\n      <th>29</th>\n      <td>1</td>\n      <td>1</td>\n      <td>1</td>\n      <td>1</td>\n      <td>1</td>\n      <td>1</td>\n    </tr>\n  </tbody>\n</table>\n</div>"
     },
     "execution_count": 105,
     "metadata": {},
     "output_type": "execute_result"
    }
   ],
   "source": [
    "data.head(30)"
   ],
   "metadata": {
    "collapsed": false,
    "pycharm": {
     "name": "#%%\n"
    }
   }
  },
  {
   "cell_type": "code",
   "execution_count": 108,
   "outputs": [
    {
     "name": "stdout",
     "output_type": "stream",
     "text": [
      "WinesProducts\n",
      "1    2023\n",
      "0      12\n",
      "Name: WinesProducts, dtype: int64\n",
      "----------------------------------------\n",
      "FruitsProducts\n",
      "1    1673\n",
      "0     362\n",
      "Name: FruitsProducts, dtype: int64\n",
      "----------------------------------------\n",
      "MeatProducts\n",
      "1    2034\n",
      "0       1\n",
      "Name: MeatProducts, dtype: int64\n",
      "----------------------------------------\n",
      "FishProducts\n",
      "1    1681\n",
      "0     354\n",
      "Name: FishProducts, dtype: int64\n",
      "----------------------------------------\n",
      "SweetProducts\n",
      "1    1655\n",
      "0     380\n",
      "Name: SweetProducts, dtype: int64\n",
      "----------------------------------------\n",
      "GoldProducts\n",
      "1    1978\n",
      "0      57\n",
      "Name: GoldProducts, dtype: int64\n",
      "----------------------------------------\n"
     ]
    }
   ],
   "source": [
    "for column in data.columns:\n",
    "    print(column)\n",
    "    print(data[column].value_counts())\n",
    "    print(\"-\" * 40)"
   ],
   "metadata": {
    "collapsed": false,
    "pycharm": {
     "name": "#%%\n"
    }
   }
  },
  {
   "cell_type": "code",
   "execution_count": 112,
   "outputs": [
    {
     "name": "stderr",
     "output_type": "stream",
     "text": [
      "/home/mary/data-mining/project/Venv-p/lib/python3.8/site-packages/mlxtend/frequent_patterns/fpcommon.py:111: DeprecationWarning: DataFrames with non-bool types result in worse computationalperformance and their support might be discontinued in the future.Please use a DataFrame with bool type\n",
      "  warnings.warn(\n"
     ]
    },
    {
     "data": {
      "text/plain": "                       antecedents  \\\n2                   (MeatProducts)   \n3                  (WinesProducts)   \n46    (GoldProducts, MeatProducts)   \n47   (GoldProducts, WinesProducts)   \n48                  (MeatProducts)   \n..                             ...   \n428                (SweetProducts)   \n427                (WinesProducts)   \n426                 (GoldProducts)   \n425               (FruitsProducts)   \n547                 (MeatProducts)   \n\n                                           consequents  antecedent support  \\\n2                                      (WinesProducts)            0.999509   \n3                                       (MeatProducts)            0.994103   \n46                                     (WinesProducts)            0.971499   \n47                                      (MeatProducts)            0.966093   \n48                       (GoldProducts, WinesProducts)            0.999509   \n..                                                 ...                 ...   \n428  (FruitsProducts, GoldProducts, FishProducts, W...            0.813268   \n427  (FruitsProducts, GoldProducts, FishProducts, S...            0.994103   \n426  (FruitsProducts, FishProducts, WinesProducts, ...            0.971990   \n425  (GoldProducts, FishProducts, WinesProducts, Sw...            0.822113   \n547  (FruitsProducts, GoldProducts, WinesProducts, ...            0.999509   \n\n     consequent support   support  confidence      lift  leverage  conviction  \n2              0.994103  0.994103    0.994592  1.000492  0.000489    1.090373  \n3              0.999509  0.994103    1.000000  1.000492  0.000489         inf  \n46             0.994103  0.966093    0.994436  1.000335  0.000323    1.059817  \n47             0.999509  0.966093    1.000000  1.000492  0.000475         inf  \n48             0.966093  0.966093    0.966568  1.000492  0.000475    1.014207  \n..                  ...       ...         ...       ...       ...         ...  \n428            0.719410  0.647174    0.795770  1.106143  0.062101    1.373893  \n427            0.650123  0.647174    0.651013  1.001370  0.000885    1.002552  \n426            0.657494  0.647174    0.665824  1.012670  0.008097    1.024928  \n425            0.712531  0.647174    0.787209  1.104807  0.061394    1.350944  \n547            0.647174  0.647174    0.647493  1.000492  0.000318    1.000903  \n\n[548 rows x 9 columns]",
      "text/html": "<div>\n<style scoped>\n    .dataframe tbody tr th:only-of-type {\n        vertical-align: middle;\n    }\n\n    .dataframe tbody tr th {\n        vertical-align: top;\n    }\n\n    .dataframe thead th {\n        text-align: right;\n    }\n</style>\n<table border=\"1\" class=\"dataframe\">\n  <thead>\n    <tr style=\"text-align: right;\">\n      <th></th>\n      <th>antecedents</th>\n      <th>consequents</th>\n      <th>antecedent support</th>\n      <th>consequent support</th>\n      <th>support</th>\n      <th>confidence</th>\n      <th>lift</th>\n      <th>leverage</th>\n      <th>conviction</th>\n    </tr>\n  </thead>\n  <tbody>\n    <tr>\n      <th>2</th>\n      <td>(MeatProducts)</td>\n      <td>(WinesProducts)</td>\n      <td>0.999509</td>\n      <td>0.994103</td>\n      <td>0.994103</td>\n      <td>0.994592</td>\n      <td>1.000492</td>\n      <td>0.000489</td>\n      <td>1.090373</td>\n    </tr>\n    <tr>\n      <th>3</th>\n      <td>(WinesProducts)</td>\n      <td>(MeatProducts)</td>\n      <td>0.994103</td>\n      <td>0.999509</td>\n      <td>0.994103</td>\n      <td>1.000000</td>\n      <td>1.000492</td>\n      <td>0.000489</td>\n      <td>inf</td>\n    </tr>\n    <tr>\n      <th>46</th>\n      <td>(GoldProducts, MeatProducts)</td>\n      <td>(WinesProducts)</td>\n      <td>0.971499</td>\n      <td>0.994103</td>\n      <td>0.966093</td>\n      <td>0.994436</td>\n      <td>1.000335</td>\n      <td>0.000323</td>\n      <td>1.059817</td>\n    </tr>\n    <tr>\n      <th>47</th>\n      <td>(GoldProducts, WinesProducts)</td>\n      <td>(MeatProducts)</td>\n      <td>0.966093</td>\n      <td>0.999509</td>\n      <td>0.966093</td>\n      <td>1.000000</td>\n      <td>1.000492</td>\n      <td>0.000475</td>\n      <td>inf</td>\n    </tr>\n    <tr>\n      <th>48</th>\n      <td>(MeatProducts)</td>\n      <td>(GoldProducts, WinesProducts)</td>\n      <td>0.999509</td>\n      <td>0.966093</td>\n      <td>0.966093</td>\n      <td>0.966568</td>\n      <td>1.000492</td>\n      <td>0.000475</td>\n      <td>1.014207</td>\n    </tr>\n    <tr>\n      <th>...</th>\n      <td>...</td>\n      <td>...</td>\n      <td>...</td>\n      <td>...</td>\n      <td>...</td>\n      <td>...</td>\n      <td>...</td>\n      <td>...</td>\n      <td>...</td>\n    </tr>\n    <tr>\n      <th>428</th>\n      <td>(SweetProducts)</td>\n      <td>(FruitsProducts, GoldProducts, FishProducts, W...</td>\n      <td>0.813268</td>\n      <td>0.719410</td>\n      <td>0.647174</td>\n      <td>0.795770</td>\n      <td>1.106143</td>\n      <td>0.062101</td>\n      <td>1.373893</td>\n    </tr>\n    <tr>\n      <th>427</th>\n      <td>(WinesProducts)</td>\n      <td>(FruitsProducts, GoldProducts, FishProducts, S...</td>\n      <td>0.994103</td>\n      <td>0.650123</td>\n      <td>0.647174</td>\n      <td>0.651013</td>\n      <td>1.001370</td>\n      <td>0.000885</td>\n      <td>1.002552</td>\n    </tr>\n    <tr>\n      <th>426</th>\n      <td>(GoldProducts)</td>\n      <td>(FruitsProducts, FishProducts, WinesProducts, ...</td>\n      <td>0.971990</td>\n      <td>0.657494</td>\n      <td>0.647174</td>\n      <td>0.665824</td>\n      <td>1.012670</td>\n      <td>0.008097</td>\n      <td>1.024928</td>\n    </tr>\n    <tr>\n      <th>425</th>\n      <td>(FruitsProducts)</td>\n      <td>(GoldProducts, FishProducts, WinesProducts, Sw...</td>\n      <td>0.822113</td>\n      <td>0.712531</td>\n      <td>0.647174</td>\n      <td>0.787209</td>\n      <td>1.104807</td>\n      <td>0.061394</td>\n      <td>1.350944</td>\n    </tr>\n    <tr>\n      <th>547</th>\n      <td>(MeatProducts)</td>\n      <td>(FruitsProducts, GoldProducts, WinesProducts, ...</td>\n      <td>0.999509</td>\n      <td>0.647174</td>\n      <td>0.647174</td>\n      <td>0.647493</td>\n      <td>1.000492</td>\n      <td>0.000318</td>\n      <td>1.000903</td>\n    </tr>\n  </tbody>\n</table>\n<p>548 rows × 9 columns</p>\n</div>"
     },
     "execution_count": 112,
     "metadata": {},
     "output_type": "execute_result"
    }
   ],
   "source": [
    "from mlxtend.frequent_patterns import apriori, association_rules, fpgrowth\n",
    "\n",
    "# Building the model\n",
    "frq_items = apriori(data, min_support = 0.08, use_colnames = True)\n",
    "\n",
    "# Collecting the inferred rules in a dataframe\n",
    "rules = association_rules(frq_items, metric =\"lift\", min_threshold = 1)\n",
    "rules = rules.sort_values(\"support\", ascending = False)\n",
    "rules"
   ],
   "metadata": {
    "collapsed": false,
    "pycharm": {
     "name": "#%%\n"
    }
   }
  },
  {
   "cell_type": "code",
   "execution_count": 114,
   "outputs": [
    {
     "name": "stdout",
     "output_type": "stream",
     "text": [
      "6 itemset(s) from tree conditioned on items ()\n",
      "0 itemset(s) from tree conditioned on items (MeatProducts)\n",
      "1 itemset(s) from tree conditioned on items (WinesProducts)\n",
      "3 itemset(s) from tree conditioned on items (GoldProducts)\n",
      "3 itemset(s) from tree conditioned on items (FishProducts)\n",
      "0 itemset(s) from tree conditioned on items (FishProducts, MeatProducts)\n",
      "1 itemset(s) from tree conditioned on items (FishProducts, WinesProducts)\n",
      "3 itemset(s) from tree conditioned on items (FishProducts, GoldProducts)\n",
      "4 itemset(s) from tree conditioned on items (FruitsProducts)\n",
      "0 itemset(s) from tree conditioned on items (FruitsProducts, MeatProducts)\n",
      "1 itemset(s) from tree conditioned on items (FruitsProducts, WinesProducts)\n",
      "3 itemset(s) from tree conditioned on items (FruitsProducts, GoldProducts)\n",
      "3 itemset(s) from tree conditioned on items (FruitsProducts, FishProducts)\n",
      "0 itemset(s) from tree conditioned on items (FruitsProducts, FishProducts, MeatProducts)\n",
      "1 itemset(s) from tree conditioned on items (FruitsProducts, FishProducts, WinesProducts)\n",
      "3 itemset(s) from tree conditioned on items (FruitsProducts, FishProducts, GoldProducts)\n",
      "5 itemset(s) from tree conditioned on items (SweetProducts)\n",
      "0 itemset(s) from tree conditioned on items (SweetProducts, MeatProducts)\n",
      "1 itemset(s) from tree conditioned on items (SweetProducts, WinesProducts)\n",
      "3 itemset(s) from tree conditioned on items (SweetProducts, GoldProducts)\n",
      "3 itemset(s) from tree conditioned on items (SweetProducts, FishProducts)\n",
      "0 itemset(s) from tree conditioned on items (SweetProducts, FishProducts, MeatProducts)\n",
      "1 itemset(s) from tree conditioned on items (SweetProducts, FishProducts, WinesProducts)\n",
      "3 itemset(s) from tree conditioned on items (SweetProducts, FishProducts, GoldProducts)\n",
      "4 itemset(s) from tree conditioned on items (SweetProducts, FruitsProducts)\n",
      "0 itemset(s) from tree conditioned on items (SweetProducts, FruitsProducts, MeatProducts)\n",
      "1 itemset(s) from tree conditioned on items (SweetProducts, FruitsProducts, WinesProducts)\n",
      "3 itemset(s) from tree conditioned on items (SweetProducts, FruitsProducts, GoldProducts)\n",
      "3 itemset(s) from tree conditioned on items (SweetProducts, FruitsProducts, FishProducts)\n",
      "0 itemset(s) from tree conditioned on items (SweetProducts, FruitsProducts, FishProducts, MeatProducts)\n",
      "1 itemset(s) from tree conditioned on items (SweetProducts, FruitsProducts, FishProducts, WinesProducts)\n",
      "3 itemset(s) from tree conditioned on items (SweetProducts, FruitsProducts, FishProducts, GoldProducts)\n"
     ]
    },
    {
     "name": "stderr",
     "output_type": "stream",
     "text": [
      "/home/mary/data-mining/project/Venv-p/lib/python3.8/site-packages/mlxtend/frequent_patterns/fpcommon.py:111: DeprecationWarning: DataFrames with non-bool types result in worse computationalperformance and their support might be discontinued in the future.Please use a DataFrame with bool type\n",
      "  warnings.warn(\n"
     ]
    },
    {
     "data": {
      "text/plain": "                       antecedents  \\\n2                   (MeatProducts)   \n3                  (WinesProducts)   \n46    (GoldProducts, MeatProducts)   \n47   (GoldProducts, WinesProducts)   \n48                  (MeatProducts)   \n..                             ...   \n428                (SweetProducts)   \n427                (WinesProducts)   \n426                 (GoldProducts)   \n425               (FruitsProducts)   \n547                 (MeatProducts)   \n\n                                           consequents  antecedent support  \\\n2                                      (WinesProducts)            0.999509   \n3                                       (MeatProducts)            0.994103   \n46                                     (WinesProducts)            0.971499   \n47                                      (MeatProducts)            0.966093   \n48                       (GoldProducts, WinesProducts)            0.999509   \n..                                                 ...                 ...   \n428  (FruitsProducts, GoldProducts, FishProducts, W...            0.813268   \n427  (FruitsProducts, GoldProducts, FishProducts, S...            0.994103   \n426  (FruitsProducts, FishProducts, WinesProducts, ...            0.971990   \n425  (GoldProducts, FishProducts, WinesProducts, Sw...            0.822113   \n547  (FruitsProducts, GoldProducts, WinesProducts, ...            0.999509   \n\n     consequent support   support  confidence      lift  leverage  conviction  \n2              0.994103  0.994103    0.994592  1.000492  0.000489    1.090373  \n3              0.999509  0.994103    1.000000  1.000492  0.000489         inf  \n46             0.994103  0.966093    0.994436  1.000335  0.000323    1.059817  \n47             0.999509  0.966093    1.000000  1.000492  0.000475         inf  \n48             0.966093  0.966093    0.966568  1.000492  0.000475    1.014207  \n..                  ...       ...         ...       ...       ...         ...  \n428            0.719410  0.647174    0.795770  1.106143  0.062101    1.373893  \n427            0.650123  0.647174    0.651013  1.001370  0.000885    1.002552  \n426            0.657494  0.647174    0.665824  1.012670  0.008097    1.024928  \n425            0.712531  0.647174    0.787209  1.104807  0.061394    1.350944  \n547            0.647174  0.647174    0.647493  1.000492  0.000318    1.000903  \n\n[548 rows x 9 columns]",
      "text/html": "<div>\n<style scoped>\n    .dataframe tbody tr th:only-of-type {\n        vertical-align: middle;\n    }\n\n    .dataframe tbody tr th {\n        vertical-align: top;\n    }\n\n    .dataframe thead th {\n        text-align: right;\n    }\n</style>\n<table border=\"1\" class=\"dataframe\">\n  <thead>\n    <tr style=\"text-align: right;\">\n      <th></th>\n      <th>antecedents</th>\n      <th>consequents</th>\n      <th>antecedent support</th>\n      <th>consequent support</th>\n      <th>support</th>\n      <th>confidence</th>\n      <th>lift</th>\n      <th>leverage</th>\n      <th>conviction</th>\n    </tr>\n  </thead>\n  <tbody>\n    <tr>\n      <th>2</th>\n      <td>(MeatProducts)</td>\n      <td>(WinesProducts)</td>\n      <td>0.999509</td>\n      <td>0.994103</td>\n      <td>0.994103</td>\n      <td>0.994592</td>\n      <td>1.000492</td>\n      <td>0.000489</td>\n      <td>1.090373</td>\n    </tr>\n    <tr>\n      <th>3</th>\n      <td>(WinesProducts)</td>\n      <td>(MeatProducts)</td>\n      <td>0.994103</td>\n      <td>0.999509</td>\n      <td>0.994103</td>\n      <td>1.000000</td>\n      <td>1.000492</td>\n      <td>0.000489</td>\n      <td>inf</td>\n    </tr>\n    <tr>\n      <th>46</th>\n      <td>(GoldProducts, MeatProducts)</td>\n      <td>(WinesProducts)</td>\n      <td>0.971499</td>\n      <td>0.994103</td>\n      <td>0.966093</td>\n      <td>0.994436</td>\n      <td>1.000335</td>\n      <td>0.000323</td>\n      <td>1.059817</td>\n    </tr>\n    <tr>\n      <th>47</th>\n      <td>(GoldProducts, WinesProducts)</td>\n      <td>(MeatProducts)</td>\n      <td>0.966093</td>\n      <td>0.999509</td>\n      <td>0.966093</td>\n      <td>1.000000</td>\n      <td>1.000492</td>\n      <td>0.000475</td>\n      <td>inf</td>\n    </tr>\n    <tr>\n      <th>48</th>\n      <td>(MeatProducts)</td>\n      <td>(GoldProducts, WinesProducts)</td>\n      <td>0.999509</td>\n      <td>0.966093</td>\n      <td>0.966093</td>\n      <td>0.966568</td>\n      <td>1.000492</td>\n      <td>0.000475</td>\n      <td>1.014207</td>\n    </tr>\n    <tr>\n      <th>...</th>\n      <td>...</td>\n      <td>...</td>\n      <td>...</td>\n      <td>...</td>\n      <td>...</td>\n      <td>...</td>\n      <td>...</td>\n      <td>...</td>\n      <td>...</td>\n    </tr>\n    <tr>\n      <th>428</th>\n      <td>(SweetProducts)</td>\n      <td>(FruitsProducts, GoldProducts, FishProducts, W...</td>\n      <td>0.813268</td>\n      <td>0.719410</td>\n      <td>0.647174</td>\n      <td>0.795770</td>\n      <td>1.106143</td>\n      <td>0.062101</td>\n      <td>1.373893</td>\n    </tr>\n    <tr>\n      <th>427</th>\n      <td>(WinesProducts)</td>\n      <td>(FruitsProducts, GoldProducts, FishProducts, S...</td>\n      <td>0.994103</td>\n      <td>0.650123</td>\n      <td>0.647174</td>\n      <td>0.651013</td>\n      <td>1.001370</td>\n      <td>0.000885</td>\n      <td>1.002552</td>\n    </tr>\n    <tr>\n      <th>426</th>\n      <td>(GoldProducts)</td>\n      <td>(FruitsProducts, FishProducts, WinesProducts, ...</td>\n      <td>0.971990</td>\n      <td>0.657494</td>\n      <td>0.647174</td>\n      <td>0.665824</td>\n      <td>1.012670</td>\n      <td>0.008097</td>\n      <td>1.024928</td>\n    </tr>\n    <tr>\n      <th>425</th>\n      <td>(FruitsProducts)</td>\n      <td>(GoldProducts, FishProducts, WinesProducts, Sw...</td>\n      <td>0.822113</td>\n      <td>0.712531</td>\n      <td>0.647174</td>\n      <td>0.787209</td>\n      <td>1.104807</td>\n      <td>0.061394</td>\n      <td>1.350944</td>\n    </tr>\n    <tr>\n      <th>547</th>\n      <td>(MeatProducts)</td>\n      <td>(FruitsProducts, GoldProducts, WinesProducts, ...</td>\n      <td>0.999509</td>\n      <td>0.647174</td>\n      <td>0.647174</td>\n      <td>0.647493</td>\n      <td>1.000492</td>\n      <td>0.000318</td>\n      <td>1.000903</td>\n    </tr>\n  </tbody>\n</table>\n<p>548 rows × 9 columns</p>\n</div>"
     },
     "execution_count": 114,
     "metadata": {},
     "output_type": "execute_result"
    }
   ],
   "source": [
    "frq_items_f = fpgrowth(data, min_support=0.1, use_colnames=True,verbose=1)\n",
    "rules = association_rules(frq_items, metric =\"lift\", min_threshold = 1)\n",
    "rules = rules.sort_values(\"support\", ascending = False)\n",
    "rules"
   ],
   "metadata": {
    "collapsed": false,
    "pycharm": {
     "name": "#%%\n"
    }
   }
  },
  {
   "cell_type": "markdown",
   "source": [
    "# Analyze Apriori"
   ],
   "metadata": {
    "collapsed": false,
    "pycharm": {
     "name": "#%% md\n"
    }
   }
  },
  {
   "cell_type": "markdown",
   "source": [
    "most Frequent pattern is Anyone who buys meat also buys wine\n",
    "then Anyone who buys gold  also buys (FruitsProducts, MeatProducts, WinesProducts, SweetProducts)\n",
    "then Anyone who buys (FruitsProducts, GoldProducts) also buy (WinesProducts, SweetProducts) ..."
   ],
   "metadata": {
    "collapsed": false,
    "pycharm": {
     "name": "#%% md\n"
    }
   }
  },
  {
   "cell_type": "markdown",
   "source": [
    "# Analyze FP growth"
   ],
   "metadata": {
    "collapsed": false,
    "pycharm": {
     "name": "#%% md\n"
    }
   }
  },
  {
   "cell_type": "markdown",
   "source": [
    "most Frequent pattern is Anyone who buys meate also buys wine\n",
    "then anyone who buys (GoldProducts, meatProducts) also buy wine\n"
   ],
   "metadata": {
    "collapsed": false,
    "pycharm": {
     "name": "#%% md\n"
    }
   }
  },
  {
   "cell_type": "markdown",
   "source": [
    "# as i see all pattern lift is 1 so there have Positive correlation"
   ],
   "metadata": {
    "collapsed": false,
    "pycharm": {
     "name": "#%% md\n"
    }
   }
  },
  {
   "cell_type": "code",
   "execution_count": 96,
   "outputs": [],
   "source": [
    "data = data.to_csv()\n",
    "with open('2.csv', 'w') as f:\n",
    "    f.write(data)"
   ],
   "metadata": {
    "collapsed": false,
    "pycharm": {
     "name": "#%%\n"
    }
   }
  },
  {
   "cell_type": "code",
   "execution_count": null,
   "outputs": [],
   "source": [],
   "metadata": {
    "collapsed": false,
    "pycharm": {
     "name": "#%%\n"
    }
   }
  }
 ],
 "metadata": {
  "kernelspec": {
   "display_name": "Python 3",
   "language": "python",
   "name": "python3"
  },
  "language_info": {
   "codemirror_mode": {
    "name": "ipython",
    "version": 2
   },
   "file_extension": ".py",
   "mimetype": "text/x-python",
   "name": "python",
   "nbconvert_exporter": "python",
   "pygments_lexer": "ipython2",
   "version": "2.7.6"
  }
 },
 "nbformat": 4,
 "nbformat_minor": 0
}