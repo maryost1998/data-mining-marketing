{
 "cells": [
  {
   "cell_type": "code",
   "execution_count": 671,
   "outputs": [],
   "source": [
    "import pandas as pd\n",
    "import numpy as np\n",
    "# Libraries to help with data visualization\n",
    "import matplotlib.pyplot as plt\n",
    "\n",
    "import seaborn as  sns\n"
   ],
   "metadata": {
    "collapsed": false,
    "pycharm": {
     "name": "#%%\n"
    }
   }
  },
  {
   "cell_type": "code",
   "execution_count": 672,
   "outputs": [],
   "source": [
    "customer_read = pd.read_csv('customer_analysis.csv', sep = \";\")\n",
    "customer_data = pd.DataFrame(customer_read)"
   ],
   "metadata": {
    "collapsed": false,
    "pycharm": {
     "name": "#%%\n"
    }
   }
  },
  {
   "cell_type": "code",
   "execution_count": 673,
   "outputs": [
    {
     "data": {
      "text/plain": "     ID  Year_Birth   Education Marital_Status   Income  Kidhome  Teenhome  \\\n0  5524        1957  Graduation         Single  58138.0        0         0   \n1  2174        1954  Graduation         Single  46344.0        1         1   \n2  4141        1965  Graduation       Together  71613.0        0         0   \n3  6182        1984  Graduation       Together  26646.0        1         0   \n4  5324        1981         PhD        Married  58293.0        1         0   \n\n  Dt_Customer  Recency  WinesProducts  ...  NumWebVisitsMonth  AcceptedCmp3  \\\n0  2019-09-04       58            635  ...                  7             0   \n1  2021-03-08       38             11  ...                  5             0   \n2  2020-08-21       26            426  ...                  4             0   \n3  2021-02-10       26             11  ...                  6             0   \n4  2021-01-19       94            173  ...                  5             0   \n\n   AcceptedCmp4  AcceptedCmp5  AcceptedCmp1  AcceptedCmp2  Complain  \\\n0             0             0             0             0         0   \n1             0             0             0             0         0   \n2             0             0             0             0         0   \n3             0             0             0             0         0   \n4             0             0             0             0         0   \n\n   Z_CostContact  Z_Revenue  Response  \n0              3         11         1  \n1              3         11         0  \n2              3         11         0  \n3              3         11         0  \n4              3         11         0  \n\n[5 rows x 29 columns]",
      "text/html": "<div>\n<style scoped>\n    .dataframe tbody tr th:only-of-type {\n        vertical-align: middle;\n    }\n\n    .dataframe tbody tr th {\n        vertical-align: top;\n    }\n\n    .dataframe thead th {\n        text-align: right;\n    }\n</style>\n<table border=\"1\" class=\"dataframe\">\n  <thead>\n    <tr style=\"text-align: right;\">\n      <th></th>\n      <th>ID</th>\n      <th>Year_Birth</th>\n      <th>Education</th>\n      <th>Marital_Status</th>\n      <th>Income</th>\n      <th>Kidhome</th>\n      <th>Teenhome</th>\n      <th>Dt_Customer</th>\n      <th>Recency</th>\n      <th>WinesProducts</th>\n      <th>...</th>\n      <th>NumWebVisitsMonth</th>\n      <th>AcceptedCmp3</th>\n      <th>AcceptedCmp4</th>\n      <th>AcceptedCmp5</th>\n      <th>AcceptedCmp1</th>\n      <th>AcceptedCmp2</th>\n      <th>Complain</th>\n      <th>Z_CostContact</th>\n      <th>Z_Revenue</th>\n      <th>Response</th>\n    </tr>\n  </thead>\n  <tbody>\n    <tr>\n      <th>0</th>\n      <td>5524</td>\n      <td>1957</td>\n      <td>Graduation</td>\n      <td>Single</td>\n      <td>58138.0</td>\n      <td>0</td>\n      <td>0</td>\n      <td>2019-09-04</td>\n      <td>58</td>\n      <td>635</td>\n      <td>...</td>\n      <td>7</td>\n      <td>0</td>\n      <td>0</td>\n      <td>0</td>\n      <td>0</td>\n      <td>0</td>\n      <td>0</td>\n      <td>3</td>\n      <td>11</td>\n      <td>1</td>\n    </tr>\n    <tr>\n      <th>1</th>\n      <td>2174</td>\n      <td>1954</td>\n      <td>Graduation</td>\n      <td>Single</td>\n      <td>46344.0</td>\n      <td>1</td>\n      <td>1</td>\n      <td>2021-03-08</td>\n      <td>38</td>\n      <td>11</td>\n      <td>...</td>\n      <td>5</td>\n      <td>0</td>\n      <td>0</td>\n      <td>0</td>\n      <td>0</td>\n      <td>0</td>\n      <td>0</td>\n      <td>3</td>\n      <td>11</td>\n      <td>0</td>\n    </tr>\n    <tr>\n      <th>2</th>\n      <td>4141</td>\n      <td>1965</td>\n      <td>Graduation</td>\n      <td>Together</td>\n      <td>71613.0</td>\n      <td>0</td>\n      <td>0</td>\n      <td>2020-08-21</td>\n      <td>26</td>\n      <td>426</td>\n      <td>...</td>\n      <td>4</td>\n      <td>0</td>\n      <td>0</td>\n      <td>0</td>\n      <td>0</td>\n      <td>0</td>\n      <td>0</td>\n      <td>3</td>\n      <td>11</td>\n      <td>0</td>\n    </tr>\n    <tr>\n      <th>3</th>\n      <td>6182</td>\n      <td>1984</td>\n      <td>Graduation</td>\n      <td>Together</td>\n      <td>26646.0</td>\n      <td>1</td>\n      <td>0</td>\n      <td>2021-02-10</td>\n      <td>26</td>\n      <td>11</td>\n      <td>...</td>\n      <td>6</td>\n      <td>0</td>\n      <td>0</td>\n      <td>0</td>\n      <td>0</td>\n      <td>0</td>\n      <td>0</td>\n      <td>3</td>\n      <td>11</td>\n      <td>0</td>\n    </tr>\n    <tr>\n      <th>4</th>\n      <td>5324</td>\n      <td>1981</td>\n      <td>PhD</td>\n      <td>Married</td>\n      <td>58293.0</td>\n      <td>1</td>\n      <td>0</td>\n      <td>2021-01-19</td>\n      <td>94</td>\n      <td>173</td>\n      <td>...</td>\n      <td>5</td>\n      <td>0</td>\n      <td>0</td>\n      <td>0</td>\n      <td>0</td>\n      <td>0</td>\n      <td>0</td>\n      <td>3</td>\n      <td>11</td>\n      <td>0</td>\n    </tr>\n  </tbody>\n</table>\n<p>5 rows × 29 columns</p>\n</div>"
     },
     "execution_count": 673,
     "metadata": {},
     "output_type": "execute_result"
    }
   ],
   "source": [
    "customer_data.head()"
   ],
   "metadata": {
    "collapsed": false,
    "pycharm": {
     "name": "#%%\n"
    }
   }
  },
  {
   "cell_type": "code",
   "execution_count": 674,
   "outputs": [
    {
     "data": {
      "text/plain": "(2244, 29)"
     },
     "execution_count": 674,
     "metadata": {},
     "output_type": "execute_result"
    }
   ],
   "source": [
    "customer_data.shape"
   ],
   "metadata": {
    "collapsed": false,
    "pycharm": {
     "name": "#%%\n"
    }
   }
  },
  {
   "cell_type": "markdown",
   "source": [
    "# explain columns"
   ],
   "metadata": {
    "collapsed": false,
    "pycharm": {
     "name": "#%% md\n"
    }
   }
  },
  {
   "cell_type": "markdown",
   "source": [
    "#### NumCatalogPurchases - # of purchases made on the catalog\n",
    "#### NumStorePurchases - # of purchase made in store\n",
    "#### NumWebVisitsMonth - # of website visits in the last month\n",
    "#### AcceptedCmp1 - 1 if customer accepted the offer in the 1st campaign, 0 otherwise\n",
    "#### AcceptedCmp2 - 1 if customer accepted the offer in the 2nd campaign, 0 otherwise\n",
    "#### AcceptedCmp3 - 1 if customer accepted the offer in the 3rd campaign, 0 otherwise\n",
    "#### AcceptedCmp4 - 1 if customer accepted the offer in the 4th campaign, 0 otherwise\n",
    "#### AcceptedCmp5 - 1 if customer accepted the offer in the 5th campaign, 0 otherwise\n",
    "#### Response - 1 if customer accepted the offer in the last ID - Customer's unique identification\n",
    "#### Year_Birth - Customer's birth year\n",
    "#### Education - Customer's education\n",
    "#### Marital_Status - Customer's marital status\n",
    "#### Income - Customer's yearly household income\n",
    "#### Kidhome - # of kids in household\n",
    "#### Teenhome - # of teenagers in household\n",
    "#### Dt_Customer - Date of customer's enrollment with the company\n",
    "#### Recency - # of days since customer's last purchase\n",
    "#### MntWines - Amount spent on wine in the last 2 years\n",
    "#### MntFruits - Amount spent on fruit in the last 2 years\n",
    "#### MntMeatProducts - Amount spent on meat in the last 2 years\n",
    "#### MntFishProducts - Amount spent on fish in the last 2 years\n",
    "#### MntSweetProducts - Amount spent on sweet products in the last 2 years\n",
    "#### MntGoldProds - Amount spent on gold products in the last 2 years\n",
    "#### NumDealsPurchases - # of purchases made with a discount\n",
    "#### NumWebPurchases - # of purchases made on company wecampaign, 0 otherwise\n",
    "#### Complain - 1 if customer complained within the last 2 years\n",
    "#### Country - Country where the customer is located (not from)"
   ],
   "metadata": {
    "collapsed": false,
    "pycharm": {
     "name": "#%% md\n"
    }
   }
  },
  {
   "cell_type": "code",
   "execution_count": 675,
   "outputs": [
    {
     "data": {
      "text/plain": "(2244, 29)"
     },
     "execution_count": 675,
     "metadata": {},
     "output_type": "execute_result"
    }
   ],
   "source": [
    "customer_data.shape"
   ],
   "metadata": {
    "collapsed": false,
    "pycharm": {
     "name": "#%%\n"
    }
   }
  },
  {
   "cell_type": "code",
   "execution_count": 676,
   "outputs": [
    {
     "name": "stdout",
     "output_type": "stream",
     "text": [
      "<class 'pandas.core.frame.DataFrame'>\n",
      "RangeIndex: 2244 entries, 0 to 2243\n",
      "Data columns (total 29 columns):\n",
      " #   Column               Non-Null Count  Dtype  \n",
      "---  ------               --------------  -----  \n",
      " 0   ID                   2244 non-null   int64  \n",
      " 1   Year_Birth           2244 non-null   int64  \n",
      " 2   Education            2244 non-null   object \n",
      " 3   Marital_Status       2244 non-null   object \n",
      " 4   Income               2220 non-null   float64\n",
      " 5   Kidhome              2244 non-null   int64  \n",
      " 6   Teenhome             2244 non-null   int64  \n",
      " 7   Dt_Customer          2244 non-null   object \n",
      " 8   Recency              2244 non-null   int64  \n",
      " 9   WinesProducts        2244 non-null   int64  \n",
      " 10  FruitsProducts       2244 non-null   int64  \n",
      " 11  MeatProducts         2244 non-null   int64  \n",
      " 12  FishProducts         2244 non-null   int64  \n",
      " 13  SweetProducts        2244 non-null   int64  \n",
      " 14  GoldProducts         2244 non-null   int64  \n",
      " 15  NumDealsPurchases    2244 non-null   int64  \n",
      " 16  NumWebPurchases      2244 non-null   int64  \n",
      " 17  NumCatalogPurchases  2244 non-null   int64  \n",
      " 18  NumStorePurchases    2244 non-null   int64  \n",
      " 19  NumWebVisitsMonth    2244 non-null   int64  \n",
      " 20  AcceptedCmp3         2244 non-null   int64  \n",
      " 21  AcceptedCmp4         2244 non-null   int64  \n",
      " 22  AcceptedCmp5         2244 non-null   int64  \n",
      " 23  AcceptedCmp1         2244 non-null   int64  \n",
      " 24  AcceptedCmp2         2244 non-null   int64  \n",
      " 25  Complain             2244 non-null   int64  \n",
      " 26  Z_CostContact        2244 non-null   int64  \n",
      " 27  Z_Revenue            2244 non-null   int64  \n",
      " 28  Response             2244 non-null   int64  \n",
      "dtypes: float64(1), int64(25), object(3)\n",
      "memory usage: 508.5+ KB\n"
     ]
    }
   ],
   "source": [
    "customer_data.info()"
   ],
   "metadata": {
    "collapsed": false,
    "pycharm": {
     "name": "#%%\n"
    }
   }
  },
  {
   "cell_type": "code",
   "execution_count": 677,
   "outputs": [
    {
     "data": {
      "text/plain": "ID                      0\nYear_Birth              0\nEducation               0\nMarital_Status          0\nIncome                 24\nKidhome                 0\nTeenhome                0\nDt_Customer             0\nRecency                 0\nWinesProducts           0\nFruitsProducts          0\nMeatProducts            0\nFishProducts            0\nSweetProducts           0\nGoldProducts            0\nNumDealsPurchases       0\nNumWebPurchases         0\nNumCatalogPurchases     0\nNumStorePurchases       0\nNumWebVisitsMonth       0\nAcceptedCmp3            0\nAcceptedCmp4            0\nAcceptedCmp5            0\nAcceptedCmp1            0\nAcceptedCmp2            0\nComplain                0\nZ_CostContact           0\nZ_Revenue               0\nResponse                0\ndtype: int64"
     },
     "execution_count": 677,
     "metadata": {},
     "output_type": "execute_result"
    }
   ],
   "source": [
    "#Income column has null values..\n",
    "customer_data.isnull().sum()"
   ],
   "metadata": {
    "collapsed": false,
    "pycharm": {
     "name": "#%%\n"
    }
   }
  },
  {
   "cell_type": "code",
   "execution_count": 678,
   "outputs": [],
   "source": [
    "# \"inplace\" = True, to make changes in actual data..\n",
    "customer_data.dropna(axis = 0, inplace = True)\n"
   ],
   "metadata": {
    "collapsed": false,
    "pycharm": {
     "name": "#%%\n"
    }
   }
  },
  {
   "cell_type": "code",
   "execution_count": 679,
   "outputs": [
    {
     "data": {
      "text/plain": "                      count          mean           std     min       25%  \\\nID                   2220.0   5595.278829   3250.537882     0.0   2823.25   \nYear_Birth           2220.0   1968.835135     11.979772  1893.0   1959.00   \nIncome               2220.0  53327.439640  35769.863967  1730.0  35335.50   \nKidhome              2220.0      0.442793      0.536934     0.0      0.00   \nTeenhome             2220.0      0.504505      0.544113     0.0      0.00   \nRecency              2220.0     48.965766     28.943290     0.0     24.00   \nWinesProducts        2220.0    304.558108    337.257701     0.0     23.00   \nFruitsProducts       2220.0     26.333784     39.761488     0.0      2.00   \nMeatProducts         2220.0    166.727477    224.170148     0.0     16.00   \nFishProducts         2220.0     37.584234     54.717156     0.0      3.00   \nSweetProducts        2220.0     26.981982     41.049862     0.0      1.00   \nGoldProducts         2220.0     43.907658     51.786446     0.0      9.00   \nNumDealsPurchases    2220.0      2.326577      1.923296     0.0      1.00   \nNumWebPurchases      2220.0      4.083333      2.738866     0.0      2.00   \nNumCatalogPurchases  2220.0      2.668018      2.924954     0.0      0.00   \nNumStorePurchases    2220.0      5.795946      3.250026     0.0      3.00   \nNumWebVisitsMonth    2220.0      5.320270      2.423344     0.0      3.00   \nAcceptedCmp3         2220.0      0.073423      0.260889     0.0      0.00   \nAcceptedCmp4         2220.0      0.073874      0.261624     0.0      0.00   \nAcceptedCmp5         2220.0      0.072973      0.260151     0.0      0.00   \nAcceptedCmp1         2220.0      0.063964      0.244744     0.0      0.00   \nAcceptedCmp2         2220.0      0.013514      0.115486     0.0      0.00   \nComplain             2220.0      0.009459      0.096820     0.0      0.00   \nZ_CostContact        2220.0      3.000000      0.000000     3.0      3.00   \nZ_Revenue            2220.0     11.000000      0.000000    11.0     11.00   \nResponse             2220.0      0.150000      0.357152     0.0      0.00   \n\n                         50%       75%       max  \nID                    5482.5   8433.75   11191.0  \nYear_Birth            1970.0   1977.00    1996.0  \nIncome               51411.5  68655.50  667456.0  \nKidhome                  0.0      1.00       2.0  \nTeenhome                 0.0      1.00       2.0  \nRecency                 49.0     74.00      99.0  \nWinesProducts          173.5    505.00    1493.0  \nFruitsProducts           8.0     33.00     199.0  \nMeatProducts            68.0    232.00    1725.0  \nFishProducts            12.0     50.00     259.0  \nSweetProducts            8.0     33.00     262.0  \nGoldProducts            24.0     56.00     321.0  \nNumDealsPurchases        2.0      3.00      15.0  \nNumWebPurchases          4.0      6.00      27.0  \nNumCatalogPurchases      2.0      4.00      28.0  \nNumStorePurchases        5.0      8.00      13.0  \nNumWebVisitsMonth        6.0      7.00      20.0  \nAcceptedCmp3             0.0      0.00       1.0  \nAcceptedCmp4             0.0      0.00       1.0  \nAcceptedCmp5             0.0      0.00       1.0  \nAcceptedCmp1             0.0      0.00       1.0  \nAcceptedCmp2             0.0      0.00       1.0  \nComplain                 0.0      0.00       1.0  \nZ_CostContact            3.0      3.00       3.0  \nZ_Revenue               11.0     11.00      11.0  \nResponse                 0.0      0.00       1.0  ",
      "text/html": "<div>\n<style scoped>\n    .dataframe tbody tr th:only-of-type {\n        vertical-align: middle;\n    }\n\n    .dataframe tbody tr th {\n        vertical-align: top;\n    }\n\n    .dataframe thead th {\n        text-align: right;\n    }\n</style>\n<table border=\"1\" class=\"dataframe\">\n  <thead>\n    <tr style=\"text-align: right;\">\n      <th></th>\n      <th>count</th>\n      <th>mean</th>\n      <th>std</th>\n      <th>min</th>\n      <th>25%</th>\n      <th>50%</th>\n      <th>75%</th>\n      <th>max</th>\n    </tr>\n  </thead>\n  <tbody>\n    <tr>\n      <th>ID</th>\n      <td>2220.0</td>\n      <td>5595.278829</td>\n      <td>3250.537882</td>\n      <td>0.0</td>\n      <td>2823.25</td>\n      <td>5482.5</td>\n      <td>8433.75</td>\n      <td>11191.0</td>\n    </tr>\n    <tr>\n      <th>Year_Birth</th>\n      <td>2220.0</td>\n      <td>1968.835135</td>\n      <td>11.979772</td>\n      <td>1893.0</td>\n      <td>1959.00</td>\n      <td>1970.0</td>\n      <td>1977.00</td>\n      <td>1996.0</td>\n    </tr>\n    <tr>\n      <th>Income</th>\n      <td>2220.0</td>\n      <td>53327.439640</td>\n      <td>35769.863967</td>\n      <td>1730.0</td>\n      <td>35335.50</td>\n      <td>51411.5</td>\n      <td>68655.50</td>\n      <td>667456.0</td>\n    </tr>\n    <tr>\n      <th>Kidhome</th>\n      <td>2220.0</td>\n      <td>0.442793</td>\n      <td>0.536934</td>\n      <td>0.0</td>\n      <td>0.00</td>\n      <td>0.0</td>\n      <td>1.00</td>\n      <td>2.0</td>\n    </tr>\n    <tr>\n      <th>Teenhome</th>\n      <td>2220.0</td>\n      <td>0.504505</td>\n      <td>0.544113</td>\n      <td>0.0</td>\n      <td>0.00</td>\n      <td>0.0</td>\n      <td>1.00</td>\n      <td>2.0</td>\n    </tr>\n    <tr>\n      <th>Recency</th>\n      <td>2220.0</td>\n      <td>48.965766</td>\n      <td>28.943290</td>\n      <td>0.0</td>\n      <td>24.00</td>\n      <td>49.0</td>\n      <td>74.00</td>\n      <td>99.0</td>\n    </tr>\n    <tr>\n      <th>WinesProducts</th>\n      <td>2220.0</td>\n      <td>304.558108</td>\n      <td>337.257701</td>\n      <td>0.0</td>\n      <td>23.00</td>\n      <td>173.5</td>\n      <td>505.00</td>\n      <td>1493.0</td>\n    </tr>\n    <tr>\n      <th>FruitsProducts</th>\n      <td>2220.0</td>\n      <td>26.333784</td>\n      <td>39.761488</td>\n      <td>0.0</td>\n      <td>2.00</td>\n      <td>8.0</td>\n      <td>33.00</td>\n      <td>199.0</td>\n    </tr>\n    <tr>\n      <th>MeatProducts</th>\n      <td>2220.0</td>\n      <td>166.727477</td>\n      <td>224.170148</td>\n      <td>0.0</td>\n      <td>16.00</td>\n      <td>68.0</td>\n      <td>232.00</td>\n      <td>1725.0</td>\n    </tr>\n    <tr>\n      <th>FishProducts</th>\n      <td>2220.0</td>\n      <td>37.584234</td>\n      <td>54.717156</td>\n      <td>0.0</td>\n      <td>3.00</td>\n      <td>12.0</td>\n      <td>50.00</td>\n      <td>259.0</td>\n    </tr>\n    <tr>\n      <th>SweetProducts</th>\n      <td>2220.0</td>\n      <td>26.981982</td>\n      <td>41.049862</td>\n      <td>0.0</td>\n      <td>1.00</td>\n      <td>8.0</td>\n      <td>33.00</td>\n      <td>262.0</td>\n    </tr>\n    <tr>\n      <th>GoldProducts</th>\n      <td>2220.0</td>\n      <td>43.907658</td>\n      <td>51.786446</td>\n      <td>0.0</td>\n      <td>9.00</td>\n      <td>24.0</td>\n      <td>56.00</td>\n      <td>321.0</td>\n    </tr>\n    <tr>\n      <th>NumDealsPurchases</th>\n      <td>2220.0</td>\n      <td>2.326577</td>\n      <td>1.923296</td>\n      <td>0.0</td>\n      <td>1.00</td>\n      <td>2.0</td>\n      <td>3.00</td>\n      <td>15.0</td>\n    </tr>\n    <tr>\n      <th>NumWebPurchases</th>\n      <td>2220.0</td>\n      <td>4.083333</td>\n      <td>2.738866</td>\n      <td>0.0</td>\n      <td>2.00</td>\n      <td>4.0</td>\n      <td>6.00</td>\n      <td>27.0</td>\n    </tr>\n    <tr>\n      <th>NumCatalogPurchases</th>\n      <td>2220.0</td>\n      <td>2.668018</td>\n      <td>2.924954</td>\n      <td>0.0</td>\n      <td>0.00</td>\n      <td>2.0</td>\n      <td>4.00</td>\n      <td>28.0</td>\n    </tr>\n    <tr>\n      <th>NumStorePurchases</th>\n      <td>2220.0</td>\n      <td>5.795946</td>\n      <td>3.250026</td>\n      <td>0.0</td>\n      <td>3.00</td>\n      <td>5.0</td>\n      <td>8.00</td>\n      <td>13.0</td>\n    </tr>\n    <tr>\n      <th>NumWebVisitsMonth</th>\n      <td>2220.0</td>\n      <td>5.320270</td>\n      <td>2.423344</td>\n      <td>0.0</td>\n      <td>3.00</td>\n      <td>6.0</td>\n      <td>7.00</td>\n      <td>20.0</td>\n    </tr>\n    <tr>\n      <th>AcceptedCmp3</th>\n      <td>2220.0</td>\n      <td>0.073423</td>\n      <td>0.260889</td>\n      <td>0.0</td>\n      <td>0.00</td>\n      <td>0.0</td>\n      <td>0.00</td>\n      <td>1.0</td>\n    </tr>\n    <tr>\n      <th>AcceptedCmp4</th>\n      <td>2220.0</td>\n      <td>0.073874</td>\n      <td>0.261624</td>\n      <td>0.0</td>\n      <td>0.00</td>\n      <td>0.0</td>\n      <td>0.00</td>\n      <td>1.0</td>\n    </tr>\n    <tr>\n      <th>AcceptedCmp5</th>\n      <td>2220.0</td>\n      <td>0.072973</td>\n      <td>0.260151</td>\n      <td>0.0</td>\n      <td>0.00</td>\n      <td>0.0</td>\n      <td>0.00</td>\n      <td>1.0</td>\n    </tr>\n    <tr>\n      <th>AcceptedCmp1</th>\n      <td>2220.0</td>\n      <td>0.063964</td>\n      <td>0.244744</td>\n      <td>0.0</td>\n      <td>0.00</td>\n      <td>0.0</td>\n      <td>0.00</td>\n      <td>1.0</td>\n    </tr>\n    <tr>\n      <th>AcceptedCmp2</th>\n      <td>2220.0</td>\n      <td>0.013514</td>\n      <td>0.115486</td>\n      <td>0.0</td>\n      <td>0.00</td>\n      <td>0.0</td>\n      <td>0.00</td>\n      <td>1.0</td>\n    </tr>\n    <tr>\n      <th>Complain</th>\n      <td>2220.0</td>\n      <td>0.009459</td>\n      <td>0.096820</td>\n      <td>0.0</td>\n      <td>0.00</td>\n      <td>0.0</td>\n      <td>0.00</td>\n      <td>1.0</td>\n    </tr>\n    <tr>\n      <th>Z_CostContact</th>\n      <td>2220.0</td>\n      <td>3.000000</td>\n      <td>0.000000</td>\n      <td>3.0</td>\n      <td>3.00</td>\n      <td>3.0</td>\n      <td>3.00</td>\n      <td>3.0</td>\n    </tr>\n    <tr>\n      <th>Z_Revenue</th>\n      <td>2220.0</td>\n      <td>11.000000</td>\n      <td>0.000000</td>\n      <td>11.0</td>\n      <td>11.00</td>\n      <td>11.0</td>\n      <td>11.00</td>\n      <td>11.0</td>\n    </tr>\n    <tr>\n      <th>Response</th>\n      <td>2220.0</td>\n      <td>0.150000</td>\n      <td>0.357152</td>\n      <td>0.0</td>\n      <td>0.00</td>\n      <td>0.0</td>\n      <td>0.00</td>\n      <td>1.0</td>\n    </tr>\n  </tbody>\n</table>\n</div>"
     },
     "execution_count": 679,
     "metadata": {},
     "output_type": "execute_result"
    }
   ],
   "source": [
    "customer_data.describe().T"
   ],
   "metadata": {
    "collapsed": false,
    "pycharm": {
     "name": "#%%\n"
    }
   }
  },
  {
   "cell_type": "code",
   "execution_count": 680,
   "outputs": [],
   "source": [
    "#category_cols contain categorical variables\n",
    "cat_cols=['Education', 'Marital_Status', 'AcceptedCmp3', 'AcceptedCmp4', 'AcceptedCmp5', 'AcceptedCmp1',\n",
    "       'AcceptedCmp2', 'Complain', '']"
   ],
   "metadata": {
    "collapsed": false,
    "pycharm": {
     "name": "#%%\n"
    }
   }
  },
  {
   "cell_type": "code",
   "execution_count": 681,
   "outputs": [
    {
     "name": "stdout",
     "output_type": "stream",
     "text": [
      "Education\n",
      "Graduation    1120\n",
      "PhD            481\n",
      "Master         365\n",
      "2n Cycle       200\n",
      "Basic           54\n",
      "Name: Education, dtype: int64\n",
      "----------------------------------------\n",
      "Marital_Status\n",
      "Married     857\n",
      "Together    577\n",
      "Single      471\n",
      "Divorced    232\n",
      "Widow        76\n",
      "Alone         3\n",
      "Absurd        2\n",
      "YOLO          2\n",
      "Name: Marital_Status, dtype: int64\n",
      "----------------------------------------\n",
      "AcceptedCmp3\n",
      "0    2057\n",
      "1     163\n",
      "Name: AcceptedCmp3, dtype: int64\n",
      "----------------------------------------\n",
      "AcceptedCmp4\n",
      "0    2056\n",
      "1     164\n",
      "Name: AcceptedCmp4, dtype: int64\n",
      "----------------------------------------\n",
      "AcceptedCmp5\n",
      "0    2058\n",
      "1     162\n",
      "Name: AcceptedCmp5, dtype: int64\n",
      "----------------------------------------\n",
      "AcceptedCmp1\n",
      "0    2078\n",
      "1     142\n",
      "Name: AcceptedCmp1, dtype: int64\n",
      "----------------------------------------\n",
      "AcceptedCmp2\n",
      "0    2190\n",
      "1      30\n",
      "Name: AcceptedCmp2, dtype: int64\n",
      "----------------------------------------\n",
      "Complain\n",
      "0    2199\n",
      "1      21\n",
      "Name: Complain, dtype: int64\n",
      "----------------------------------------\n"
     ]
    }
   ],
   "source": [
    "# Printing the count of each unique value in each column\n",
    "for column in cat_cols:\n",
    "    print(column)\n",
    "    print(customer_data[column].value_counts())\n",
    "    print(\"-\" * 40)# Printing the count of each unique value in each column\n",
    "for column in cat_cols:\n",
    "    print(column)\n",
    "    print(customer_data[column].value_counts())\n",
    "    print(\"-\" * 40)"
   ],
   "metadata": {
    "collapsed": false,
    "pycharm": {
     "name": "#%%\n"
    }
   }
  },
  {
   "cell_type": "markdown",
   "source": [
    "### In education, 2n cycle and Master means the same thing. We can combine these two categories.\n",
    "### There are many categories in marital status. We can combine the category 'Alone' with 'Single'.\n",
    "### It is not clear from the data that what do the terms 'Absurd', and 'YOLO' actually mean. We can combine these categories to make a new category - 'Others'.\n",
    "### There are only 21 customers who complained in the last two years.\n",
    "### The most common educational status is Graduation\n",
    "### The most common marital status is Married"
   ],
   "metadata": {
    "collapsed": false,
    "pycharm": {
     "name": "#%% md\n"
    }
   }
  },
  {
   "cell_type": "code",
   "execution_count": 682,
   "outputs": [],
   "source": [
    "# Replacing 2n Cycle with Master\n",
    "\n",
    "customer_data[\"Education\"].replace(\"2n Cycle\", \"Master\", inplace=True)\n",
    "# Replacing YOLO, Alone, Absurd with Single\n",
    "\n",
    "customer_data[\"Marital_Status\"].replace([\"Alone\", \"Absurd\", \"YOLO\"], \"Single\", inplace=True)\n",
    "customer_data['Marital_Status'].replace(\"Together\", \"Married\", inplace=True)"
   ],
   "metadata": {
    "collapsed": false,
    "pycharm": {
     "name": "#%%\n"
    }
   }
  },
  {
   "cell_type": "code",
   "execution_count": 683,
   "outputs": [],
   "source": [
    "# تغیر مقادیرMarital_Status به Alone , In couple\n",
    "customer_data['Marital_Status'] = customer_data['Marital_Status'].replace(\n",
    "    {'Divorced': 'Alone', 'Single': 'Alone', 'Married': 'In couple',\n",
    "     'Together': 'In couple', 'others': 'Alone', 'Widow': 'Alone'})\n",
    "\n",
    "# Education => Postgraduate ,  Undergraduate\n",
    "customer_data['Education'] = customer_data['Education'].replace(\n",
    "    {'Basic': 'Undergraduate',\n",
    "     'Graduation': 'Postgraduate', 'Master': 'Postgraduate',\n",
    "     'PhD': 'Postgraduate'})\n",
    "\n",
    "# محاسبه مجمون نوجوانان و کودکان\n",
    "customer_data['Children'] = customer_data['Kidhome'] + customer_data['Teenhome']\n",
    "# فرزند داشتن یا نداشن\n",
    "customer_data['Has_child'] = np.where(customer_data.Children > 0, 'Has child', 'No child')\n",
    "customer_data['Children'].replace(\n",
    "    {3: \"3 children\", 2: '2 children', 1: '1 child', 0: \"No child\"},\n",
    "    inplace=True)"
   ],
   "metadata": {
    "collapsed": false,
    "pycharm": {
     "name": "#%%\n"
    }
   }
  },
  {
   "cell_type": "code",
   "execution_count": 684,
   "outputs": [
    {
     "data": {
      "text/plain": "       ID  Year_Birth      Education Marital_Status   Income  Kidhome  \\\n0    5524        1957   Postgraduate          Alone  58138.0        0   \n1    2174        1954   Postgraduate          Alone  46344.0        1   \n2    4141        1965   Postgraduate      In couple  71613.0        0   \n3    6182        1984   Postgraduate      In couple  26646.0        1   \n4    5324        1981   Postgraduate      In couple  58293.0        1   \n5    7446        1967   Postgraduate      In couple  62513.0        0   \n6     965        1971   Postgraduate          Alone  55635.0        0   \n7    6177        1985   Postgraduate      In couple  33454.0        1   \n8    4855        1974   Postgraduate      In couple  30351.0        1   \n9    5899        1950   Postgraduate      In couple   5648.0        1   \n11    387        1976  Undergraduate      In couple   7500.0        0   \n12   2125        1959   Postgraduate          Alone  63033.0        0   \n13   8180        1952   Postgraduate          Alone  59354.0        1   \n14   2569        1987   Postgraduate      In couple  17323.0        0   \n15   2114        1946   Postgraduate          Alone  82800.0        0   \n16   9736        1980   Postgraduate      In couple  41850.0        1   \n17   4939        1946   Postgraduate      In couple  37760.0        0   \n18   6565        1949   Postgraduate      In couple  76995.0        0   \n19   2278        1985   Postgraduate          Alone  33812.0        1   \n20   9360        1982   Postgraduate      In couple  37040.0        0   \n21   5376        1979   Postgraduate      In couple   2447.0        1   \n22   1993        1949   Postgraduate      In couple  58607.0        0   \n23   4047        1954   Postgraduate      In couple  65324.0        0   \n24   1409        1951   Postgraduate      In couple  40689.0        0   \n25   7892        1969   Postgraduate          Alone  18589.0        0   \n26   2404        1976   Postgraduate      In couple  53359.0        1   \n28   9422        1989   Postgraduate      In couple  38360.0        1   \n29   1966        1965   Postgraduate      In couple  84618.0        0   \n30   6864        1989   Postgraduate          Alone  10979.0        0   \n31   3033        1963   Postgraduate      In couple  38620.0        0   \n32   5710        1970   Postgraduate      In couple  40548.0        0   \n33   7373        1952   Postgraduate          Alone  46610.0        0   \n34   8755        1946   Postgraduate      In couple  68657.0        0   \n35  10738        1951   Postgraduate          Alone  49389.0        1   \n36   4339        1970   Postgraduate      In couple  67353.0        0   \n37  10755        1976   Postgraduate      In couple  23718.0        1   \n38   8595        1973   Postgraduate          Alone  42429.0        0   \n39   2968        1943   Postgraduate          Alone  48948.0        0   \n40   8601        1980   Postgraduate      In couple  80011.0        0   \n41    503        1985   Postgraduate      In couple  20559.0        1   \n42   8430        1957   Postgraduate      In couple  21994.0        0   \n44   2139        1975   Postgraduate      In couple   7500.0        1   \n45   1371        1976   Postgraduate          Alone  79941.0        0   \n46   9909        1996   Postgraduate      In couple   7500.0        0   \n47   7286        1968   Postgraduate      In couple  41728.0        1   \n49   6566        1954   Postgraduate      In couple  72550.0        1   \n50   8614        1957   Postgraduate          Alone  65486.0        0   \n51   4114        1964   Postgraduate      In couple  79143.0        0   \n52   1331        1977   Postgraduate          Alone  35790.0        1   \n53   2225        1977   Postgraduate          Alone  82582.0        0   \n\n    Teenhome Dt_Customer  Recency  WinesProducts  ...  AcceptedCmp4  \\\n0          0  2019-09-04       58            635  ...             0   \n1          1  2021-03-08       38             11  ...             0   \n2          0  2020-08-21       26            426  ...             0   \n3          0  2021-02-10       26             11  ...             0   \n4          0  2021-01-19       94            173  ...             0   \n5          1  2020-09-09       16            520  ...             0   \n6          1  2019-11-13       34            235  ...             0   \n7          0  2020-05-08       32             76  ...             0   \n8          0  2020-06-06       19             14  ...             0   \n9          1  2021-03-13       68             28  ...             0   \n11         0  2019-11-13       59              6  ...             0   \n12         0  2020-11-15       82            194  ...             0   \n13         1  2020-11-15       53            233  ...             0   \n14         0  2019-10-10       38              3  ...             0   \n15         0  2019-11-24       23           1006  ...             0   \n16         1  2019-12-24       51             53  ...             0   \n17         0  2019-08-31       20             84  ...             0   \n18         1  2020-03-28       91           1012  ...             0   \n19         0  2019-11-03       86              4  ...             0   \n20         0  2019-08-08       41             86  ...             0   \n21         0  2020-01-06       42              1  ...             0   \n22         1  2019-12-23       63            867  ...             1   \n23         1  2021-01-11        0            384  ...             0   \n24         1  2020-03-18       69            270  ...             0   \n25         0  2020-01-02       89              6  ...             0   \n26         1  2020-05-27        4            173  ...             0   \n28         0  2020-05-31       26             36  ...             0   \n29         0  2020-11-22       96            684  ...             0   \n30         0  2021-05-22       34              8  ...             0   \n31         0  2020-05-11       56            112  ...             0   \n32         1  2019-10-10       31            110  ...             1   \n33         2  2019-10-29        8             96  ...             0   \n34         0  2020-02-20        4            482  ...             0   \n35         1  2020-08-29       55             40  ...             0   \n36         1  2020-12-31       37            702  ...             0   \n37         0  2020-09-02       76              6  ...             0   \n38         1  2021-02-11       99             55  ...             0   \n39         0  2020-02-01       53            437  ...             0   \n40         1  2020-04-29        3            421  ...             0   \n41         0  2020-03-12       88             13  ...             0   \n42         1  2019-12-24        4              9  ...             0   \n44         0  2020-10-02       19              3  ...             0   \n45         0  2021-06-28       72            123  ...             0   \n46         0  2019-11-09       24              3  ...             0   \n47         0  2020-05-24       92             13  ...             0   \n49         1  2019-11-08       39            826  ...             0   \n50         1  2021-05-12       29            245  ...             0   \n51         0  2019-08-11        2            650  ...             0   \n52         0  2020-01-02       54             12  ...             0   \n53         0  2021-06-07       54            510  ...             0   \n\n    AcceptedCmp5  AcceptedCmp1  AcceptedCmp2  Complain  Z_CostContact  \\\n0              0             0             0         0              3   \n1              0             0             0         0              3   \n2              0             0             0         0              3   \n3              0             0             0         0              3   \n4              0             0             0         0              3   \n5              0             0             0         0              3   \n6              0             0             0         0              3   \n7              0             0             0         0              3   \n8              0             0             0         0              3   \n9              0             0             0         0              3   \n11             0             0             0         0              3   \n12             0             0             0         0              3   \n13             0             0             0         0              3   \n14             0             0             0         0              3   \n15             1             1             0         0              3   \n16             0             0             0         0              3   \n17             0             0             0         0              3   \n18             0             1             0         0              3   \n19             0             0             0         0              3   \n20             0             0             0         0              3   \n21             0             0             0         0              3   \n22             0             0             0         0              3   \n23             0             0             0         0              3   \n24             0             0             0         0              3   \n25             0             0             0         0              3   \n26             0             0             0         0              3   \n28             0             0             0         0              3   \n29             1             0             0         0              3   \n30             0             0             0         0              3   \n31             0             0             0         0              3   \n32             0             0             0         0              3   \n33             0             0             0         0              3   \n34             0             0             0         0              3   \n35             0             0             0         0              3   \n36             0             0             0         0              3   \n37             0             0             0         0              3   \n38             0             0             0         0              3   \n39             0             0             0         0              3   \n40             0             0             0         0              3   \n41             0             0             0         0              3   \n42             0             0             0         0              3   \n44             0             0             0         0              3   \n45             0             0             0         0              3   \n46             0             0             0         0              3   \n47             0             0             0         0              3   \n49             0             0             0         0              3   \n50             0             0             0         0              3   \n51             0             0             0         0              3   \n52             0             0             0         0              3   \n53             0             1             0         0              3   \n\n    Z_Revenue  Response    Children  Has_child  \n0          11         1    No child   No child  \n1          11         0  2 children  Has child  \n2          11         0    No child   No child  \n3          11         0     1 child  Has child  \n4          11         0     1 child  Has child  \n5          11         0     1 child  Has child  \n6          11         0     1 child  Has child  \n7          11         0     1 child  Has child  \n8          11         1     1 child  Has child  \n9          11         0  2 children  Has child  \n11         11         0    No child   No child  \n12         11         0    No child   No child  \n13         11         0  2 children  Has child  \n14         11         0    No child   No child  \n15         11         1    No child   No child  \n16         11         0  2 children  Has child  \n17         11         0    No child   No child  \n18         11         0     1 child  Has child  \n19         11         0     1 child  Has child  \n20         11         0    No child   No child  \n21         11         0     1 child  Has child  \n22         11         0     1 child  Has child  \n23         11         0     1 child  Has child  \n24         11         0     1 child  Has child  \n25         11         0    No child   No child  \n26         11         0  2 children  Has child  \n28         11         0     1 child  Has child  \n29         11         0    No child   No child  \n30         11         0    No child   No child  \n31         11         0    No child   No child  \n32         11         0     1 child  Has child  \n33         11         1  2 children  Has child  \n34         11         0    No child   No child  \n35         11         0  2 children  Has child  \n36         11         0     1 child  Has child  \n37         11         0     1 child  Has child  \n38         11         0     1 child  Has child  \n39         11         1    No child   No child  \n40         11         0     1 child  Has child  \n41         11         0     1 child  Has child  \n42         11         0     1 child  Has child  \n44         11         0     1 child  Has child  \n45         11         0    No child   No child  \n46         11         1    No child   No child  \n47         11         0     1 child  Has child  \n49         11         0  2 children  Has child  \n50         11         0     1 child  Has child  \n51         11         0    No child   No child  \n52         11         0     1 child  Has child  \n53         11         1    No child   No child  \n\n[50 rows x 31 columns]",
      "text/html": "<div>\n<style scoped>\n    .dataframe tbody tr th:only-of-type {\n        vertical-align: middle;\n    }\n\n    .dataframe tbody tr th {\n        vertical-align: top;\n    }\n\n    .dataframe thead th {\n        text-align: right;\n    }\n</style>\n<table border=\"1\" class=\"dataframe\">\n  <thead>\n    <tr style=\"text-align: right;\">\n      <th></th>\n      <th>ID</th>\n      <th>Year_Birth</th>\n      <th>Education</th>\n      <th>Marital_Status</th>\n      <th>Income</th>\n      <th>Kidhome</th>\n      <th>Teenhome</th>\n      <th>Dt_Customer</th>\n      <th>Recency</th>\n      <th>WinesProducts</th>\n      <th>...</th>\n      <th>AcceptedCmp4</th>\n      <th>AcceptedCmp5</th>\n      <th>AcceptedCmp1</th>\n      <th>AcceptedCmp2</th>\n      <th>Complain</th>\n      <th>Z_CostContact</th>\n      <th>Z_Revenue</th>\n      <th>Response</th>\n      <th>Children</th>\n      <th>Has_child</th>\n    </tr>\n  </thead>\n  <tbody>\n    <tr>\n      <th>0</th>\n      <td>5524</td>\n      <td>1957</td>\n      <td>Postgraduate</td>\n      <td>Alone</td>\n      <td>58138.0</td>\n      <td>0</td>\n      <td>0</td>\n      <td>2019-09-04</td>\n      <td>58</td>\n      <td>635</td>\n      <td>...</td>\n      <td>0</td>\n      <td>0</td>\n      <td>0</td>\n      <td>0</td>\n      <td>0</td>\n      <td>3</td>\n      <td>11</td>\n      <td>1</td>\n      <td>No child</td>\n      <td>No child</td>\n    </tr>\n    <tr>\n      <th>1</th>\n      <td>2174</td>\n      <td>1954</td>\n      <td>Postgraduate</td>\n      <td>Alone</td>\n      <td>46344.0</td>\n      <td>1</td>\n      <td>1</td>\n      <td>2021-03-08</td>\n      <td>38</td>\n      <td>11</td>\n      <td>...</td>\n      <td>0</td>\n      <td>0</td>\n      <td>0</td>\n      <td>0</td>\n      <td>0</td>\n      <td>3</td>\n      <td>11</td>\n      <td>0</td>\n      <td>2 children</td>\n      <td>Has child</td>\n    </tr>\n    <tr>\n      <th>2</th>\n      <td>4141</td>\n      <td>1965</td>\n      <td>Postgraduate</td>\n      <td>In couple</td>\n      <td>71613.0</td>\n      <td>0</td>\n      <td>0</td>\n      <td>2020-08-21</td>\n      <td>26</td>\n      <td>426</td>\n      <td>...</td>\n      <td>0</td>\n      <td>0</td>\n      <td>0</td>\n      <td>0</td>\n      <td>0</td>\n      <td>3</td>\n      <td>11</td>\n      <td>0</td>\n      <td>No child</td>\n      <td>No child</td>\n    </tr>\n    <tr>\n      <th>3</th>\n      <td>6182</td>\n      <td>1984</td>\n      <td>Postgraduate</td>\n      <td>In couple</td>\n      <td>26646.0</td>\n      <td>1</td>\n      <td>0</td>\n      <td>2021-02-10</td>\n      <td>26</td>\n      <td>11</td>\n      <td>...</td>\n      <td>0</td>\n      <td>0</td>\n      <td>0</td>\n      <td>0</td>\n      <td>0</td>\n      <td>3</td>\n      <td>11</td>\n      <td>0</td>\n      <td>1 child</td>\n      <td>Has child</td>\n    </tr>\n    <tr>\n      <th>4</th>\n      <td>5324</td>\n      <td>1981</td>\n      <td>Postgraduate</td>\n      <td>In couple</td>\n      <td>58293.0</td>\n      <td>1</td>\n      <td>0</td>\n      <td>2021-01-19</td>\n      <td>94</td>\n      <td>173</td>\n      <td>...</td>\n      <td>0</td>\n      <td>0</td>\n      <td>0</td>\n      <td>0</td>\n      <td>0</td>\n      <td>3</td>\n      <td>11</td>\n      <td>0</td>\n      <td>1 child</td>\n      <td>Has child</td>\n    </tr>\n    <tr>\n      <th>5</th>\n      <td>7446</td>\n      <td>1967</td>\n      <td>Postgraduate</td>\n      <td>In couple</td>\n      <td>62513.0</td>\n      <td>0</td>\n      <td>1</td>\n      <td>2020-09-09</td>\n      <td>16</td>\n      <td>520</td>\n      <td>...</td>\n      <td>0</td>\n      <td>0</td>\n      <td>0</td>\n      <td>0</td>\n      <td>0</td>\n      <td>3</td>\n      <td>11</td>\n      <td>0</td>\n      <td>1 child</td>\n      <td>Has child</td>\n    </tr>\n    <tr>\n      <th>6</th>\n      <td>965</td>\n      <td>1971</td>\n      <td>Postgraduate</td>\n      <td>Alone</td>\n      <td>55635.0</td>\n      <td>0</td>\n      <td>1</td>\n      <td>2019-11-13</td>\n      <td>34</td>\n      <td>235</td>\n      <td>...</td>\n      <td>0</td>\n      <td>0</td>\n      <td>0</td>\n      <td>0</td>\n      <td>0</td>\n      <td>3</td>\n      <td>11</td>\n      <td>0</td>\n      <td>1 child</td>\n      <td>Has child</td>\n    </tr>\n    <tr>\n      <th>7</th>\n      <td>6177</td>\n      <td>1985</td>\n      <td>Postgraduate</td>\n      <td>In couple</td>\n      <td>33454.0</td>\n      <td>1</td>\n      <td>0</td>\n      <td>2020-05-08</td>\n      <td>32</td>\n      <td>76</td>\n      <td>...</td>\n      <td>0</td>\n      <td>0</td>\n      <td>0</td>\n      <td>0</td>\n      <td>0</td>\n      <td>3</td>\n      <td>11</td>\n      <td>0</td>\n      <td>1 child</td>\n      <td>Has child</td>\n    </tr>\n    <tr>\n      <th>8</th>\n      <td>4855</td>\n      <td>1974</td>\n      <td>Postgraduate</td>\n      <td>In couple</td>\n      <td>30351.0</td>\n      <td>1</td>\n      <td>0</td>\n      <td>2020-06-06</td>\n      <td>19</td>\n      <td>14</td>\n      <td>...</td>\n      <td>0</td>\n      <td>0</td>\n      <td>0</td>\n      <td>0</td>\n      <td>0</td>\n      <td>3</td>\n      <td>11</td>\n      <td>1</td>\n      <td>1 child</td>\n      <td>Has child</td>\n    </tr>\n    <tr>\n      <th>9</th>\n      <td>5899</td>\n      <td>1950</td>\n      <td>Postgraduate</td>\n      <td>In couple</td>\n      <td>5648.0</td>\n      <td>1</td>\n      <td>1</td>\n      <td>2021-03-13</td>\n      <td>68</td>\n      <td>28</td>\n      <td>...</td>\n      <td>0</td>\n      <td>0</td>\n      <td>0</td>\n      <td>0</td>\n      <td>0</td>\n      <td>3</td>\n      <td>11</td>\n      <td>0</td>\n      <td>2 children</td>\n      <td>Has child</td>\n    </tr>\n    <tr>\n      <th>11</th>\n      <td>387</td>\n      <td>1976</td>\n      <td>Undergraduate</td>\n      <td>In couple</td>\n      <td>7500.0</td>\n      <td>0</td>\n      <td>0</td>\n      <td>2019-11-13</td>\n      <td>59</td>\n      <td>6</td>\n      <td>...</td>\n      <td>0</td>\n      <td>0</td>\n      <td>0</td>\n      <td>0</td>\n      <td>0</td>\n      <td>3</td>\n      <td>11</td>\n      <td>0</td>\n      <td>No child</td>\n      <td>No child</td>\n    </tr>\n    <tr>\n      <th>12</th>\n      <td>2125</td>\n      <td>1959</td>\n      <td>Postgraduate</td>\n      <td>Alone</td>\n      <td>63033.0</td>\n      <td>0</td>\n      <td>0</td>\n      <td>2020-11-15</td>\n      <td>82</td>\n      <td>194</td>\n      <td>...</td>\n      <td>0</td>\n      <td>0</td>\n      <td>0</td>\n      <td>0</td>\n      <td>0</td>\n      <td>3</td>\n      <td>11</td>\n      <td>0</td>\n      <td>No child</td>\n      <td>No child</td>\n    </tr>\n    <tr>\n      <th>13</th>\n      <td>8180</td>\n      <td>1952</td>\n      <td>Postgraduate</td>\n      <td>Alone</td>\n      <td>59354.0</td>\n      <td>1</td>\n      <td>1</td>\n      <td>2020-11-15</td>\n      <td>53</td>\n      <td>233</td>\n      <td>...</td>\n      <td>0</td>\n      <td>0</td>\n      <td>0</td>\n      <td>0</td>\n      <td>0</td>\n      <td>3</td>\n      <td>11</td>\n      <td>0</td>\n      <td>2 children</td>\n      <td>Has child</td>\n    </tr>\n    <tr>\n      <th>14</th>\n      <td>2569</td>\n      <td>1987</td>\n      <td>Postgraduate</td>\n      <td>In couple</td>\n      <td>17323.0</td>\n      <td>0</td>\n      <td>0</td>\n      <td>2019-10-10</td>\n      <td>38</td>\n      <td>3</td>\n      <td>...</td>\n      <td>0</td>\n      <td>0</td>\n      <td>0</td>\n      <td>0</td>\n      <td>0</td>\n      <td>3</td>\n      <td>11</td>\n      <td>0</td>\n      <td>No child</td>\n      <td>No child</td>\n    </tr>\n    <tr>\n      <th>15</th>\n      <td>2114</td>\n      <td>1946</td>\n      <td>Postgraduate</td>\n      <td>Alone</td>\n      <td>82800.0</td>\n      <td>0</td>\n      <td>0</td>\n      <td>2019-11-24</td>\n      <td>23</td>\n      <td>1006</td>\n      <td>...</td>\n      <td>0</td>\n      <td>1</td>\n      <td>1</td>\n      <td>0</td>\n      <td>0</td>\n      <td>3</td>\n      <td>11</td>\n      <td>1</td>\n      <td>No child</td>\n      <td>No child</td>\n    </tr>\n    <tr>\n      <th>16</th>\n      <td>9736</td>\n      <td>1980</td>\n      <td>Postgraduate</td>\n      <td>In couple</td>\n      <td>41850.0</td>\n      <td>1</td>\n      <td>1</td>\n      <td>2019-12-24</td>\n      <td>51</td>\n      <td>53</td>\n      <td>...</td>\n      <td>0</td>\n      <td>0</td>\n      <td>0</td>\n      <td>0</td>\n      <td>0</td>\n      <td>3</td>\n      <td>11</td>\n      <td>0</td>\n      <td>2 children</td>\n      <td>Has child</td>\n    </tr>\n    <tr>\n      <th>17</th>\n      <td>4939</td>\n      <td>1946</td>\n      <td>Postgraduate</td>\n      <td>In couple</td>\n      <td>37760.0</td>\n      <td>0</td>\n      <td>0</td>\n      <td>2019-08-31</td>\n      <td>20</td>\n      <td>84</td>\n      <td>...</td>\n      <td>0</td>\n      <td>0</td>\n      <td>0</td>\n      <td>0</td>\n      <td>0</td>\n      <td>3</td>\n      <td>11</td>\n      <td>0</td>\n      <td>No child</td>\n      <td>No child</td>\n    </tr>\n    <tr>\n      <th>18</th>\n      <td>6565</td>\n      <td>1949</td>\n      <td>Postgraduate</td>\n      <td>In couple</td>\n      <td>76995.0</td>\n      <td>0</td>\n      <td>1</td>\n      <td>2020-03-28</td>\n      <td>91</td>\n      <td>1012</td>\n      <td>...</td>\n      <td>0</td>\n      <td>0</td>\n      <td>1</td>\n      <td>0</td>\n      <td>0</td>\n      <td>3</td>\n      <td>11</td>\n      <td>0</td>\n      <td>1 child</td>\n      <td>Has child</td>\n    </tr>\n    <tr>\n      <th>19</th>\n      <td>2278</td>\n      <td>1985</td>\n      <td>Postgraduate</td>\n      <td>Alone</td>\n      <td>33812.0</td>\n      <td>1</td>\n      <td>0</td>\n      <td>2019-11-03</td>\n      <td>86</td>\n      <td>4</td>\n      <td>...</td>\n      <td>0</td>\n      <td>0</td>\n      <td>0</td>\n      <td>0</td>\n      <td>0</td>\n      <td>3</td>\n      <td>11</td>\n      <td>0</td>\n      <td>1 child</td>\n      <td>Has child</td>\n    </tr>\n    <tr>\n      <th>20</th>\n      <td>9360</td>\n      <td>1982</td>\n      <td>Postgraduate</td>\n      <td>In couple</td>\n      <td>37040.0</td>\n      <td>0</td>\n      <td>0</td>\n      <td>2019-08-08</td>\n      <td>41</td>\n      <td>86</td>\n      <td>...</td>\n      <td>0</td>\n      <td>0</td>\n      <td>0</td>\n      <td>0</td>\n      <td>0</td>\n      <td>3</td>\n      <td>11</td>\n      <td>0</td>\n      <td>No child</td>\n      <td>No child</td>\n    </tr>\n    <tr>\n      <th>21</th>\n      <td>5376</td>\n      <td>1979</td>\n      <td>Postgraduate</td>\n      <td>In couple</td>\n      <td>2447.0</td>\n      <td>1</td>\n      <td>0</td>\n      <td>2020-01-06</td>\n      <td>42</td>\n      <td>1</td>\n      <td>...</td>\n      <td>0</td>\n      <td>0</td>\n      <td>0</td>\n      <td>0</td>\n      <td>0</td>\n      <td>3</td>\n      <td>11</td>\n      <td>0</td>\n      <td>1 child</td>\n      <td>Has child</td>\n    </tr>\n    <tr>\n      <th>22</th>\n      <td>1993</td>\n      <td>1949</td>\n      <td>Postgraduate</td>\n      <td>In couple</td>\n      <td>58607.0</td>\n      <td>0</td>\n      <td>1</td>\n      <td>2019-12-23</td>\n      <td>63</td>\n      <td>867</td>\n      <td>...</td>\n      <td>1</td>\n      <td>0</td>\n      <td>0</td>\n      <td>0</td>\n      <td>0</td>\n      <td>3</td>\n      <td>11</td>\n      <td>0</td>\n      <td>1 child</td>\n      <td>Has child</td>\n    </tr>\n    <tr>\n      <th>23</th>\n      <td>4047</td>\n      <td>1954</td>\n      <td>Postgraduate</td>\n      <td>In couple</td>\n      <td>65324.0</td>\n      <td>0</td>\n      <td>1</td>\n      <td>2021-01-11</td>\n      <td>0</td>\n      <td>384</td>\n      <td>...</td>\n      <td>0</td>\n      <td>0</td>\n      <td>0</td>\n      <td>0</td>\n      <td>0</td>\n      <td>3</td>\n      <td>11</td>\n      <td>0</td>\n      <td>1 child</td>\n      <td>Has child</td>\n    </tr>\n    <tr>\n      <th>24</th>\n      <td>1409</td>\n      <td>1951</td>\n      <td>Postgraduate</td>\n      <td>In couple</td>\n      <td>40689.0</td>\n      <td>0</td>\n      <td>1</td>\n      <td>2020-03-18</td>\n      <td>69</td>\n      <td>270</td>\n      <td>...</td>\n      <td>0</td>\n      <td>0</td>\n      <td>0</td>\n      <td>0</td>\n      <td>0</td>\n      <td>3</td>\n      <td>11</td>\n      <td>0</td>\n      <td>1 child</td>\n      <td>Has child</td>\n    </tr>\n    <tr>\n      <th>25</th>\n      <td>7892</td>\n      <td>1969</td>\n      <td>Postgraduate</td>\n      <td>Alone</td>\n      <td>18589.0</td>\n      <td>0</td>\n      <td>0</td>\n      <td>2020-01-02</td>\n      <td>89</td>\n      <td>6</td>\n      <td>...</td>\n      <td>0</td>\n      <td>0</td>\n      <td>0</td>\n      <td>0</td>\n      <td>0</td>\n      <td>3</td>\n      <td>11</td>\n      <td>0</td>\n      <td>No child</td>\n      <td>No child</td>\n    </tr>\n    <tr>\n      <th>26</th>\n      <td>2404</td>\n      <td>1976</td>\n      <td>Postgraduate</td>\n      <td>In couple</td>\n      <td>53359.0</td>\n      <td>1</td>\n      <td>1</td>\n      <td>2020-05-27</td>\n      <td>4</td>\n      <td>173</td>\n      <td>...</td>\n      <td>0</td>\n      <td>0</td>\n      <td>0</td>\n      <td>0</td>\n      <td>0</td>\n      <td>3</td>\n      <td>11</td>\n      <td>0</td>\n      <td>2 children</td>\n      <td>Has child</td>\n    </tr>\n    <tr>\n      <th>28</th>\n      <td>9422</td>\n      <td>1989</td>\n      <td>Postgraduate</td>\n      <td>In couple</td>\n      <td>38360.0</td>\n      <td>1</td>\n      <td>0</td>\n      <td>2020-05-31</td>\n      <td>26</td>\n      <td>36</td>\n      <td>...</td>\n      <td>0</td>\n      <td>0</td>\n      <td>0</td>\n      <td>0</td>\n      <td>0</td>\n      <td>3</td>\n      <td>11</td>\n      <td>0</td>\n      <td>1 child</td>\n      <td>Has child</td>\n    </tr>\n    <tr>\n      <th>29</th>\n      <td>1966</td>\n      <td>1965</td>\n      <td>Postgraduate</td>\n      <td>In couple</td>\n      <td>84618.0</td>\n      <td>0</td>\n      <td>0</td>\n      <td>2020-11-22</td>\n      <td>96</td>\n      <td>684</td>\n      <td>...</td>\n      <td>0</td>\n      <td>1</td>\n      <td>0</td>\n      <td>0</td>\n      <td>0</td>\n      <td>3</td>\n      <td>11</td>\n      <td>0</td>\n      <td>No child</td>\n      <td>No child</td>\n    </tr>\n    <tr>\n      <th>30</th>\n      <td>6864</td>\n      <td>1989</td>\n      <td>Postgraduate</td>\n      <td>Alone</td>\n      <td>10979.0</td>\n      <td>0</td>\n      <td>0</td>\n      <td>2021-05-22</td>\n      <td>34</td>\n      <td>8</td>\n      <td>...</td>\n      <td>0</td>\n      <td>0</td>\n      <td>0</td>\n      <td>0</td>\n      <td>0</td>\n      <td>3</td>\n      <td>11</td>\n      <td>0</td>\n      <td>No child</td>\n      <td>No child</td>\n    </tr>\n    <tr>\n      <th>31</th>\n      <td>3033</td>\n      <td>1963</td>\n      <td>Postgraduate</td>\n      <td>In couple</td>\n      <td>38620.0</td>\n      <td>0</td>\n      <td>0</td>\n      <td>2020-05-11</td>\n      <td>56</td>\n      <td>112</td>\n      <td>...</td>\n      <td>0</td>\n      <td>0</td>\n      <td>0</td>\n      <td>0</td>\n      <td>0</td>\n      <td>3</td>\n      <td>11</td>\n      <td>0</td>\n      <td>No child</td>\n      <td>No child</td>\n    </tr>\n    <tr>\n      <th>32</th>\n      <td>5710</td>\n      <td>1970</td>\n      <td>Postgraduate</td>\n      <td>In couple</td>\n      <td>40548.0</td>\n      <td>0</td>\n      <td>1</td>\n      <td>2019-10-10</td>\n      <td>31</td>\n      <td>110</td>\n      <td>...</td>\n      <td>1</td>\n      <td>0</td>\n      <td>0</td>\n      <td>0</td>\n      <td>0</td>\n      <td>3</td>\n      <td>11</td>\n      <td>0</td>\n      <td>1 child</td>\n      <td>Has child</td>\n    </tr>\n    <tr>\n      <th>33</th>\n      <td>7373</td>\n      <td>1952</td>\n      <td>Postgraduate</td>\n      <td>Alone</td>\n      <td>46610.0</td>\n      <td>0</td>\n      <td>2</td>\n      <td>2019-10-29</td>\n      <td>8</td>\n      <td>96</td>\n      <td>...</td>\n      <td>0</td>\n      <td>0</td>\n      <td>0</td>\n      <td>0</td>\n      <td>0</td>\n      <td>3</td>\n      <td>11</td>\n      <td>1</td>\n      <td>2 children</td>\n      <td>Has child</td>\n    </tr>\n    <tr>\n      <th>34</th>\n      <td>8755</td>\n      <td>1946</td>\n      <td>Postgraduate</td>\n      <td>In couple</td>\n      <td>68657.0</td>\n      <td>0</td>\n      <td>0</td>\n      <td>2020-02-20</td>\n      <td>4</td>\n      <td>482</td>\n      <td>...</td>\n      <td>0</td>\n      <td>0</td>\n      <td>0</td>\n      <td>0</td>\n      <td>0</td>\n      <td>3</td>\n      <td>11</td>\n      <td>0</td>\n      <td>No child</td>\n      <td>No child</td>\n    </tr>\n    <tr>\n      <th>35</th>\n      <td>10738</td>\n      <td>1951</td>\n      <td>Postgraduate</td>\n      <td>Alone</td>\n      <td>49389.0</td>\n      <td>1</td>\n      <td>1</td>\n      <td>2020-08-29</td>\n      <td>55</td>\n      <td>40</td>\n      <td>...</td>\n      <td>0</td>\n      <td>0</td>\n      <td>0</td>\n      <td>0</td>\n      <td>0</td>\n      <td>3</td>\n      <td>11</td>\n      <td>0</td>\n      <td>2 children</td>\n      <td>Has child</td>\n    </tr>\n    <tr>\n      <th>36</th>\n      <td>4339</td>\n      <td>1970</td>\n      <td>Postgraduate</td>\n      <td>In couple</td>\n      <td>67353.0</td>\n      <td>0</td>\n      <td>1</td>\n      <td>2020-12-31</td>\n      <td>37</td>\n      <td>702</td>\n      <td>...</td>\n      <td>0</td>\n      <td>0</td>\n      <td>0</td>\n      <td>0</td>\n      <td>0</td>\n      <td>3</td>\n      <td>11</td>\n      <td>0</td>\n      <td>1 child</td>\n      <td>Has child</td>\n    </tr>\n    <tr>\n      <th>37</th>\n      <td>10755</td>\n      <td>1976</td>\n      <td>Postgraduate</td>\n      <td>In couple</td>\n      <td>23718.0</td>\n      <td>1</td>\n      <td>0</td>\n      <td>2020-09-02</td>\n      <td>76</td>\n      <td>6</td>\n      <td>...</td>\n      <td>0</td>\n      <td>0</td>\n      <td>0</td>\n      <td>0</td>\n      <td>0</td>\n      <td>3</td>\n      <td>11</td>\n      <td>0</td>\n      <td>1 child</td>\n      <td>Has child</td>\n    </tr>\n    <tr>\n      <th>38</th>\n      <td>8595</td>\n      <td>1973</td>\n      <td>Postgraduate</td>\n      <td>Alone</td>\n      <td>42429.0</td>\n      <td>0</td>\n      <td>1</td>\n      <td>2021-02-11</td>\n      <td>99</td>\n      <td>55</td>\n      <td>...</td>\n      <td>0</td>\n      <td>0</td>\n      <td>0</td>\n      <td>0</td>\n      <td>0</td>\n      <td>3</td>\n      <td>11</td>\n      <td>0</td>\n      <td>1 child</td>\n      <td>Has child</td>\n    </tr>\n    <tr>\n      <th>39</th>\n      <td>2968</td>\n      <td>1943</td>\n      <td>Postgraduate</td>\n      <td>Alone</td>\n      <td>48948.0</td>\n      <td>0</td>\n      <td>0</td>\n      <td>2020-02-01</td>\n      <td>53</td>\n      <td>437</td>\n      <td>...</td>\n      <td>0</td>\n      <td>0</td>\n      <td>0</td>\n      <td>0</td>\n      <td>0</td>\n      <td>3</td>\n      <td>11</td>\n      <td>1</td>\n      <td>No child</td>\n      <td>No child</td>\n    </tr>\n    <tr>\n      <th>40</th>\n      <td>8601</td>\n      <td>1980</td>\n      <td>Postgraduate</td>\n      <td>In couple</td>\n      <td>80011.0</td>\n      <td>0</td>\n      <td>1</td>\n      <td>2020-04-29</td>\n      <td>3</td>\n      <td>421</td>\n      <td>...</td>\n      <td>0</td>\n      <td>0</td>\n      <td>0</td>\n      <td>0</td>\n      <td>0</td>\n      <td>3</td>\n      <td>11</td>\n      <td>0</td>\n      <td>1 child</td>\n      <td>Has child</td>\n    </tr>\n    <tr>\n      <th>41</th>\n      <td>503</td>\n      <td>1985</td>\n      <td>Postgraduate</td>\n      <td>In couple</td>\n      <td>20559.0</td>\n      <td>1</td>\n      <td>0</td>\n      <td>2020-03-12</td>\n      <td>88</td>\n      <td>13</td>\n      <td>...</td>\n      <td>0</td>\n      <td>0</td>\n      <td>0</td>\n      <td>0</td>\n      <td>0</td>\n      <td>3</td>\n      <td>11</td>\n      <td>0</td>\n      <td>1 child</td>\n      <td>Has child</td>\n    </tr>\n    <tr>\n      <th>42</th>\n      <td>8430</td>\n      <td>1957</td>\n      <td>Postgraduate</td>\n      <td>In couple</td>\n      <td>21994.0</td>\n      <td>0</td>\n      <td>1</td>\n      <td>2019-12-24</td>\n      <td>4</td>\n      <td>9</td>\n      <td>...</td>\n      <td>0</td>\n      <td>0</td>\n      <td>0</td>\n      <td>0</td>\n      <td>0</td>\n      <td>3</td>\n      <td>11</td>\n      <td>0</td>\n      <td>1 child</td>\n      <td>Has child</td>\n    </tr>\n    <tr>\n      <th>44</th>\n      <td>2139</td>\n      <td>1975</td>\n      <td>Postgraduate</td>\n      <td>In couple</td>\n      <td>7500.0</td>\n      <td>1</td>\n      <td>0</td>\n      <td>2020-10-02</td>\n      <td>19</td>\n      <td>3</td>\n      <td>...</td>\n      <td>0</td>\n      <td>0</td>\n      <td>0</td>\n      <td>0</td>\n      <td>0</td>\n      <td>3</td>\n      <td>11</td>\n      <td>0</td>\n      <td>1 child</td>\n      <td>Has child</td>\n    </tr>\n    <tr>\n      <th>45</th>\n      <td>1371</td>\n      <td>1976</td>\n      <td>Postgraduate</td>\n      <td>Alone</td>\n      <td>79941.0</td>\n      <td>0</td>\n      <td>0</td>\n      <td>2021-06-28</td>\n      <td>72</td>\n      <td>123</td>\n      <td>...</td>\n      <td>0</td>\n      <td>0</td>\n      <td>0</td>\n      <td>0</td>\n      <td>0</td>\n      <td>3</td>\n      <td>11</td>\n      <td>0</td>\n      <td>No child</td>\n      <td>No child</td>\n    </tr>\n    <tr>\n      <th>46</th>\n      <td>9909</td>\n      <td>1996</td>\n      <td>Postgraduate</td>\n      <td>In couple</td>\n      <td>7500.0</td>\n      <td>0</td>\n      <td>0</td>\n      <td>2019-11-09</td>\n      <td>24</td>\n      <td>3</td>\n      <td>...</td>\n      <td>0</td>\n      <td>0</td>\n      <td>0</td>\n      <td>0</td>\n      <td>0</td>\n      <td>3</td>\n      <td>11</td>\n      <td>1</td>\n      <td>No child</td>\n      <td>No child</td>\n    </tr>\n    <tr>\n      <th>47</th>\n      <td>7286</td>\n      <td>1968</td>\n      <td>Postgraduate</td>\n      <td>In couple</td>\n      <td>41728.0</td>\n      <td>1</td>\n      <td>0</td>\n      <td>2020-05-24</td>\n      <td>92</td>\n      <td>13</td>\n      <td>...</td>\n      <td>0</td>\n      <td>0</td>\n      <td>0</td>\n      <td>0</td>\n      <td>0</td>\n      <td>3</td>\n      <td>11</td>\n      <td>0</td>\n      <td>1 child</td>\n      <td>Has child</td>\n    </tr>\n    <tr>\n      <th>49</th>\n      <td>6566</td>\n      <td>1954</td>\n      <td>Postgraduate</td>\n      <td>In couple</td>\n      <td>72550.0</td>\n      <td>1</td>\n      <td>1</td>\n      <td>2019-11-08</td>\n      <td>39</td>\n      <td>826</td>\n      <td>...</td>\n      <td>0</td>\n      <td>0</td>\n      <td>0</td>\n      <td>0</td>\n      <td>0</td>\n      <td>3</td>\n      <td>11</td>\n      <td>0</td>\n      <td>2 children</td>\n      <td>Has child</td>\n    </tr>\n    <tr>\n      <th>50</th>\n      <td>8614</td>\n      <td>1957</td>\n      <td>Postgraduate</td>\n      <td>Alone</td>\n      <td>65486.0</td>\n      <td>0</td>\n      <td>1</td>\n      <td>2021-05-12</td>\n      <td>29</td>\n      <td>245</td>\n      <td>...</td>\n      <td>0</td>\n      <td>0</td>\n      <td>0</td>\n      <td>0</td>\n      <td>0</td>\n      <td>3</td>\n      <td>11</td>\n      <td>0</td>\n      <td>1 child</td>\n      <td>Has child</td>\n    </tr>\n    <tr>\n      <th>51</th>\n      <td>4114</td>\n      <td>1964</td>\n      <td>Postgraduate</td>\n      <td>In couple</td>\n      <td>79143.0</td>\n      <td>0</td>\n      <td>0</td>\n      <td>2019-08-11</td>\n      <td>2</td>\n      <td>650</td>\n      <td>...</td>\n      <td>0</td>\n      <td>0</td>\n      <td>0</td>\n      <td>0</td>\n      <td>0</td>\n      <td>3</td>\n      <td>11</td>\n      <td>0</td>\n      <td>No child</td>\n      <td>No child</td>\n    </tr>\n    <tr>\n      <th>52</th>\n      <td>1331</td>\n      <td>1977</td>\n      <td>Postgraduate</td>\n      <td>Alone</td>\n      <td>35790.0</td>\n      <td>1</td>\n      <td>0</td>\n      <td>2020-01-02</td>\n      <td>54</td>\n      <td>12</td>\n      <td>...</td>\n      <td>0</td>\n      <td>0</td>\n      <td>0</td>\n      <td>0</td>\n      <td>0</td>\n      <td>3</td>\n      <td>11</td>\n      <td>0</td>\n      <td>1 child</td>\n      <td>Has child</td>\n    </tr>\n    <tr>\n      <th>53</th>\n      <td>2225</td>\n      <td>1977</td>\n      <td>Postgraduate</td>\n      <td>Alone</td>\n      <td>82582.0</td>\n      <td>0</td>\n      <td>0</td>\n      <td>2021-06-07</td>\n      <td>54</td>\n      <td>510</td>\n      <td>...</td>\n      <td>0</td>\n      <td>0</td>\n      <td>1</td>\n      <td>0</td>\n      <td>0</td>\n      <td>3</td>\n      <td>11</td>\n      <td>1</td>\n      <td>No child</td>\n      <td>No child</td>\n    </tr>\n  </tbody>\n</table>\n<p>50 rows × 31 columns</p>\n</div>"
     },
     "execution_count": 684,
     "metadata": {},
     "output_type": "execute_result"
    }
   ],
   "source": [
    "customer_data.head(50)"
   ],
   "metadata": {
    "collapsed": false,
    "pycharm": {
     "name": "#%%\n"
    }
   }
  },
  {
   "cell_type": "code",
   "execution_count": 685,
   "outputs": [
    {
     "data": {
      "text/plain": "     ID  Year_Birth     Education Marital_Status   Income Dt_Customer  \\\n0  5524        1957  Postgraduate          Alone  58138.0  2019-09-04   \n1  2174        1954  Postgraduate          Alone  46344.0  2021-03-08   \n2  4141        1965  Postgraduate      In couple  71613.0  2020-08-21   \n3  6182        1984  Postgraduate      In couple  26646.0  2021-02-10   \n4  5324        1981  Postgraduate      In couple  58293.0  2021-01-19   \n\n   Recency  WinesProducts  FruitsProducts  MeatProducts  ...  AcceptedCmp4  \\\n0       58            635              88           546  ...             0   \n1       38             11               1             6  ...             0   \n2       26            426              49           127  ...             0   \n3       26             11               4            20  ...             0   \n4       94            173              43           118  ...             0   \n\n   AcceptedCmp5  AcceptedCmp1  AcceptedCmp2  Complain  Z_CostContact  \\\n0             0             0             0         0              3   \n1             0             0             0         0              3   \n2             0             0             0         0              3   \n3             0             0             0         0              3   \n4             0             0             0         0              3   \n\n   Z_Revenue  Response    Children  Has_child  \n0         11         1    No child   No child  \n1         11         0  2 children  Has child  \n2         11         0    No child   No child  \n3         11         0     1 child  Has child  \n4         11         0     1 child  Has child  \n\n[5 rows x 29 columns]",
      "text/html": "<div>\n<style scoped>\n    .dataframe tbody tr th:only-of-type {\n        vertical-align: middle;\n    }\n\n    .dataframe tbody tr th {\n        vertical-align: top;\n    }\n\n    .dataframe thead th {\n        text-align: right;\n    }\n</style>\n<table border=\"1\" class=\"dataframe\">\n  <thead>\n    <tr style=\"text-align: right;\">\n      <th></th>\n      <th>ID</th>\n      <th>Year_Birth</th>\n      <th>Education</th>\n      <th>Marital_Status</th>\n      <th>Income</th>\n      <th>Dt_Customer</th>\n      <th>Recency</th>\n      <th>WinesProducts</th>\n      <th>FruitsProducts</th>\n      <th>MeatProducts</th>\n      <th>...</th>\n      <th>AcceptedCmp4</th>\n      <th>AcceptedCmp5</th>\n      <th>AcceptedCmp1</th>\n      <th>AcceptedCmp2</th>\n      <th>Complain</th>\n      <th>Z_CostContact</th>\n      <th>Z_Revenue</th>\n      <th>Response</th>\n      <th>Children</th>\n      <th>Has_child</th>\n    </tr>\n  </thead>\n  <tbody>\n    <tr>\n      <th>0</th>\n      <td>5524</td>\n      <td>1957</td>\n      <td>Postgraduate</td>\n      <td>Alone</td>\n      <td>58138.0</td>\n      <td>2019-09-04</td>\n      <td>58</td>\n      <td>635</td>\n      <td>88</td>\n      <td>546</td>\n      <td>...</td>\n      <td>0</td>\n      <td>0</td>\n      <td>0</td>\n      <td>0</td>\n      <td>0</td>\n      <td>3</td>\n      <td>11</td>\n      <td>1</td>\n      <td>No child</td>\n      <td>No child</td>\n    </tr>\n    <tr>\n      <th>1</th>\n      <td>2174</td>\n      <td>1954</td>\n      <td>Postgraduate</td>\n      <td>Alone</td>\n      <td>46344.0</td>\n      <td>2021-03-08</td>\n      <td>38</td>\n      <td>11</td>\n      <td>1</td>\n      <td>6</td>\n      <td>...</td>\n      <td>0</td>\n      <td>0</td>\n      <td>0</td>\n      <td>0</td>\n      <td>0</td>\n      <td>3</td>\n      <td>11</td>\n      <td>0</td>\n      <td>2 children</td>\n      <td>Has child</td>\n    </tr>\n    <tr>\n      <th>2</th>\n      <td>4141</td>\n      <td>1965</td>\n      <td>Postgraduate</td>\n      <td>In couple</td>\n      <td>71613.0</td>\n      <td>2020-08-21</td>\n      <td>26</td>\n      <td>426</td>\n      <td>49</td>\n      <td>127</td>\n      <td>...</td>\n      <td>0</td>\n      <td>0</td>\n      <td>0</td>\n      <td>0</td>\n      <td>0</td>\n      <td>3</td>\n      <td>11</td>\n      <td>0</td>\n      <td>No child</td>\n      <td>No child</td>\n    </tr>\n    <tr>\n      <th>3</th>\n      <td>6182</td>\n      <td>1984</td>\n      <td>Postgraduate</td>\n      <td>In couple</td>\n      <td>26646.0</td>\n      <td>2021-02-10</td>\n      <td>26</td>\n      <td>11</td>\n      <td>4</td>\n      <td>20</td>\n      <td>...</td>\n      <td>0</td>\n      <td>0</td>\n      <td>0</td>\n      <td>0</td>\n      <td>0</td>\n      <td>3</td>\n      <td>11</td>\n      <td>0</td>\n      <td>1 child</td>\n      <td>Has child</td>\n    </tr>\n    <tr>\n      <th>4</th>\n      <td>5324</td>\n      <td>1981</td>\n      <td>Postgraduate</td>\n      <td>In couple</td>\n      <td>58293.0</td>\n      <td>2021-01-19</td>\n      <td>94</td>\n      <td>173</td>\n      <td>43</td>\n      <td>118</td>\n      <td>...</td>\n      <td>0</td>\n      <td>0</td>\n      <td>0</td>\n      <td>0</td>\n      <td>0</td>\n      <td>3</td>\n      <td>11</td>\n      <td>0</td>\n      <td>1 child</td>\n      <td>Has child</td>\n    </tr>\n  </tbody>\n</table>\n<p>5 rows × 29 columns</p>\n</div>"
     },
     "execution_count": 685,
     "metadata": {},
     "output_type": "execute_result"
    }
   ],
   "source": [
    "customer_data = customer_data.drop(columns=['Kidhome', 'Teenhome', ], axis=0)\n",
    "customer_data.head()"
   ],
   "metadata": {
    "collapsed": false,
    "pycharm": {
     "name": "#%%\n"
    }
   }
  },
  {
   "cell_type": "code",
   "execution_count": 687,
   "outputs": [],
   "source": [
    "# creating new features to get overll picture of a customer, how many children he/she has, total campaigns accepted etc.\n",
    "\n",
    "# Spending total\n",
    "customer_data['Spending'] = customer_data['WinesProducts'] + \\\n",
    "                            customer_data['FruitsProducts'] + \\\n",
    "                            customer_data['MeatProducts'] + \\\n",
    "                            customer_data['FishProducts'] + \\\n",
    "                            customer_data['SweetProducts'] + \\\n",
    "                            customer_data['GoldProducts']\n",
    "#total purchases made by a customer\n",
    "platform_col = [col for col in customer_data.columns if 'Purchases' in col]\n",
    "customer_data['Total_Purchase'] = customer_data[platform_col].sum(axis = 1)\n",
    "\n",
    "\n",
    "# Total no. of campaign accepted by a customer\n",
    "campaigns_cols = [col for col in customer_data.columns if 'Cmp' in col]\n",
    "customer_data['TotalCampaignsAcc'] = customer_data[campaigns_cols].sum(axis=1)"
   ],
   "metadata": {
    "collapsed": false,
    "pycharm": {
     "name": "#%%\n"
    }
   }
  },
  {
   "cell_type": "code",
   "execution_count": 688,
   "outputs": [
    {
     "data": {
      "text/plain": "<Figure size 432x288 with 1 Axes>",
      "image/png": "[encoded data removed]"
     },
     "metadata": {
      "needs_background": "light"
     },
     "output_type": "display_data"
    },
    {
     "data": {
      "text/plain": "<Figure size 432x288 with 1 Axes>",
      "image/png": "[encoded data removed]"
     },
     "metadata": {
      "needs_background": "light"
     },
     "output_type": "display_data"
    },
    {
     "data": {
      "text/plain": "<Figure size 432x288 with 1 Axes>",
      "image/png": "[encoded data removed]"
     },
     "metadata": {
      "needs_background": "light"
     },
     "output_type": "display_data"
    }
   ],
   "source": [
    "# Plotting boxplot for Year_Birth, Total_Spending, Total_Purchase\n",
    "\n",
    "cols=['Year_Birth', 'Total_Purchase', 'Spending']\n",
    "for i in cols:\n",
    "    sns.boxplot(x=customer_data[i])\n",
    "    plt.show()"
   ],
   "metadata": {
    "collapsed": false,
    "pycharm": {
     "name": "#%%\n"
    }
   }
  },
  {
   "cell_type": "markdown",
   "source": [
    "## The birth year is reported as <=1900 for some users, while the current year is 2021. it's very unlikely that the person is alive. it may be a reporting error.\n",
    "## There are some outliers in year_birth and total purchase."
   ],
   "metadata": {
    "collapsed": false,
    "pycharm": {
     "name": "#%% md\n"
    }
   }
  },
  {
   "cell_type": "code",
   "execution_count": 689,
   "outputs": [
    {
     "data": {
      "text/plain": "        ID  Year_Birth     Education Marital_Status   Income Dt_Customer  \\\n239  11004        1893  Postgraduate          Alone  60182.0  2021-05-17   \n339   1150        1899  Postgraduate      In couple  83532.0  2020-09-26   \n\n     Recency  WinesProducts  FruitsProducts  MeatProducts  ...  AcceptedCmp2  \\\n239       23              8               0             5  ...             0   \n339       36            755             144           562  ...             0   \n\n     Complain  Z_CostContact  Z_Revenue  Response  Children  Has_child  \\\n239         0              3         11         0   1 child  Has child   \n339         0              3         11         0  No child   No child   \n\n     Spending  Total_Purchase  TotalCampaignsAcc  \n239        22               4                  0  \n339      1853              15                  1  \n\n[2 rows x 32 columns]",
      "text/html": "<div>\n<style scoped>\n    .dataframe tbody tr th:only-of-type {\n        vertical-align: middle;\n    }\n\n    .dataframe tbody tr th {\n        vertical-align: top;\n    }\n\n    .dataframe thead th {\n        text-align: right;\n    }\n</style>\n<table border=\"1\" class=\"dataframe\">\n  <thead>\n    <tr style=\"text-align: right;\">\n      <th></th>\n      <th>ID</th>\n      <th>Year_Birth</th>\n      <th>Education</th>\n      <th>Marital_Status</th>\n      <th>Income</th>\n      <th>Dt_Customer</th>\n      <th>Recency</th>\n      <th>WinesProducts</th>\n      <th>FruitsProducts</th>\n      <th>MeatProducts</th>\n      <th>...</th>\n      <th>AcceptedCmp2</th>\n      <th>Complain</th>\n      <th>Z_CostContact</th>\n      <th>Z_Revenue</th>\n      <th>Response</th>\n      <th>Children</th>\n      <th>Has_child</th>\n      <th>Spending</th>\n      <th>Total_Purchase</th>\n      <th>TotalCampaignsAcc</th>\n    </tr>\n  </thead>\n  <tbody>\n    <tr>\n      <th>239</th>\n      <td>11004</td>\n      <td>1893</td>\n      <td>Postgraduate</td>\n      <td>Alone</td>\n      <td>60182.0</td>\n      <td>2021-05-17</td>\n      <td>23</td>\n      <td>8</td>\n      <td>0</td>\n      <td>5</td>\n      <td>...</td>\n      <td>0</td>\n      <td>0</td>\n      <td>3</td>\n      <td>11</td>\n      <td>0</td>\n      <td>1 child</td>\n      <td>Has child</td>\n      <td>22</td>\n      <td>4</td>\n      <td>0</td>\n    </tr>\n    <tr>\n      <th>339</th>\n      <td>1150</td>\n      <td>1899</td>\n      <td>Postgraduate</td>\n      <td>In couple</td>\n      <td>83532.0</td>\n      <td>2020-09-26</td>\n      <td>36</td>\n      <td>755</td>\n      <td>144</td>\n      <td>562</td>\n      <td>...</td>\n      <td>0</td>\n      <td>0</td>\n      <td>3</td>\n      <td>11</td>\n      <td>0</td>\n      <td>No child</td>\n      <td>No child</td>\n      <td>1853</td>\n      <td>15</td>\n      <td>1</td>\n    </tr>\n  </tbody>\n</table>\n<p>2 rows × 32 columns</p>\n</div>"
     },
     "execution_count": 689,
     "metadata": {},
     "output_type": "execute_result"
    }
   ],
   "source": [
    "customer_data[customer_data['Year_Birth'] < 1900]"
   ],
   "metadata": {
    "collapsed": false,
    "pycharm": {
     "name": "#%%\n"
    }
   }
  },
  {
   "cell_type": "code",
   "execution_count": 690,
   "outputs": [],
   "source": [
    "#keeping data for customers having birth year >1900\n",
    "df = customer_data[customer_data['Year_Birth'] > 1900]"
   ],
   "metadata": {
    "collapsed": false,
    "pycharm": {
     "name": "#%%\n"
    }
   }
  },
  {
   "cell_type": "code",
   "execution_count": 691,
   "outputs": [],
   "source": [
    "# delete outliers of total purchase column\n",
    "df = df[df['Total_Purchase'] <= 40]"
   ],
   "metadata": {
    "collapsed": false,
    "pycharm": {
     "name": "#%%\n"
    }
   }
  },
  {
   "cell_type": "code",
   "execution_count": 692,
   "outputs": [],
   "source": [
    "# delete outliers of spending column\n",
    "df = df[df['Spending'] <= 2500]"
   ],
   "metadata": {
    "collapsed": false,
    "pycharm": {
     "name": "#%%\n"
    }
   }
  },
  {
   "cell_type": "code",
   "execution_count": 695,
   "outputs": [],
   "source": [
    "# تبدیل سن به داده های nominal\n",
    "age_gap_labels = ['Young', 'Adult', 'Mature', 'Senior']\n",
    "age_gap = [0, 30, 45, 65, 120]\n",
    "df['Age_group'] = pd.cut(df['Year_Birth'], bins=age_gap, labels=age_gap_labels)"
   ],
   "metadata": {
    "collapsed": false,
    "pycharm": {
     "name": "#%%\n"
    }
   }
  },
  {
   "cell_type": "code",
   "execution_count": 696,
   "outputs": [
    {
     "data": {
      "text/plain": "     ID  Year_Birth     Education Marital_Status   Income Dt_Customer  \\\n0  5524        1957  Postgraduate          Alone  58138.0  2019-09-04   \n1  2174        1954  Postgraduate          Alone  46344.0  2021-03-08   \n2  4141        1965  Postgraduate      In couple  71613.0  2020-08-21   \n3  6182        1984  Postgraduate      In couple  26646.0  2021-02-10   \n4  5324        1981  Postgraduate      In couple  58293.0  2021-01-19   \n\n   Recency  WinesProducts  FruitsProducts  MeatProducts  ...  Complain  \\\n0       58            635              88           546  ...         0   \n1       38             11               1             6  ...         0   \n2       26            426              49           127  ...         0   \n3       26             11               4            20  ...         0   \n4       94            173              43           118  ...         0   \n\n   Z_CostContact  Z_Revenue  Response    Children  Has_child  Spending  \\\n0              3         11         1    No child   No child      1617   \n1              3         11         0  2 children  Has child        27   \n2              3         11         0    No child   No child       776   \n3              3         11         0     1 child  Has child        53   \n4              3         11         0     1 child  Has child       422   \n\n   Total_Purchase  TotalCampaignsAcc  Age_group  \n0              25                  0        NaN  \n1               6                  0        NaN  \n2              21                  0        NaN  \n3               8                  0        NaN  \n4              19                  0        NaN  \n\n[5 rows x 33 columns]",
      "text/html": "<div>\n<style scoped>\n    .dataframe tbody tr th:only-of-type {\n        vertical-align: middle;\n    }\n\n    .dataframe tbody tr th {\n        vertical-align: top;\n    }\n\n    .dataframe thead th {\n        text-align: right;\n    }\n</style>\n<table border=\"1\" class=\"dataframe\">\n  <thead>\n    <tr style=\"text-align: right;\">\n      <th></th>\n      <th>ID</th>\n      <th>Year_Birth</th>\n      <th>Education</th>\n      <th>Marital_Status</th>\n      <th>Income</th>\n      <th>Dt_Customer</th>\n      <th>Recency</th>\n      <th>WinesProducts</th>\n      <th>FruitsProducts</th>\n      <th>MeatProducts</th>\n      <th>...</th>\n      <th>Complain</th>\n      <th>Z_CostContact</th>\n      <th>Z_Revenue</th>\n      <th>Response</th>\n      <th>Children</th>\n      <th>Has_child</th>\n      <th>Spending</th>\n      <th>Total_Purchase</th>\n      <th>TotalCampaignsAcc</th>\n      <th>Age_group</th>\n    </tr>\n  </thead>\n  <tbody>\n    <tr>\n      <th>0</th>\n      <td>5524</td>\n      <td>1957</td>\n      <td>Postgraduate</td>\n      <td>Alone</td>\n      <td>58138.0</td>\n      <td>2019-09-04</td>\n      <td>58</td>\n      <td>635</td>\n      <td>88</td>\n      <td>546</td>\n      <td>...</td>\n      <td>0</td>\n      <td>3</td>\n      <td>11</td>\n      <td>1</td>\n      <td>No child</td>\n      <td>No child</td>\n      <td>1617</td>\n      <td>25</td>\n      <td>0</td>\n      <td>NaN</td>\n    </tr>\n    <tr>\n      <th>1</th>\n      <td>2174</td>\n      <td>1954</td>\n      <td>Postgraduate</td>\n      <td>Alone</td>\n      <td>46344.0</td>\n      <td>2021-03-08</td>\n      <td>38</td>\n      <td>11</td>\n      <td>1</td>\n      <td>6</td>\n      <td>...</td>\n      <td>0</td>\n      <td>3</td>\n      <td>11</td>\n      <td>0</td>\n      <td>2 children</td>\n      <td>Has child</td>\n      <td>27</td>\n      <td>6</td>\n      <td>0</td>\n      <td>NaN</td>\n    </tr>\n    <tr>\n      <th>2</th>\n      <td>4141</td>\n      <td>1965</td>\n      <td>Postgraduate</td>\n      <td>In couple</td>\n      <td>71613.0</td>\n      <td>2020-08-21</td>\n      <td>26</td>\n      <td>426</td>\n      <td>49</td>\n      <td>127</td>\n      <td>...</td>\n      <td>0</td>\n      <td>3</td>\n      <td>11</td>\n      <td>0</td>\n      <td>No child</td>\n      <td>No child</td>\n      <td>776</td>\n      <td>21</td>\n      <td>0</td>\n      <td>NaN</td>\n    </tr>\n    <tr>\n      <th>3</th>\n      <td>6182</td>\n      <td>1984</td>\n      <td>Postgraduate</td>\n      <td>In couple</td>\n      <td>26646.0</td>\n      <td>2021-02-10</td>\n      <td>26</td>\n      <td>11</td>\n      <td>4</td>\n      <td>20</td>\n      <td>...</td>\n      <td>0</td>\n      <td>3</td>\n      <td>11</td>\n      <td>0</td>\n      <td>1 child</td>\n      <td>Has child</td>\n      <td>53</td>\n      <td>8</td>\n      <td>0</td>\n      <td>NaN</td>\n    </tr>\n    <tr>\n      <th>4</th>\n      <td>5324</td>\n      <td>1981</td>\n      <td>Postgraduate</td>\n      <td>In couple</td>\n      <td>58293.0</td>\n      <td>2021-01-19</td>\n      <td>94</td>\n      <td>173</td>\n      <td>43</td>\n      <td>118</td>\n      <td>...</td>\n      <td>0</td>\n      <td>3</td>\n      <td>11</td>\n      <td>0</td>\n      <td>1 child</td>\n      <td>Has child</td>\n      <td>422</td>\n      <td>19</td>\n      <td>0</td>\n      <td>NaN</td>\n    </tr>\n  </tbody>\n</table>\n<p>5 rows × 33 columns</p>\n</div>"
     },
     "execution_count": 696,
     "metadata": {},
     "output_type": "execute_result"
    }
   ],
   "source": [
    "df.head()"
   ],
   "metadata": {
    "collapsed": false,
    "pycharm": {
     "name": "#%%\n"
    }
   }
  },
  {
   "cell_type": "code",
   "execution_count": 693,
   "outputs": [
    {
     "ename": "KeyError",
     "evalue": "\"['Age', 'Seniority', 'Wines', 'Fruits', 'Meat', 'Fish', 'Sweets', 'Gold'] not in index\"",
     "output_type": "error",
     "traceback": [
      "\u001B[0;31m---------------------------------------------------------------------------\u001B[0m",
      "\u001B[0;31mKeyError\u001B[0m                                  Traceback (most recent call last)",
      "Input \u001B[0;32mIn [693]\u001B[0m, in \u001B[0;36m<cell line: 2>\u001B[0;34m()\u001B[0m\n\u001B[1;32m      1\u001B[0m \u001B[38;5;66;03m# drop colums that we use to create the total purchase and spending and NumberofChildren and TotalCampaignsAcc\u001B[39;00m\n\u001B[0;32m----> 2\u001B[0m df \u001B[38;5;241m=\u001B[39m \u001B[43mdf\u001B[49m\u001B[43m[\u001B[49m\n\u001B[1;32m      3\u001B[0m \u001B[43m    \u001B[49m\u001B[43m[\u001B[49m\u001B[38;5;124;43m'\u001B[39;49m\u001B[38;5;124;43mAge\u001B[39;49m\u001B[38;5;124;43m'\u001B[39;49m\u001B[43m,\u001B[49m\u001B[43m \u001B[49m\u001B[38;5;124;43m'\u001B[39;49m\u001B[38;5;124;43mEducation\u001B[39;49m\u001B[38;5;124;43m'\u001B[39;49m\u001B[43m,\u001B[49m\u001B[43m \u001B[49m\u001B[38;5;124;43m'\u001B[39;49m\u001B[38;5;124;43mMarital_Status\u001B[39;49m\u001B[38;5;124;43m'\u001B[39;49m\u001B[43m,\u001B[49m\u001B[43m \u001B[49m\u001B[38;5;124;43m'\u001B[39;49m\u001B[38;5;124;43mIncome\u001B[39;49m\u001B[38;5;124;43m'\u001B[39;49m\u001B[43m,\u001B[49m\u001B[43m \u001B[49m\u001B[38;5;124;43m'\u001B[39;49m\u001B[38;5;124;43mSpending\u001B[39;49m\u001B[38;5;124;43m'\u001B[39;49m\u001B[43m,\u001B[49m\u001B[43m \u001B[49m\u001B[38;5;124;43m'\u001B[39;49m\u001B[38;5;124;43mSeniority\u001B[39;49m\u001B[38;5;124;43m'\u001B[39;49m\u001B[43m,\u001B[49m\n\u001B[1;32m      4\u001B[0m \u001B[43m     \u001B[49m\u001B[38;5;124;43m'\u001B[39;49m\u001B[38;5;124;43mHas_child\u001B[39;49m\u001B[38;5;124;43m'\u001B[39;49m\u001B[43m,\u001B[49m\u001B[43m \u001B[49m\u001B[38;5;124;43m'\u001B[39;49m\u001B[38;5;124;43mChildren\u001B[39;49m\u001B[38;5;124;43m'\u001B[39;49m\u001B[43m,\u001B[49m\u001B[43m \u001B[49m\u001B[38;5;124;43m'\u001B[39;49m\u001B[38;5;124;43mWines\u001B[39;49m\u001B[38;5;124;43m'\u001B[39;49m\u001B[43m,\u001B[49m\u001B[43m \u001B[49m\u001B[38;5;124;43m'\u001B[39;49m\u001B[38;5;124;43mFruits\u001B[39;49m\u001B[38;5;124;43m'\u001B[39;49m\u001B[43m,\u001B[49m\u001B[43m \u001B[49m\u001B[38;5;124;43m'\u001B[39;49m\u001B[38;5;124;43mMeat\u001B[39;49m\u001B[38;5;124;43m'\u001B[39;49m\u001B[43m,\u001B[49m\u001B[43m \u001B[49m\u001B[38;5;124;43m'\u001B[39;49m\u001B[38;5;124;43mFish\u001B[39;49m\u001B[38;5;124;43m'\u001B[39;49m\u001B[43m,\u001B[49m\u001B[43m \u001B[49m\u001B[38;5;124;43m'\u001B[39;49m\u001B[38;5;124;43mSweets\u001B[39;49m\u001B[38;5;124;43m'\u001B[39;49m\u001B[43m,\u001B[49m\n\u001B[1;32m      5\u001B[0m \u001B[43m     \u001B[49m\u001B[38;5;124;43m'\u001B[39;49m\u001B[38;5;124;43mGold\u001B[39;49m\u001B[38;5;124;43m'\u001B[39;49m\u001B[43m]\u001B[49m\u001B[43m]\u001B[49m\n",
      "File \u001B[0;32m~/data-mining/project/Venv-p/lib/python3.8/site-packages/pandas/core/frame.py:3511\u001B[0m, in \u001B[0;36mDataFrame.__getitem__\u001B[0;34m(self, key)\u001B[0m\n\u001B[1;32m   3509\u001B[0m     \u001B[38;5;28;01mif\u001B[39;00m is_iterator(key):\n\u001B[1;32m   3510\u001B[0m         key \u001B[38;5;241m=\u001B[39m \u001B[38;5;28mlist\u001B[39m(key)\n\u001B[0;32m-> 3511\u001B[0m     indexer \u001B[38;5;241m=\u001B[39m \u001B[38;5;28;43mself\u001B[39;49m\u001B[38;5;241;43m.\u001B[39;49m\u001B[43mcolumns\u001B[49m\u001B[38;5;241;43m.\u001B[39;49m\u001B[43m_get_indexer_strict\u001B[49m\u001B[43m(\u001B[49m\u001B[43mkey\u001B[49m\u001B[43m,\u001B[49m\u001B[43m \u001B[49m\u001B[38;5;124;43m\"\u001B[39;49m\u001B[38;5;124;43mcolumns\u001B[39;49m\u001B[38;5;124;43m\"\u001B[39;49m\u001B[43m)\u001B[49m[\u001B[38;5;241m1\u001B[39m]\n\u001B[1;32m   3513\u001B[0m \u001B[38;5;66;03m# take() does not accept boolean indexers\u001B[39;00m\n\u001B[1;32m   3514\u001B[0m \u001B[38;5;28;01mif\u001B[39;00m \u001B[38;5;28mgetattr\u001B[39m(indexer, \u001B[38;5;124m\"\u001B[39m\u001B[38;5;124mdtype\u001B[39m\u001B[38;5;124m\"\u001B[39m, \u001B[38;5;28;01mNone\u001B[39;00m) \u001B[38;5;241m==\u001B[39m \u001B[38;5;28mbool\u001B[39m:\n",
      "File \u001B[0;32m~/data-mining/project/Venv-p/lib/python3.8/site-packages/pandas/core/indexes/base.py:5782\u001B[0m, in \u001B[0;36mIndex._get_indexer_strict\u001B[0;34m(self, key, axis_name)\u001B[0m\n\u001B[1;32m   5779\u001B[0m \u001B[38;5;28;01melse\u001B[39;00m:\n\u001B[1;32m   5780\u001B[0m     keyarr, indexer, new_indexer \u001B[38;5;241m=\u001B[39m \u001B[38;5;28mself\u001B[39m\u001B[38;5;241m.\u001B[39m_reindex_non_unique(keyarr)\n\u001B[0;32m-> 5782\u001B[0m \u001B[38;5;28;43mself\u001B[39;49m\u001B[38;5;241;43m.\u001B[39;49m\u001B[43m_raise_if_missing\u001B[49m\u001B[43m(\u001B[49m\u001B[43mkeyarr\u001B[49m\u001B[43m,\u001B[49m\u001B[43m \u001B[49m\u001B[43mindexer\u001B[49m\u001B[43m,\u001B[49m\u001B[43m \u001B[49m\u001B[43maxis_name\u001B[49m\u001B[43m)\u001B[49m\n\u001B[1;32m   5784\u001B[0m keyarr \u001B[38;5;241m=\u001B[39m \u001B[38;5;28mself\u001B[39m\u001B[38;5;241m.\u001B[39mtake(indexer)\n\u001B[1;32m   5785\u001B[0m \u001B[38;5;28;01mif\u001B[39;00m \u001B[38;5;28misinstance\u001B[39m(key, Index):\n\u001B[1;32m   5786\u001B[0m     \u001B[38;5;66;03m# GH 42790 - Preserve name from an Index\u001B[39;00m\n",
      "File \u001B[0;32m~/data-mining/project/Venv-p/lib/python3.8/site-packages/pandas/core/indexes/base.py:5845\u001B[0m, in \u001B[0;36mIndex._raise_if_missing\u001B[0;34m(self, key, indexer, axis_name)\u001B[0m\n\u001B[1;32m   5842\u001B[0m     \u001B[38;5;28;01mraise\u001B[39;00m \u001B[38;5;167;01mKeyError\u001B[39;00m(\u001B[38;5;124mf\u001B[39m\u001B[38;5;124m\"\u001B[39m\u001B[38;5;124mNone of [\u001B[39m\u001B[38;5;132;01m{\u001B[39;00mkey\u001B[38;5;132;01m}\u001B[39;00m\u001B[38;5;124m] are in the [\u001B[39m\u001B[38;5;132;01m{\u001B[39;00maxis_name\u001B[38;5;132;01m}\u001B[39;00m\u001B[38;5;124m]\u001B[39m\u001B[38;5;124m\"\u001B[39m)\n\u001B[1;32m   5844\u001B[0m not_found \u001B[38;5;241m=\u001B[39m \u001B[38;5;28mlist\u001B[39m(ensure_index(key)[missing_mask\u001B[38;5;241m.\u001B[39mnonzero()[\u001B[38;5;241m0\u001B[39m]]\u001B[38;5;241m.\u001B[39munique())\n\u001B[0;32m-> 5845\u001B[0m \u001B[38;5;28;01mraise\u001B[39;00m \u001B[38;5;167;01mKeyError\u001B[39;00m(\u001B[38;5;124mf\u001B[39m\u001B[38;5;124m\"\u001B[39m\u001B[38;5;132;01m{\u001B[39;00mnot_found\u001B[38;5;132;01m}\u001B[39;00m\u001B[38;5;124m not in index\u001B[39m\u001B[38;5;124m\"\u001B[39m)\n",
      "\u001B[0;31mKeyError\u001B[0m: \"['Age', 'Seniority', 'Wines', 'Fruits', 'Meat', 'Fish', 'Sweets', 'Gold'] not in index\""
     ]
    }
   ],
   "source": [
    "# drop colums that we use to create the total purchase and spending and NumberofChildren and TotalCampaignsAcc\n",
    "df = df[\n",
    "    ['Education', 'Marital_Status', 'Income', 'Spending', 'Seniority',\n",
    "     'Has_child', 'Children', 'Wines', 'Fruits', 'Meat', 'Fish', 'Sweets',\n",
    "     'Gold']]"
   ],
   "metadata": {
    "collapsed": false,
    "pycharm": {
     "name": "#%%\n"
    }
   }
  },
  {
   "cell_type": "code",
   "execution_count": null,
   "outputs": [],
   "source": [
    "df.head()"
   ],
   "metadata": {
    "collapsed": false,
    "pycharm": {
     "name": "#%%\n"
    }
   }
  },
  {
   "cell_type": "code",
   "execution_count": null,
   "outputs": [],
   "source": [
    "#plotting Boxplot for income'\n",
    "\n",
    "plt.figure(figsize=(10,4))\n",
    "sns.boxplot(df['Income'])\n",
    "plt.title('Income boxplot', size=16)\n",
    "plt.show()"
   ],
   "metadata": {
    "collapsed": false,
    "pycharm": {
     "name": "#%%\n"
    }
   }
  },
  {
   "cell_type": "code",
   "execution_count": null,
   "outputs": [],
   "source": [
    "#Calculating the upper whisker for the Income variable\n",
    "\n",
    "Q1 = df.quantile(q=0.25) #First quartile\n",
    "Q3 = df.quantile(q=0.75) #Third quartile\n",
    "IQR = Q3 - Q1            #Inter Quartile Range\n",
    "\n",
    "upper_whisker = (Q3 + 1.5*IQR)['Income']   #Upper Whisker\n",
    "print(upper_whisker)\n"
   ],
   "metadata": {
    "collapsed": false,
    "pycharm": {
     "name": "#%%\n"
    }
   }
  },
  {
   "cell_type": "code",
   "execution_count": null,
   "outputs": [],
   "source": [
    "# delete outliers\n",
    "df =df[df['Income'] < upper_whisker]"
   ],
   "metadata": {
    "collapsed": false,
    "pycharm": {
     "name": "#%%\n"
    }
   }
  },
  {
   "cell_type": "code",
   "execution_count": null,
   "outputs": [],
   "source": [
    "# حذف داده های تکراری\n",
    "df.drop_duplicates(inplace=True)\n",
    "df.reset_index(drop=True, inplace=True)\n",
    "df.shape"
   ],
   "metadata": {
    "collapsed": false,
    "pycharm": {
     "name": "#%%\n"
    }
   }
  },
  {
   "cell_type": "code",
   "execution_count": null,
   "outputs": [],
   "source": [
    "df.head()"
   ],
   "metadata": {
    "collapsed": false,
    "pycharm": {
     "name": "#%%\n"
    }
   }
  },
  {
   "cell_type": "code",
   "execution_count": null,
   "outputs": [],
   "source": [
    "# str into datetime\n",
    "df['Dt_Customer'] = pd.to_datetime(df['Dt_Customer'],\n",
    "                                            dayfirst=True, format='%Y-%m-%d')\n",
    "df.head()\n"
   ],
   "metadata": {
    "collapsed": false,
    "pycharm": {
     "name": "#%%\n"
    }
   }
  },
  {
   "cell_type": "code",
   "execution_count": null,
   "outputs": [],
   "source": [
    "from datetime import date\n",
    "\n",
    "# محاسبه تعداد ماه ورود\n",
    "last_date = date(2021, 10, 4)\n",
    "df['Dt_Customer'] = pd.to_numeric(\n",
    "    df['Dt_Customer'].dt.date.apply(lambda x: (last_date - x)).dt.days,\n",
    "    downcast='integer') // 30\n",
    "df.head()"
   ],
   "metadata": {
    "collapsed": false,
    "pycharm": {
     "name": "#%%\n"
    }
   }
  },
  {
   "cell_type": "code",
   "execution_count": null,
   "outputs": [],
   "source": [
    "plt.figure(figsize=(20,20))\n",
    "sns.heatmap(df.corr(), annot=True)\n",
    "plt.show()"
   ],
   "metadata": {
    "collapsed": false,
    "pycharm": {
     "name": "#%%\n"
    }
   }
  },
  {
   "cell_type": "markdown",
   "source": [
    "### according to heatmap diagram income and spending are depend to each others and then total purchase and income"
   ],
   "metadata": {
    "collapsed": false,
    "pycharm": {
     "name": "#%% md\n"
    }
   }
  },
  {
   "cell_type": "code",
   "execution_count": null,
   "outputs": [],
   "source": [
    "df = pd.get_dummies(df)\n",
    "df.head()"
   ],
   "metadata": {
    "collapsed": false,
    "pycharm": {
     "name": "#%%\n"
    }
   }
  },
  {
   "cell_type": "code",
   "execution_count": null,
   "outputs": [],
   "source": [
    "data = df.to_csv()\n",
    "with open('data_customer.csv', 'w') as f:\n",
    "    f.write(data)"
   ],
   "metadata": {
    "collapsed": false,
    "pycharm": {
     "name": "#%%\n"
    }
   }
  },
  {
   "cell_type": "code",
   "execution_count": null,
   "outputs": [],
   "source": [
    "df.head()"
   ],
   "metadata": {
    "collapsed": false,
    "pycharm": {
     "name": "#%%\n"
    }
   }
  },
  {
   "cell_type": "code",
   "execution_count": null,
   "outputs": [],
   "source": [],
   "metadata": {
    "collapsed": false,
    "pycharm": {
     "name": "#%%\n"
    }
   }
  }
 ],
 "metadata": {
  "kernelspec": {
   "display_name": "Python 3",
   "language": "python",
   "name": "python3"
  },
  "language_info": {
   "codemirror_mode": {
    "name": "ipython",
    "version": 2
   },
   "file_extension": ".py",
   "mimetype": "text/x-python",
   "name": "python",
   "nbconvert_exporter": "python",
   "pygments_lexer": "ipython2",
   "version": "2.7.6"
  }
 },
 "nbformat": 4,
 "nbformat_minor": 0
}