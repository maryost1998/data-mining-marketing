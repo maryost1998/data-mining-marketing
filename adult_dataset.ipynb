{
 "cells": [
  {
   "cell_type": "code",
   "execution_count": 2,
   "outputs": [],
   "source": [
    "import numpy as np   # linear algebra\n",
    "import pandas as pd  # data processing\n",
    "import matplotlib.pyplot as plt\n",
    "import seaborn as sns\n",
    "\n",
    "\n"
   ],
   "metadata": {
    "collapsed": false,
    "pycharm": {
     "name": "#%%\n"
    }
   }
  },
  {
   "cell_type": "code",
   "execution_count": 3,
   "outputs": [
    {
     "data": {
      "text/plain": "   Age          Workclass  fnlwgt   Education  Education-num  \\\n0   39          State-gov   77516   Bachelors             13   \n1   50   Self-emp-not-inc   83311   Bachelors             13   \n2   38            Private  215646     HS-grad              9   \n3   53            Private  234721        11th              7   \n4   28            Private  338409   Bachelors             13   \n\n        Marital_Status          Occupation    Relationship    Race      Sex  \\\n0        Never-married        Adm-clerical   Not-in-family   White     Male   \n1   Married-civ-spouse     Exec-managerial         Husband   White     Male   \n2             Divorced   Handlers-cleaners   Not-in-family   White     Male   \n3   Married-civ-spouse   Handlers-cleaners         Husband   Black     Male   \n4   Married-civ-spouse      Prof-specialty            Wife   Black   Female   \n\n   Capital-gain  Capital-loss  hrs_per_week  Native-Country  income  \n0          2174             0            40   United-States   <=50K  \n1             0             0            13   United-States   <=50K  \n2             0             0            40   United-States   <=50K  \n3             0             0            40   United-States   <=50K  \n4             0             0            40            Cuba   <=50K  ",
      "text/html": "<div>\n<style scoped>\n    .dataframe tbody tr th:only-of-type {\n        vertical-align: middle;\n    }\n\n    .dataframe tbody tr th {\n        vertical-align: top;\n    }\n\n    .dataframe thead th {\n        text-align: right;\n    }\n</style>\n<table border=\"1\" class=\"dataframe\">\n  <thead>\n    <tr style=\"text-align: right;\">\n      <th></th>\n      <th>Age</th>\n      <th>Workclass</th>\n      <th>fnlwgt</th>\n      <th>Education</th>\n      <th>Education-num</th>\n      <th>Marital_Status</th>\n      <th>Occupation</th>\n      <th>Relationship</th>\n      <th>Race</th>\n      <th>Sex</th>\n      <th>Capital-gain</th>\n      <th>Capital-loss</th>\n      <th>hrs_per_week</th>\n      <th>Native-Country</th>\n      <th>income</th>\n    </tr>\n  </thead>\n  <tbody>\n    <tr>\n      <th>0</th>\n      <td>39</td>\n      <td>State-gov</td>\n      <td>77516</td>\n      <td>Bachelors</td>\n      <td>13</td>\n      <td>Never-married</td>\n      <td>Adm-clerical</td>\n      <td>Not-in-family</td>\n      <td>White</td>\n      <td>Male</td>\n      <td>2174</td>\n      <td>0</td>\n      <td>40</td>\n      <td>United-States</td>\n      <td>&lt;=50K</td>\n    </tr>\n    <tr>\n      <th>1</th>\n      <td>50</td>\n      <td>Self-emp-not-inc</td>\n      <td>83311</td>\n      <td>Bachelors</td>\n      <td>13</td>\n      <td>Married-civ-spouse</td>\n      <td>Exec-managerial</td>\n      <td>Husband</td>\n      <td>White</td>\n      <td>Male</td>\n      <td>0</td>\n      <td>0</td>\n      <td>13</td>\n      <td>United-States</td>\n      <td>&lt;=50K</td>\n    </tr>\n    <tr>\n      <th>2</th>\n      <td>38</td>\n      <td>Private</td>\n      <td>215646</td>\n      <td>HS-grad</td>\n      <td>9</td>\n      <td>Divorced</td>\n      <td>Handlers-cleaners</td>\n      <td>Not-in-family</td>\n      <td>White</td>\n      <td>Male</td>\n      <td>0</td>\n      <td>0</td>\n      <td>40</td>\n      <td>United-States</td>\n      <td>&lt;=50K</td>\n    </tr>\n    <tr>\n      <th>3</th>\n      <td>53</td>\n      <td>Private</td>\n      <td>234721</td>\n      <td>11th</td>\n      <td>7</td>\n      <td>Married-civ-spouse</td>\n      <td>Handlers-cleaners</td>\n      <td>Husband</td>\n      <td>Black</td>\n      <td>Male</td>\n      <td>0</td>\n      <td>0</td>\n      <td>40</td>\n      <td>United-States</td>\n      <td>&lt;=50K</td>\n    </tr>\n    <tr>\n      <th>4</th>\n      <td>28</td>\n      <td>Private</td>\n      <td>338409</td>\n      <td>Bachelors</td>\n      <td>13</td>\n      <td>Married-civ-spouse</td>\n      <td>Prof-specialty</td>\n      <td>Wife</td>\n      <td>Black</td>\n      <td>Female</td>\n      <td>0</td>\n      <td>0</td>\n      <td>40</td>\n      <td>Cuba</td>\n      <td>&lt;=50K</td>\n    </tr>\n  </tbody>\n</table>\n</div>"
     },
     "execution_count": 3,
     "metadata": {},
     "output_type": "execute_result"
    }
   ],
   "source": [
    "# first we have to put name on columns\n",
    "data_header = ['Age','Workclass','fnlwgt','Education','Education-num','Marital_Status','Occupation','Relationship','Race','Sex','Capital-gain','Capital-loss','hrs_per_week','Native-Country','income']\n",
    "\n",
    "adult_data = pd.read_csv('adult.csv', names = data_header)\n",
    "adult_data.head()"
   ],
   "metadata": {
    "collapsed": false,
    "pycharm": {
     "name": "#%%\n"
    }
   }
  },
  {
   "cell_type": "code",
   "execution_count": 4,
   "outputs": [
    {
     "data": {
      "text/plain": "(32561, 15)"
     },
     "execution_count": 4,
     "metadata": {},
     "output_type": "execute_result"
    }
   ],
   "source": [
    "adult_data.shape"
   ],
   "metadata": {
    "collapsed": false,
    "pycharm": {
     "name": "#%%\n"
    }
   }
  },
  {
   "cell_type": "code",
   "execution_count": 5,
   "outputs": [
    {
     "data": {
      "text/plain": "<bound method DataFrame.info of        Age          Workclass  fnlwgt    Education  Education-num  \\\n0       39          State-gov   77516    Bachelors             13   \n1       50   Self-emp-not-inc   83311    Bachelors             13   \n2       38            Private  215646      HS-grad              9   \n3       53            Private  234721         11th              7   \n4       28            Private  338409    Bachelors             13   \n...    ...                ...     ...          ...            ...   \n32556   27            Private  257302   Assoc-acdm             12   \n32557   40            Private  154374      HS-grad              9   \n32558   58            Private  151910      HS-grad              9   \n32559   22            Private  201490      HS-grad              9   \n32560   52       Self-emp-inc  287927      HS-grad              9   \n\n            Marital_Status          Occupation    Relationship    Race  \\\n0            Never-married        Adm-clerical   Not-in-family   White   \n1       Married-civ-spouse     Exec-managerial         Husband   White   \n2                 Divorced   Handlers-cleaners   Not-in-family   White   \n3       Married-civ-spouse   Handlers-cleaners         Husband   Black   \n4       Married-civ-spouse      Prof-specialty            Wife   Black   \n...                    ...                 ...             ...     ...   \n32556   Married-civ-spouse        Tech-support            Wife   White   \n32557   Married-civ-spouse   Machine-op-inspct         Husband   White   \n32558              Widowed        Adm-clerical       Unmarried   White   \n32559        Never-married        Adm-clerical       Own-child   White   \n32560   Married-civ-spouse     Exec-managerial            Wife   White   \n\n           Sex  Capital-gain  Capital-loss  hrs_per_week  Native-Country  \\\n0         Male          2174             0            40   United-States   \n1         Male             0             0            13   United-States   \n2         Male             0             0            40   United-States   \n3         Male             0             0            40   United-States   \n4       Female             0             0            40            Cuba   \n...        ...           ...           ...           ...             ...   \n32556   Female             0             0            38   United-States   \n32557     Male             0             0            40   United-States   \n32558   Female             0             0            40   United-States   \n32559     Male             0             0            20   United-States   \n32560   Female         15024             0            40   United-States   \n\n       income  \n0       <=50K  \n1       <=50K  \n2       <=50K  \n3       <=50K  \n4       <=50K  \n...       ...  \n32556   <=50K  \n32557    >50K  \n32558   <=50K  \n32559   <=50K  \n32560    >50K  \n\n[32561 rows x 15 columns]>"
     },
     "execution_count": 5,
     "metadata": {},
     "output_type": "execute_result"
    }
   ],
   "source": [
    "# show information of dataset\n",
    "adult_data.info"
   ],
   "metadata": {
    "collapsed": false,
    "pycharm": {
     "name": "#%%\n"
    }
   }
  },
  {
   "cell_type": "code",
   "execution_count": 6,
   "outputs": [
    {
     "data": {
      "text/plain": "                 count           mean            std      min       25%  \\\nAge            32561.0      38.581647      13.640433     17.0      28.0   \nfnlwgt         32561.0  189778.366512  105549.977697  12285.0  117827.0   \nEducation-num  32561.0      10.080679       2.572720      1.0       9.0   \nCapital-gain   32561.0    1077.648844    7385.292085      0.0       0.0   \nCapital-loss   32561.0      87.303830     402.960219      0.0       0.0   \nhrs_per_week   32561.0      40.437456      12.347429      1.0      40.0   \n\n                    50%       75%        max  \nAge                37.0      48.0       90.0  \nfnlwgt         178356.0  237051.0  1484705.0  \nEducation-num      10.0      12.0       16.0  \nCapital-gain        0.0       0.0    99999.0  \nCapital-loss        0.0       0.0     4356.0  \nhrs_per_week       40.0      45.0       99.0  ",
      "text/html": "<div>\n<style scoped>\n    .dataframe tbody tr th:only-of-type {\n        vertical-align: middle;\n    }\n\n    .dataframe tbody tr th {\n        vertical-align: top;\n    }\n\n    .dataframe thead th {\n        text-align: right;\n    }\n</style>\n<table border=\"1\" class=\"dataframe\">\n  <thead>\n    <tr style=\"text-align: right;\">\n      <th></th>\n      <th>count</th>\n      <th>mean</th>\n      <th>std</th>\n      <th>min</th>\n      <th>25%</th>\n      <th>50%</th>\n      <th>75%</th>\n      <th>max</th>\n    </tr>\n  </thead>\n  <tbody>\n    <tr>\n      <th>Age</th>\n      <td>32561.0</td>\n      <td>38.581647</td>\n      <td>13.640433</td>\n      <td>17.0</td>\n      <td>28.0</td>\n      <td>37.0</td>\n      <td>48.0</td>\n      <td>90.0</td>\n    </tr>\n    <tr>\n      <th>fnlwgt</th>\n      <td>32561.0</td>\n      <td>189778.366512</td>\n      <td>105549.977697</td>\n      <td>12285.0</td>\n      <td>117827.0</td>\n      <td>178356.0</td>\n      <td>237051.0</td>\n      <td>1484705.0</td>\n    </tr>\n    <tr>\n      <th>Education-num</th>\n      <td>32561.0</td>\n      <td>10.080679</td>\n      <td>2.572720</td>\n      <td>1.0</td>\n      <td>9.0</td>\n      <td>10.0</td>\n      <td>12.0</td>\n      <td>16.0</td>\n    </tr>\n    <tr>\n      <th>Capital-gain</th>\n      <td>32561.0</td>\n      <td>1077.648844</td>\n      <td>7385.292085</td>\n      <td>0.0</td>\n      <td>0.0</td>\n      <td>0.0</td>\n      <td>0.0</td>\n      <td>99999.0</td>\n    </tr>\n    <tr>\n      <th>Capital-loss</th>\n      <td>32561.0</td>\n      <td>87.303830</td>\n      <td>402.960219</td>\n      <td>0.0</td>\n      <td>0.0</td>\n      <td>0.0</td>\n      <td>0.0</td>\n      <td>4356.0</td>\n    </tr>\n    <tr>\n      <th>hrs_per_week</th>\n      <td>32561.0</td>\n      <td>40.437456</td>\n      <td>12.347429</td>\n      <td>1.0</td>\n      <td>40.0</td>\n      <td>40.0</td>\n      <td>45.0</td>\n      <td>99.0</td>\n    </tr>\n  </tbody>\n</table>\n</div>"
     },
     "execution_count": 6,
     "metadata": {},
     "output_type": "execute_result"
    }
   ],
   "source": [
    "adult_data.describe().T\n",
    "# نتیجه گیری\n",
    "# با توجه به std  بالا در ستون های capital-gain and capital-lose و مقادرشون در دبتاست متوجه می شیم که اکثر داده در این دو تا ستون صفر است.\n",
    "#  اfnlwgt وزن افراد است که معمولاً به جمعیت شناسی آنها بستگی دارد، بنابراین باید آن را با کشوری که به آن تعلق دارند در نظر بگیریم."
   ],
   "metadata": {
    "collapsed": false,
    "pycharm": {
     "name": "#%%\n"
    }
   }
  },
  {
   "cell_type": "code",
   "execution_count": 7,
   "outputs": [],
   "source": [
    "# ************************    Let's start analyze features    ***************************"
   ],
   "metadata": {
    "collapsed": false,
    "pycharm": {
     "name": "#%%\n"
    }
   }
  },
  {
   "cell_type": "code",
   "execution_count": 8,
   "outputs": [
    {
     "data": {
      "text/plain": "array([' <=50K', ' >50K'], dtype=object)"
     },
     "execution_count": 8,
     "metadata": {},
     "output_type": "execute_result"
    }
   ],
   "source": [
    "# income\n",
    "# our Target in this dataset is income\n",
    "# این متغیر نشان دهنده این است که آن شخض سالانه درامدش بیشتر از ۵۰ هزار دلار است یا کمتر\n",
    "adult_data['income'].unique()"
   ],
   "metadata": {
    "collapsed": false,
    "pycharm": {
     "name": "#%%\n"
    }
   }
  },
  {
   "cell_type": "code",
   "execution_count": 9,
   "outputs": [
    {
     "data": {
      "text/plain": "1    24720\n0     7841\nName: income, dtype: int64"
     },
     "execution_count": 9,
     "metadata": {},
     "output_type": "execute_result"
    }
   ],
   "source": [
    "# چون فقد دو مقدار داریم مقادیر زا با صفر و یک جایگزین می کنیم\n",
    "income_dic ={' <=50K':1,' >50K':0}\n",
    "adult_data['income']=adult_data['income'].map(income_dic).astype(int)\n",
    "adult_data['income'].value_counts()"
   ],
   "metadata": {
    "collapsed": false,
    "pycharm": {
     "name": "#%%\n"
    }
   }
  },
  {
   "cell_type": "code",
   "execution_count": 10,
   "outputs": [
    {
     "data": {
      "text/plain": "   Age          Workclass  fnlwgt   Education  Education-num  \\\n0   39          State-gov   77516   Bachelors             13   \n1   50   Self-emp-not-inc   83311   Bachelors             13   \n2   38            Private  215646     HS-grad              9   \n3   53            Private  234721        11th              7   \n4   28            Private  338409   Bachelors             13   \n\n        Marital_Status          Occupation    Relationship    Race      Sex  \\\n0        Never-married        Adm-clerical   Not-in-family   White     Male   \n1   Married-civ-spouse     Exec-managerial         Husband   White     Male   \n2             Divorced   Handlers-cleaners   Not-in-family   White     Male   \n3   Married-civ-spouse   Handlers-cleaners         Husband   Black     Male   \n4   Married-civ-spouse      Prof-specialty            Wife   Black   Female   \n\n   Capital-gain  Capital-loss  hrs_per_week  Native-Country  income  \n0          2174             0            40   United-States       1  \n1             0             0            13   United-States       1  \n2             0             0            40   United-States       1  \n3             0             0            40   United-States       1  \n4             0             0            40            Cuba       1  ",
      "text/html": "<div>\n<style scoped>\n    .dataframe tbody tr th:only-of-type {\n        vertical-align: middle;\n    }\n\n    .dataframe tbody tr th {\n        vertical-align: top;\n    }\n\n    .dataframe thead th {\n        text-align: right;\n    }\n</style>\n<table border=\"1\" class=\"dataframe\">\n  <thead>\n    <tr style=\"text-align: right;\">\n      <th></th>\n      <th>Age</th>\n      <th>Workclass</th>\n      <th>fnlwgt</th>\n      <th>Education</th>\n      <th>Education-num</th>\n      <th>Marital_Status</th>\n      <th>Occupation</th>\n      <th>Relationship</th>\n      <th>Race</th>\n      <th>Sex</th>\n      <th>Capital-gain</th>\n      <th>Capital-loss</th>\n      <th>hrs_per_week</th>\n      <th>Native-Country</th>\n      <th>income</th>\n    </tr>\n  </thead>\n  <tbody>\n    <tr>\n      <th>0</th>\n      <td>39</td>\n      <td>State-gov</td>\n      <td>77516</td>\n      <td>Bachelors</td>\n      <td>13</td>\n      <td>Never-married</td>\n      <td>Adm-clerical</td>\n      <td>Not-in-family</td>\n      <td>White</td>\n      <td>Male</td>\n      <td>2174</td>\n      <td>0</td>\n      <td>40</td>\n      <td>United-States</td>\n      <td>1</td>\n    </tr>\n    <tr>\n      <th>1</th>\n      <td>50</td>\n      <td>Self-emp-not-inc</td>\n      <td>83311</td>\n      <td>Bachelors</td>\n      <td>13</td>\n      <td>Married-civ-spouse</td>\n      <td>Exec-managerial</td>\n      <td>Husband</td>\n      <td>White</td>\n      <td>Male</td>\n      <td>0</td>\n      <td>0</td>\n      <td>13</td>\n      <td>United-States</td>\n      <td>1</td>\n    </tr>\n    <tr>\n      <th>2</th>\n      <td>38</td>\n      <td>Private</td>\n      <td>215646</td>\n      <td>HS-grad</td>\n      <td>9</td>\n      <td>Divorced</td>\n      <td>Handlers-cleaners</td>\n      <td>Not-in-family</td>\n      <td>White</td>\n      <td>Male</td>\n      <td>0</td>\n      <td>0</td>\n      <td>40</td>\n      <td>United-States</td>\n      <td>1</td>\n    </tr>\n    <tr>\n      <th>3</th>\n      <td>53</td>\n      <td>Private</td>\n      <td>234721</td>\n      <td>11th</td>\n      <td>7</td>\n      <td>Married-civ-spouse</td>\n      <td>Handlers-cleaners</td>\n      <td>Husband</td>\n      <td>Black</td>\n      <td>Male</td>\n      <td>0</td>\n      <td>0</td>\n      <td>40</td>\n      <td>United-States</td>\n      <td>1</td>\n    </tr>\n    <tr>\n      <th>4</th>\n      <td>28</td>\n      <td>Private</td>\n      <td>338409</td>\n      <td>Bachelors</td>\n      <td>13</td>\n      <td>Married-civ-spouse</td>\n      <td>Prof-specialty</td>\n      <td>Wife</td>\n      <td>Black</td>\n      <td>Female</td>\n      <td>0</td>\n      <td>0</td>\n      <td>40</td>\n      <td>Cuba</td>\n      <td>1</td>\n    </tr>\n  </tbody>\n</table>\n</div>"
     },
     "execution_count": 10,
     "metadata": {},
     "output_type": "execute_result"
    }
   ],
   "source": [
    "adult_data.head()"
   ],
   "metadata": {
    "collapsed": false,
    "pycharm": {
     "name": "#%%\n"
    }
   }
  },
  {
   "cell_type": "code",
   "execution_count": 11,
   "outputs": [
    {
     "data": {
      "text/plain": " Private             22696\n Self-emp-not-inc     2541\n Local-gov            2093\n ?                    1836\n State-gov            1298\n Self-emp-inc         1116\n Federal-gov           960\n Without-pay            14\n Never-worked            7\nName: Workclass, dtype: int64"
     },
     "execution_count": 11,
     "metadata": {},
     "output_type": "execute_result"
    }
   ],
   "source": [
    "# workclass\n",
    "# Class of work\n",
    "# این ویژگی نشان دهنده ی این است که یک شخص از چ طریقی درامد دارد. یعنی کجا کار می کنه: مصلا تو بخش خصوصیه با تو دولت کار میکنه یا اصلا حقوق نم گیرد.\n",
    "adult_data['Workclass'].value_counts()"
   ],
   "metadata": {
    "collapsed": false,
    "pycharm": {
     "name": "#%%\n"
    }
   }
  },
  {
   "cell_type": "code",
   "execution_count": 12,
   "outputs": [],
   "source": [
    "#this column have missing value\n",
    "# تبدبل ؟ به nan\n",
    "adult_data['Workclass'] = adult_data['Workclass'].replace(' ?',np.nan)"
   ],
   "metadata": {
    "collapsed": false,
    "pycharm": {
     "name": "#%%\n"
    }
   }
  },
  {
   "cell_type": "code",
   "execution_count": 13,
   "outputs": [
    {
     "data": {
      "text/plain": "array([' Bachelors', ' HS-grad', ' 11th', ' Masters', ' 9th',\n       ' Some-college', ' Assoc-acdm', ' Assoc-voc', ' 7th-8th',\n       ' Doctorate', ' Prof-school', ' 5th-6th', ' 10th', ' 1st-4th',\n       ' Preschool', ' 12th'], dtype=object)"
     },
     "execution_count": 13,
     "metadata": {},
     "output_type": "execute_result"
    }
   ],
   "source": [
    "# Education\n",
    "# Education level\n",
    "adult_data['Education'].unique()"
   ],
   "metadata": {
    "collapsed": false,
    "pycharm": {
     "name": "#%%\n"
    }
   }
  },
  {
   "cell_type": "code",
   "execution_count": 14,
   "outputs": [
    {
     "data": {
      "text/plain": "array([13,  9,  7, 14,  5, 10, 12, 11,  4, 16, 15,  3,  6,  2,  1,  8])"
     },
     "execution_count": 14,
     "metadata": {},
     "output_type": "execute_result"
    }
   ],
   "source": [
    "# Education-num\n",
    "# Numeric education level\n",
    "adult_data['Education-num'].unique()\n",
    "# 0 to 16"
   ],
   "metadata": {
    "collapsed": false,
    "pycharm": {
     "name": "#%%\n"
    }
   }
  },
  {
   "cell_type": "code",
   "execution_count": 15,
   "outputs": [
    {
     "data": {
      "text/plain": "array([ 77516,  83311, 215646, ...,  34066,  84661, 257302])"
     },
     "execution_count": 15,
     "metadata": {},
     "output_type": "execute_result"
    }
   ],
   "source": [
    "# fnlwgt\n",
    "# وزن نهایی این که چه تعداد از جمعیت را نمایندگی می کند\n",
    "adult_data['fnlwgt'].unique()\n",
    "# Min: 12285\n",
    "# Max: 1490400"
   ],
   "metadata": {
    "collapsed": false,
    "pycharm": {
     "name": "#%%\n"
    }
   }
  },
  {
   "cell_type": "code",
   "execution_count": 16,
   "outputs": [
    {
     "data": {
      "text/plain": " Married-civ-spouse       14976\n Never-married            10683\n Divorced                  4443\n Separated                 1025\n Widowed                    993\n Married-spouse-absent      418\n Married-AF-spouse           23\nName: Marital_Status, dtype: int64"
     },
     "execution_count": 16,
     "metadata": {},
     "output_type": "execute_result"
    }
   ],
   "source": [
    "# Marital_Status\n",
    "# وضعیت تأهل فرد\n",
    "adult_data['Marital_Status'].unique()\n",
    "adult_data['Marital_Status'].value_counts()\n"
   ],
   "metadata": {
    "collapsed": false,
    "pycharm": {
     "name": "#%%\n"
    }
   }
  },
  {
   "cell_type": "code",
   "execution_count": 17,
   "outputs": [],
   "source": [
    "# Occupation\n",
    "#شغل فرد\n",
    "adult_data['Occupation'].unique()\n",
    "# دیتا null وجود دارد\n",
    "adult_data['Occupation'] = adult_data['Occupation'].replace(' ?',np.nan)\n"
   ],
   "metadata": {
    "collapsed": false,
    "pycharm": {
     "name": "#%%\n"
    }
   }
  },
  {
   "cell_type": "code",
   "execution_count": 18,
   "outputs": [
    {
     "data": {
      "text/plain": "array([' Not-in-family', ' Husband', ' Wife', ' Own-child', ' Unmarried',\n       ' Other-relative'], dtype=object)"
     },
     "execution_count": 18,
     "metadata": {},
     "output_type": "execute_result"
    }
   ],
   "source": [
    "# Relationship\n",
    "# نوع رابطه\n",
    "adult_data['Relationship'].unique()"
   ],
   "metadata": {
    "collapsed": false,
    "pycharm": {
     "name": "#%%\n"
    }
   }
  },
  {
   "cell_type": "code",
   "execution_count": 19,
   "outputs": [
    {
     "data": {
      "text/plain": "array([' White', ' Black', ' Asian-Pac-Islander', ' Amer-Indian-Eskimo',\n       ' Other'], dtype=object)"
     },
     "execution_count": 19,
     "metadata": {},
     "output_type": "execute_result"
    }
   ],
   "source": [
    "# Race\n",
    "# نژاد شخص\n",
    "adult_data['Race'].unique()"
   ],
   "metadata": {
    "collapsed": false,
    "pycharm": {
     "name": "#%%\n"
    }
   }
  },
  {
   "cell_type": "code",
   "execution_count": 20,
   "outputs": [
    {
     "data": {
      "text/plain": "1    21790\n0    10771\nName: Sex, dtype: int64"
     },
     "execution_count": 20,
     "metadata": {},
     "output_type": "execute_result"
    }
   ],
   "source": [
    "# Sex\n",
    "# جنسیت یک فرد\n",
    "adult_data['Sex'].unique()\n",
    "# تبدیل به داده های عددی\n",
    "adult_data['Sex'] = adult_data['Sex'].map({' Male':1,' Female':0}).astype(int)\n",
    "adult_data['Sex'].value_counts()"
   ],
   "metadata": {
    "collapsed": false,
    "pycharm": {
     "name": "#%%\n"
    }
   }
  },
  {
   "cell_type": "code",
   "execution_count": 21,
   "outputs": [
    {
     "data": {
      "text/plain": "array([ 2174,     0, 14084,  5178,  5013,  2407, 14344, 15024,  7688,\n       34095,  4064,  4386,  7298,  1409,  3674,  1055,  3464,  2050,\n        2176,   594, 20051,  6849,  4101,  1111,  8614,  3411,  2597,\n       25236,  4650,  9386,  2463,  3103, 10605,  2964,  3325,  2580,\n        3471,  4865, 99999,  6514,  1471,  2329,  2105,  2885, 25124,\n       10520,  2202,  2961, 27828,  6767,  2228,  1506, 13550,  2635,\n        5556,  4787,  3781,  3137,  3818,  3942,   914,   401,  2829,\n        2977,  4934,  2062,  2354,  5455, 15020,  1424,  3273, 22040,\n        4416,  3908, 10566,   991,  4931,  1086,  7430,  6497,   114,\n        7896,  2346,  3418,  3432,  2907,  1151,  2414,  2290, 15831,\n       41310,  4508,  2538,  3456,  6418,  1848,  3887,  5721,  9562,\n        1455,  2036,  1831, 11678,  2936,  2993,  7443,  6360,  1797,\n        1173,  4687,  6723,  2009,  6097,  2653,  1639, 18481,  7978,\n        2387,  5060])"
     },
     "execution_count": 21,
     "metadata": {},
     "output_type": "execute_result"
    }
   ],
   "source": [
    "# Capital-gain\n",
    "#سود سرمایه به دست آمده\n",
    "adult_data['Capital-gain'].unique()\n",
    "# Min: 0\n",
    "#Max: 99999"
   ],
   "metadata": {
    "collapsed": false,
    "pycharm": {
     "name": "#%%\n"
    }
   }
  },
  {
   "cell_type": "code",
   "execution_count": 22,
   "outputs": [],
   "source": [
    "# capital_loss\n",
    "# از دست دادن سرمایه\n",
    "#adult_data['Capital-loss'].unique()\n",
    "#Min: 0\n",
    "#Max: 4356"
   ],
   "metadata": {
    "collapsed": false,
    "pycharm": {
     "name": "#%%\n"
    }
   }
  },
  {
   "cell_type": "code",
   "execution_count": 23,
   "outputs": [],
   "source": [
    "# hours_per_week\n",
    "# میانگین تعداد ساعات کار در هفته\n",
    "# Min: 1\n",
    "# Max: 99"
   ],
   "metadata": {
    "collapsed": false,
    "pycharm": {
     "name": "#%%\n"
    }
   }
  },
  {
   "cell_type": "code",
   "execution_count": 24,
   "outputs": [],
   "source": [
    "# native_country\n",
    "# کشور مبدا\n",
    "adult_data['Native-Country'].unique()\n",
    "# حذف ؟\n",
    "adult_data['Native-Country'] = adult_data['Native-Country'].replace(' ?',np.nan)\n"
   ],
   "metadata": {
    "collapsed": false,
    "pycharm": {
     "name": "#%%\n"
    }
   }
  },
  {
   "cell_type": "code",
   "execution_count": 25,
   "outputs": [],
   "source": [
    "# ********************  Show relevency with heat map **********************"
   ],
   "metadata": {
    "collapsed": false,
    "pycharm": {
     "name": "#%%\n"
    }
   }
  },
  {
   "cell_type": "code",
   "execution_count": 26,
   "outputs": [
    {
     "data": {
      "text/plain": "<AxesSubplot:>"
     },
     "execution_count": 26,
     "metadata": {},
     "output_type": "execute_result"
    },
    {
     "data": {
      "text/plain": "<Figure size 1080x576 with 2 Axes>",
      "image/png": "[encoded data removed]"
     },
     "metadata": {
      "needs_background": "light"
     },
     "output_type": "display_data"
    }
   ],
   "source": [
    "# Group all continous variables\n",
    "df_continous = adult_data[['income', 'Age', 'fnlwgt', 'Education-num', 'Capital-gain', 'Capital-loss', 'hrs_per_week']]\n",
    "# Correlation matrix\n",
    "plt.figure(figsize=(15, 8))\n",
    "sns.heatmap(data=df_continous.corr(), annot=True,  cmap=\"coolwarm\")"
   ],
   "metadata": {
    "collapsed": false,
    "pycharm": {
     "name": "#%%\n"
    }
   }
  },
  {
   "cell_type": "code",
   "execution_count": 27,
   "outputs": [],
   "source": [
    "# طبق نمودار بالا fnlwgt با income همبستگی بالایی ندارد پس می توانیم از دیتاست حذفش کنبم\n",
    "adult_data.drop(['fnlwgt'], axis=1,  inplace=True)"
   ],
   "metadata": {
    "collapsed": false,
    "pycharm": {
     "name": "#%%\n"
    }
   }
  },
  {
   "cell_type": "code",
   "execution_count": 28,
   "outputs": [
    {
     "data": {
      "text/plain": " HS-grad         10501\n Some-college     7291\n Bachelors        5355\n Masters          1723\n Assoc-voc        1382\n 11th             1175\n Assoc-acdm       1067\n 10th              933\n 7th-8th           646\n Prof-school       576\n 9th               514\n 12th              433\n Doctorate         413\n 5th-6th           333\n 1st-4th           168\n Preschool          51\nName: Education, dtype: int64"
     },
     "execution_count": 28,
     "metadata": {},
     "output_type": "execute_result"
    }
   ],
   "source": [
    "# حذف Eduacatim-num\n",
    "adult_data['Education'].value_counts()\n"
   ],
   "metadata": {
    "collapsed": false,
    "pycharm": {
     "name": "#%%\n"
    }
   }
  },
  {
   "cell_type": "code",
   "execution_count": 29,
   "outputs": [
    {
     "data": {
      "text/plain": "9     10501\n10     7291\n13     5355\n14     1723\n11     1382\n7      1175\n12     1067\n6       933\n4       646\n15      576\n5       514\n8       433\n16      413\n3       333\n2       168\n1        51\nName: Education-num, dtype: int64"
     },
     "execution_count": 29,
     "metadata": {},
     "output_type": "execute_result"
    }
   ],
   "source": [
    "adult_data['Education-num'].value_counts()"
   ],
   "metadata": {
    "collapsed": false,
    "pycharm": {
     "name": "#%%\n"
    }
   }
  },
  {
   "cell_type": "code",
   "execution_count": 30,
   "outputs": [],
   "source": [
    "# طیق دو کد بالا ستون Eduacation and Eduacatin-num مقادیر یکسانی دارند پس میتوانیم یکی را حذف کنیم\n",
    "adult_data.drop(['Education-num'], axis=1,  inplace=True)"
   ],
   "metadata": {
    "collapsed": false,
    "pycharm": {
     "name": "#%%\n"
    }
   }
  },
  {
   "cell_type": "code",
   "execution_count": 31,
   "outputs": [
    {
     "data": {
      "text/plain": "(32561, 13)"
     },
     "execution_count": 31,
     "metadata": {},
     "output_type": "execute_result"
    }
   ],
   "source": [
    "adult_data.shape"
   ],
   "metadata": {
    "collapsed": false,
    "pycharm": {
     "name": "#%%\n"
    }
   }
  },
  {
   "cell_type": "code",
   "execution_count": 32,
   "outputs": [
    {
     "data": {
      "text/plain": "(29096, 13)"
     },
     "execution_count": 32,
     "metadata": {},
     "output_type": "execute_result"
    }
   ],
   "source": [
    "# حذف داده های تکراری\n",
    "adult_data.drop_duplicates(inplace=True)\n",
    "adult_data.reset_index(drop=True, inplace=True)\n",
    "adult_data.shape"
   ],
   "metadata": {
    "collapsed": false,
    "pycharm": {
     "name": "#%%\n"
    }
   }
  },
  {
   "cell_type": "code",
   "execution_count": 33,
   "outputs": [
    {
     "data": {
      "text/plain": "(26904, 13)"
     },
     "execution_count": 33,
     "metadata": {},
     "output_type": "execute_result"
    }
   ],
   "source": [
    "# حذف مفادیر nan\n",
    "adult_data.dropna(how='any',inplace=True)\n",
    "adult_data.shape"
   ],
   "metadata": {
    "collapsed": false,
    "pycharm": {
     "name": "#%%\n"
    }
   }
  },
  {
   "cell_type": "code",
   "execution_count": 34,
   "outputs": [
    {
     "data": {
      "text/plain": "       Age  Sex  Capital-gain  Capital-loss  hrs_per_week  income  \\\n22104   32    0          5013             0            45       1   \n2516    25    1             0             0            50       1   \n22776   47    1          5178             0            40       0   \n22309   24    1             0             0            55       1   \n15318   56    1             0             0            40       1   \n26406   22    1             0             0            40       1   \n8132    23    1             0             0            35       1   \n1579    26    1             0             0            40       1   \n15080   39    1             0             0            50       0   \n25946   63    0         14084             0            60       0   \n25607   33    0             0             0            40       1   \n25938   21    1             0             0            32       1   \n1598    58    0             0             0            52       1   \n19356   46    1             0             0            50       0   \n21264   45    1          7298             0            40       0   \n24314   28    0             0             0            40       1   \n3661    29    1             0             0            40       1   \n23103   57    1             0             0            40       1   \n9315    33    1             0             0            55       1   \n23866   55    1             0             0            40       0   \n11949   44    1             0             0            40       1   \n20617   59    0             0             0            22       0   \n19639   48    1             0             0            50       0   \n22959   61    1          3411             0            45       1   \n7084    37    1             0             0            50       0   \n11958   47    1         99999             0            50       0   \n13543   51    1             0             0            50       1   \n27538   68    1             0             0            40       1   \n3369    19    0             0             0            25       1   \n19987   62    0             0             0            60       1   \n4199    31    0             0             0            40       1   \n16685   31    0          2463             0            38       1   \n4033    23    1             0             0            50       1   \n24354   32    1             0             0            40       1   \n88      30    1             0             0            40       1   \n22732   46    1             0             0            40       1   \n9417    63    1             0             0            40       1   \n20393   41    1          2174             0            41       1   \n5511    35    0             0             0            27       1   \n23464   51    1             0             0            30       1   \n11464   27    0             0             0            40       1   \n26671   32    1             0             0            50       0   \n14797   61    1             0             0            40       1   \n23157   29    1          2174             0            50       1   \n22302   42    1             0          1887            40       0   \n26504   38    0             0             0            32       1   \n27775   50    1             0             0            62       0   \n6100    37    1             0             0            42       1   \n292     29    1             0             0            56       1   \n17250   43    0             0             0            35       1   \n\n       Workclass_ Federal-gov  Workclass_ Local-gov  Workclass_ Private  \\\n22104                       0                     1                   0   \n2516                        0                     0                   1   \n22776                       0                     0                   1   \n22309                       0                     0                   1   \n15318                       0                     0                   1   \n26406                       0                     0                   1   \n8132                        0                     0                   1   \n1579                        0                     1                   0   \n15080                       0                     0                   1   \n25946                       0                     0                   0   \n25607                       0                     0                   1   \n25938                       0                     0                   1   \n1598                        0                     0                   0   \n19356                       0                     0                   1   \n21264                       0                     0                   1   \n24314                       1                     0                   0   \n3661                        0                     0                   1   \n23103                       0                     0                   1   \n9315                        0                     0                   0   \n23866                       0                     0                   1   \n11949                       0                     0                   1   \n20617                       0                     1                   0   \n19639                       0                     0                   1   \n22959                       0                     0                   1   \n7084                        0                     0                   1   \n11958                       0                     0                   1   \n13543                       0                     0                   1   \n27538                       0                     0                   1   \n3369                        0                     0                   1   \n19987                       0                     0                   1   \n4199                        0                     0                   1   \n16685                       0                     0                   1   \n4033                        0                     0                   1   \n24354                       0                     0                   0   \n88                          0                     0                   1   \n22732                       0                     0                   1   \n9417                        0                     0                   1   \n20393                       0                     0                   1   \n5511                        0                     0                   1   \n23464                       0                     0                   1   \n11464                       0                     1                   0   \n26671                       0                     0                   1   \n14797                       0                     0                   1   \n23157                       0                     0                   1   \n22302                       0                     0                   0   \n26504                       0                     0                   1   \n27775                       0                     0                   1   \n6100                        0                     0                   1   \n292                         0                     1                   0   \n17250                       0                     0                   0   \n\n       Workclass_ Self-emp-inc  ...  Native-Country_ Portugal  \\\n22104                        0  ...                         0   \n2516                         0  ...                         0   \n22776                        0  ...                         0   \n22309                        0  ...                         0   \n15318                        0  ...                         0   \n26406                        0  ...                         0   \n8132                         0  ...                         0   \n1579                         0  ...                         0   \n15080                        0  ...                         0   \n25946                        1  ...                         0   \n25607                        0  ...                         0   \n25938                        0  ...                         0   \n1598                         0  ...                         0   \n19356                        0  ...                         0   \n21264                        0  ...                         0   \n24314                        0  ...                         0   \n3661                         0  ...                         0   \n23103                        0  ...                         0   \n9315                         0  ...                         0   \n23866                        0  ...                         0   \n11949                        0  ...                         0   \n20617                        0  ...                         0   \n19639                        0  ...                         0   \n22959                        0  ...                         0   \n7084                         0  ...                         0   \n11958                        0  ...                         0   \n13543                        0  ...                         0   \n27538                        0  ...                         0   \n3369                         0  ...                         0   \n19987                        0  ...                         0   \n4199                         0  ...                         0   \n16685                        0  ...                         0   \n4033                         0  ...                         0   \n24354                        1  ...                         0   \n88                           0  ...                         0   \n22732                        0  ...                         0   \n9417                         0  ...                         0   \n20393                        0  ...                         0   \n5511                         0  ...                         0   \n23464                        0  ...                         0   \n11464                        0  ...                         0   \n26671                        0  ...                         0   \n14797                        0  ...                         0   \n23157                        0  ...                         0   \n22302                        0  ...                         0   \n26504                        0  ...                         0   \n27775                        0  ...                         0   \n6100                         0  ...                         0   \n292                          0  ...                         0   \n17250                        0  ...                         0   \n\n       Native-Country_ Puerto-Rico  Native-Country_ Scotland  \\\n22104                            0                         0   \n2516                             0                         0   \n22776                            0                         0   \n22309                            0                         0   \n15318                            0                         0   \n26406                            0                         0   \n8132                             0                         0   \n1579                             0                         0   \n15080                            0                         0   \n25946                            0                         0   \n25607                            0                         0   \n25938                            0                         0   \n1598                             0                         0   \n19356                            0                         0   \n21264                            0                         0   \n24314                            0                         0   \n3661                             0                         0   \n23103                            0                         0   \n9315                             0                         0   \n23866                            0                         0   \n11949                            0                         0   \n20617                            0                         0   \n19639                            0                         0   \n22959                            0                         0   \n7084                             0                         0   \n11958                            0                         0   \n13543                            0                         0   \n27538                            0                         0   \n3369                             0                         0   \n19987                            0                         0   \n4199                             0                         0   \n16685                            0                         0   \n4033                             0                         0   \n24354                            0                         0   \n88                               0                         0   \n22732                            0                         0   \n9417                             0                         0   \n20393                            0                         0   \n5511                             0                         0   \n23464                            0                         0   \n11464                            0                         0   \n26671                            0                         0   \n14797                            0                         0   \n23157                            0                         0   \n22302                            0                         0   \n26504                            0                         0   \n27775                            0                         0   \n6100                             0                         0   \n292                              0                         0   \n17250                            0                         0   \n\n       Native-Country_ South  Native-Country_ Taiwan  \\\n22104                      0                       0   \n2516                       0                       0   \n22776                      0                       0   \n22309                      0                       0   \n15318                      0                       0   \n26406                      0                       0   \n8132                       0                       0   \n1579                       0                       0   \n15080                      0                       0   \n25946                      0                       0   \n25607                      0                       0   \n25938                      0                       0   \n1598                       0                       0   \n19356                      0                       0   \n21264                      0                       0   \n24314                      0                       0   \n3661                       0                       0   \n23103                      0                       0   \n9315                       0                       0   \n23866                      0                       0   \n11949                      0                       0   \n20617                      0                       0   \n19639                      0                       0   \n22959                      0                       0   \n7084                       0                       0   \n11958                      0                       0   \n13543                      0                       0   \n27538                      0                       0   \n3369                       0                       0   \n19987                      0                       0   \n4199                       0                       0   \n16685                      0                       0   \n4033                       0                       1   \n24354                      0                       0   \n88                         0                       0   \n22732                      0                       0   \n9417                       0                       0   \n20393                      0                       0   \n5511                       0                       0   \n23464                      0                       0   \n11464                      0                       0   \n26671                      0                       0   \n14797                      0                       0   \n23157                      0                       0   \n22302                      0                       0   \n26504                      0                       0   \n27775                      0                       0   \n6100                       0                       0   \n292                        0                       0   \n17250                      0                       0   \n\n       Native-Country_ Thailand  Native-Country_ Trinadad&Tobago  \\\n22104                         0                                0   \n2516                          0                                0   \n22776                         0                                0   \n22309                         0                                0   \n15318                         0                                0   \n26406                         0                                0   \n8132                          0                                0   \n1579                          0                                0   \n15080                         0                                0   \n25946                         0                                0   \n25607                         0                                0   \n25938                         0                                0   \n1598                          0                                0   \n19356                         0                                0   \n21264                         0                                0   \n24314                         0                                0   \n3661                          0                                0   \n23103                         0                                0   \n9315                          0                                0   \n23866                         0                                0   \n11949                         0                                0   \n20617                         0                                0   \n19639                         0                                0   \n22959                         0                                0   \n7084                          0                                0   \n11958                         0                                0   \n13543                         0                                0   \n27538                         0                                0   \n3369                          0                                0   \n19987                         0                                0   \n4199                          0                                0   \n16685                         0                                0   \n4033                          0                                0   \n24354                         0                                0   \n88                            0                                0   \n22732                         0                                0   \n9417                          0                                0   \n20393                         0                                0   \n5511                          0                                0   \n23464                         0                                0   \n11464                         0                                0   \n26671                         0                                0   \n14797                         0                                0   \n23157                         0                                0   \n22302                         0                                0   \n26504                         0                                0   \n27775                         0                                0   \n6100                          0                                0   \n292                           0                                0   \n17250                         0                                0   \n\n       Native-Country_ United-States  Native-Country_ Vietnam  \\\n22104                              1                        0   \n2516                               1                        0   \n22776                              1                        0   \n22309                              1                        0   \n15318                              1                        0   \n26406                              0                        0   \n8132                               1                        0   \n1579                               1                        0   \n15080                              1                        0   \n25946                              1                        0   \n25607                              0                        0   \n25938                              1                        0   \n1598                               1                        0   \n19356                              1                        0   \n21264                              1                        0   \n24314                              1                        0   \n3661                               1                        0   \n23103                              1                        0   \n9315                               0                        0   \n23866                              1                        0   \n11949                              1                        0   \n20617                              1                        0   \n19639                              1                        0   \n22959                              1                        0   \n7084                               1                        0   \n11958                              1                        0   \n13543                              1                        0   \n27538                              1                        0   \n3369                               1                        0   \n19987                              1                        0   \n4199                               1                        0   \n16685                              1                        0   \n4033                               0                        0   \n24354                              1                        0   \n88                                 1                        0   \n22732                              1                        0   \n9417                               1                        0   \n20393                              1                        0   \n5511                               1                        0   \n23464                              1                        0   \n11464                              1                        0   \n26671                              1                        0   \n14797                              0                        0   \n23157                              1                        0   \n22302                              1                        0   \n26504                              1                        0   \n27775                              1                        0   \n6100                               1                        0   \n292                                1                        0   \n17250                              1                        0   \n\n       Native-Country_ Yugoslavia  \n22104                           0  \n2516                            0  \n22776                           0  \n22309                           0  \n15318                           0  \n26406                           0  \n8132                            0  \n1579                            0  \n15080                           0  \n25946                           0  \n25607                           0  \n25938                           0  \n1598                            0  \n19356                           0  \n21264                           0  \n24314                           0  \n3661                            0  \n23103                           0  \n9315                            0  \n23866                           0  \n11949                           0  \n20617                           0  \n19639                           0  \n22959                           0  \n7084                            0  \n11958                           0  \n13543                           0  \n27538                           0  \n3369                            0  \n19987                           0  \n4199                            0  \n16685                           0  \n4033                            0  \n24354                           0  \n88                              0  \n22732                           0  \n9417                            0  \n20393                           0  \n5511                            0  \n23464                           0  \n11464                           0  \n26671                           0  \n14797                           0  \n23157                           0  \n22302                           0  \n26504                           0  \n27775                           0  \n6100                            0  \n292                             0  \n17250                           0  \n\n[50 rows x 102 columns]",
      "text/html": "<div>\n<style scoped>\n    .dataframe tbody tr th:only-of-type {\n        vertical-align: middle;\n    }\n\n    .dataframe tbody tr th {\n        vertical-align: top;\n    }\n\n    .dataframe thead th {\n        text-align: right;\n    }\n</style>\n<table border=\"1\" class=\"dataframe\">\n  <thead>\n    <tr style=\"text-align: right;\">\n      <th></th>\n      <th>Age</th>\n      <th>Sex</th>\n      <th>Capital-gain</th>\n      <th>Capital-loss</th>\n      <th>hrs_per_week</th>\n      <th>income</th>\n      <th>Workclass_ Federal-gov</th>\n      <th>Workclass_ Local-gov</th>\n      <th>Workclass_ Private</th>\n      <th>Workclass_ Self-emp-inc</th>\n      <th>...</th>\n      <th>Native-Country_ Portugal</th>\n      <th>Native-Country_ Puerto-Rico</th>\n      <th>Native-Country_ Scotland</th>\n      <th>Native-Country_ South</th>\n      <th>Native-Country_ Taiwan</th>\n      <th>Native-Country_ Thailand</th>\n      <th>Native-Country_ Trinadad&amp;Tobago</th>\n      <th>Native-Country_ United-States</th>\n      <th>Native-Country_ Vietnam</th>\n      <th>Native-Country_ Yugoslavia</th>\n    </tr>\n  </thead>\n  <tbody>\n    <tr>\n      <th>22104</th>\n      <td>32</td>\n      <td>0</td>\n      <td>5013</td>\n      <td>0</td>\n      <td>45</td>\n      <td>1</td>\n      <td>0</td>\n      <td>1</td>\n      <td>0</td>\n      <td>0</td>\n      <td>...</td>\n      <td>0</td>\n      <td>0</td>\n      <td>0</td>\n      <td>0</td>\n      <td>0</td>\n      <td>0</td>\n      <td>0</td>\n      <td>1</td>\n      <td>0</td>\n      <td>0</td>\n    </tr>\n    <tr>\n      <th>2516</th>\n      <td>25</td>\n      <td>1</td>\n      <td>0</td>\n      <td>0</td>\n      <td>50</td>\n      <td>1</td>\n      <td>0</td>\n      <td>0</td>\n      <td>1</td>\n      <td>0</td>\n      <td>...</td>\n      <td>0</td>\n      <td>0</td>\n      <td>0</td>\n      <td>0</td>\n      <td>0</td>\n      <td>0</td>\n      <td>0</td>\n      <td>1</td>\n      <td>0</td>\n      <td>0</td>\n    </tr>\n    <tr>\n      <th>22776</th>\n      <td>47</td>\n      <td>1</td>\n      <td>5178</td>\n      <td>0</td>\n      <td>40</td>\n      <td>0</td>\n      <td>0</td>\n      <td>0</td>\n      <td>1</td>\n      <td>0</td>\n      <td>...</td>\n      <td>0</td>\n      <td>0</td>\n      <td>0</td>\n      <td>0</td>\n      <td>0</td>\n      <td>0</td>\n      <td>0</td>\n      <td>1</td>\n      <td>0</td>\n      <td>0</td>\n    </tr>\n    <tr>\n      <th>22309</th>\n      <td>24</td>\n      <td>1</td>\n      <td>0</td>\n      <td>0</td>\n      <td>55</td>\n      <td>1</td>\n      <td>0</td>\n      <td>0</td>\n      <td>1</td>\n      <td>0</td>\n      <td>...</td>\n      <td>0</td>\n      <td>0</td>\n      <td>0</td>\n      <td>0</td>\n      <td>0</td>\n      <td>0</td>\n      <td>0</td>\n      <td>1</td>\n      <td>0</td>\n      <td>0</td>\n    </tr>\n    <tr>\n      <th>15318</th>\n      <td>56</td>\n      <td>1</td>\n      <td>0</td>\n      <td>0</td>\n      <td>40</td>\n      <td>1</td>\n      <td>0</td>\n      <td>0</td>\n      <td>1</td>\n      <td>0</td>\n      <td>...</td>\n      <td>0</td>\n      <td>0</td>\n      <td>0</td>\n      <td>0</td>\n      <td>0</td>\n      <td>0</td>\n      <td>0</td>\n      <td>1</td>\n      <td>0</td>\n      <td>0</td>\n    </tr>\n    <tr>\n      <th>26406</th>\n      <td>22</td>\n      <td>1</td>\n      <td>0</td>\n      <td>0</td>\n      <td>40</td>\n      <td>1</td>\n      <td>0</td>\n      <td>0</td>\n      <td>1</td>\n      <td>0</td>\n      <td>...</td>\n      <td>0</td>\n      <td>0</td>\n      <td>0</td>\n      <td>0</td>\n      <td>0</td>\n      <td>0</td>\n      <td>0</td>\n      <td>0</td>\n      <td>0</td>\n      <td>0</td>\n    </tr>\n    <tr>\n      <th>8132</th>\n      <td>23</td>\n      <td>1</td>\n      <td>0</td>\n      <td>0</td>\n      <td>35</td>\n      <td>1</td>\n      <td>0</td>\n      <td>0</td>\n      <td>1</td>\n      <td>0</td>\n      <td>...</td>\n      <td>0</td>\n      <td>0</td>\n      <td>0</td>\n      <td>0</td>\n      <td>0</td>\n      <td>0</td>\n      <td>0</td>\n      <td>1</td>\n      <td>0</td>\n      <td>0</td>\n    </tr>\n    <tr>\n      <th>1579</th>\n      <td>26</td>\n      <td>1</td>\n      <td>0</td>\n      <td>0</td>\n      <td>40</td>\n      <td>1</td>\n      <td>0</td>\n      <td>1</td>\n      <td>0</td>\n      <td>0</td>\n      <td>...</td>\n      <td>0</td>\n      <td>0</td>\n      <td>0</td>\n      <td>0</td>\n      <td>0</td>\n      <td>0</td>\n      <td>0</td>\n      <td>1</td>\n      <td>0</td>\n      <td>0</td>\n    </tr>\n    <tr>\n      <th>15080</th>\n      <td>39</td>\n      <td>1</td>\n      <td>0</td>\n      <td>0</td>\n      <td>50</td>\n      <td>0</td>\n      <td>0</td>\n      <td>0</td>\n      <td>1</td>\n      <td>0</td>\n      <td>...</td>\n      <td>0</td>\n      <td>0</td>\n      <td>0</td>\n      <td>0</td>\n      <td>0</td>\n      <td>0</td>\n      <td>0</td>\n      <td>1</td>\n      <td>0</td>\n      <td>0</td>\n    </tr>\n    <tr>\n      <th>25946</th>\n      <td>63</td>\n      <td>0</td>\n      <td>14084</td>\n      <td>0</td>\n      <td>60</td>\n      <td>0</td>\n      <td>0</td>\n      <td>0</td>\n      <td>0</td>\n      <td>1</td>\n      <td>...</td>\n      <td>0</td>\n      <td>0</td>\n      <td>0</td>\n      <td>0</td>\n      <td>0</td>\n      <td>0</td>\n      <td>0</td>\n      <td>1</td>\n      <td>0</td>\n      <td>0</td>\n    </tr>\n    <tr>\n      <th>25607</th>\n      <td>33</td>\n      <td>0</td>\n      <td>0</td>\n      <td>0</td>\n      <td>40</td>\n      <td>1</td>\n      <td>0</td>\n      <td>0</td>\n      <td>1</td>\n      <td>0</td>\n      <td>...</td>\n      <td>0</td>\n      <td>0</td>\n      <td>0</td>\n      <td>0</td>\n      <td>0</td>\n      <td>0</td>\n      <td>0</td>\n      <td>0</td>\n      <td>0</td>\n      <td>0</td>\n    </tr>\n    <tr>\n      <th>25938</th>\n      <td>21</td>\n      <td>1</td>\n      <td>0</td>\n      <td>0</td>\n      <td>32</td>\n      <td>1</td>\n      <td>0</td>\n      <td>0</td>\n      <td>1</td>\n      <td>0</td>\n      <td>...</td>\n      <td>0</td>\n      <td>0</td>\n      <td>0</td>\n      <td>0</td>\n      <td>0</td>\n      <td>0</td>\n      <td>0</td>\n      <td>1</td>\n      <td>0</td>\n      <td>0</td>\n    </tr>\n    <tr>\n      <th>1598</th>\n      <td>58</td>\n      <td>0</td>\n      <td>0</td>\n      <td>0</td>\n      <td>52</td>\n      <td>1</td>\n      <td>0</td>\n      <td>0</td>\n      <td>0</td>\n      <td>0</td>\n      <td>...</td>\n      <td>0</td>\n      <td>0</td>\n      <td>0</td>\n      <td>0</td>\n      <td>0</td>\n      <td>0</td>\n      <td>0</td>\n      <td>1</td>\n      <td>0</td>\n      <td>0</td>\n    </tr>\n    <tr>\n      <th>19356</th>\n      <td>46</td>\n      <td>1</td>\n      <td>0</td>\n      <td>0</td>\n      <td>50</td>\n      <td>0</td>\n      <td>0</td>\n      <td>0</td>\n      <td>1</td>\n      <td>0</td>\n      <td>...</td>\n      <td>0</td>\n      <td>0</td>\n      <td>0</td>\n      <td>0</td>\n      <td>0</td>\n      <td>0</td>\n      <td>0</td>\n      <td>1</td>\n      <td>0</td>\n      <td>0</td>\n    </tr>\n    <tr>\n      <th>21264</th>\n      <td>45</td>\n      <td>1</td>\n      <td>7298</td>\n      <td>0</td>\n      <td>40</td>\n      <td>0</td>\n      <td>0</td>\n      <td>0</td>\n      <td>1</td>\n      <td>0</td>\n      <td>...</td>\n      <td>0</td>\n      <td>0</td>\n      <td>0</td>\n      <td>0</td>\n      <td>0</td>\n      <td>0</td>\n      <td>0</td>\n      <td>1</td>\n      <td>0</td>\n      <td>0</td>\n    </tr>\n    <tr>\n      <th>24314</th>\n      <td>28</td>\n      <td>0</td>\n      <td>0</td>\n      <td>0</td>\n      <td>40</td>\n      <td>1</td>\n      <td>1</td>\n      <td>0</td>\n      <td>0</td>\n      <td>0</td>\n      <td>...</td>\n      <td>0</td>\n      <td>0</td>\n      <td>0</td>\n      <td>0</td>\n      <td>0</td>\n      <td>0</td>\n      <td>0</td>\n      <td>1</td>\n      <td>0</td>\n      <td>0</td>\n    </tr>\n    <tr>\n      <th>3661</th>\n      <td>29</td>\n      <td>1</td>\n      <td>0</td>\n      <td>0</td>\n      <td>40</td>\n      <td>1</td>\n      <td>0</td>\n      <td>0</td>\n      <td>1</td>\n      <td>0</td>\n      <td>...</td>\n      <td>0</td>\n      <td>0</td>\n      <td>0</td>\n      <td>0</td>\n      <td>0</td>\n      <td>0</td>\n      <td>0</td>\n      <td>1</td>\n      <td>0</td>\n      <td>0</td>\n    </tr>\n    <tr>\n      <th>23103</th>\n      <td>57</td>\n      <td>1</td>\n      <td>0</td>\n      <td>0</td>\n      <td>40</td>\n      <td>1</td>\n      <td>0</td>\n      <td>0</td>\n      <td>1</td>\n      <td>0</td>\n      <td>...</td>\n      <td>0</td>\n      <td>0</td>\n      <td>0</td>\n      <td>0</td>\n      <td>0</td>\n      <td>0</td>\n      <td>0</td>\n      <td>1</td>\n      <td>0</td>\n      <td>0</td>\n    </tr>\n    <tr>\n      <th>9315</th>\n      <td>33</td>\n      <td>1</td>\n      <td>0</td>\n      <td>0</td>\n      <td>55</td>\n      <td>1</td>\n      <td>0</td>\n      <td>0</td>\n      <td>0</td>\n      <td>0</td>\n      <td>...</td>\n      <td>0</td>\n      <td>0</td>\n      <td>0</td>\n      <td>0</td>\n      <td>0</td>\n      <td>0</td>\n      <td>0</td>\n      <td>0</td>\n      <td>0</td>\n      <td>0</td>\n    </tr>\n    <tr>\n      <th>23866</th>\n      <td>55</td>\n      <td>1</td>\n      <td>0</td>\n      <td>0</td>\n      <td>40</td>\n      <td>0</td>\n      <td>0</td>\n      <td>0</td>\n      <td>1</td>\n      <td>0</td>\n      <td>...</td>\n      <td>0</td>\n      <td>0</td>\n      <td>0</td>\n      <td>0</td>\n      <td>0</td>\n      <td>0</td>\n      <td>0</td>\n      <td>1</td>\n      <td>0</td>\n      <td>0</td>\n    </tr>\n    <tr>\n      <th>11949</th>\n      <td>44</td>\n      <td>1</td>\n      <td>0</td>\n      <td>0</td>\n      <td>40</td>\n      <td>1</td>\n      <td>0</td>\n      <td>0</td>\n      <td>1</td>\n      <td>0</td>\n      <td>...</td>\n      <td>0</td>\n      <td>0</td>\n      <td>0</td>\n      <td>0</td>\n      <td>0</td>\n      <td>0</td>\n      <td>0</td>\n      <td>1</td>\n      <td>0</td>\n      <td>0</td>\n    </tr>\n    <tr>\n      <th>20617</th>\n      <td>59</td>\n      <td>0</td>\n      <td>0</td>\n      <td>0</td>\n      <td>22</td>\n      <td>0</td>\n      <td>0</td>\n      <td>1</td>\n      <td>0</td>\n      <td>0</td>\n      <td>...</td>\n      <td>0</td>\n      <td>0</td>\n      <td>0</td>\n      <td>0</td>\n      <td>0</td>\n      <td>0</td>\n      <td>0</td>\n      <td>1</td>\n      <td>0</td>\n      <td>0</td>\n    </tr>\n    <tr>\n      <th>19639</th>\n      <td>48</td>\n      <td>1</td>\n      <td>0</td>\n      <td>0</td>\n      <td>50</td>\n      <td>0</td>\n      <td>0</td>\n      <td>0</td>\n      <td>1</td>\n      <td>0</td>\n      <td>...</td>\n      <td>0</td>\n      <td>0</td>\n      <td>0</td>\n      <td>0</td>\n      <td>0</td>\n      <td>0</td>\n      <td>0</td>\n      <td>1</td>\n      <td>0</td>\n      <td>0</td>\n    </tr>\n    <tr>\n      <th>22959</th>\n      <td>61</td>\n      <td>1</td>\n      <td>3411</td>\n      <td>0</td>\n      <td>45</td>\n      <td>1</td>\n      <td>0</td>\n      <td>0</td>\n      <td>1</td>\n      <td>0</td>\n      <td>...</td>\n      <td>0</td>\n      <td>0</td>\n      <td>0</td>\n      <td>0</td>\n      <td>0</td>\n      <td>0</td>\n      <td>0</td>\n      <td>1</td>\n      <td>0</td>\n      <td>0</td>\n    </tr>\n    <tr>\n      <th>7084</th>\n      <td>37</td>\n      <td>1</td>\n      <td>0</td>\n      <td>0</td>\n      <td>50</td>\n      <td>0</td>\n      <td>0</td>\n      <td>0</td>\n      <td>1</td>\n      <td>0</td>\n      <td>...</td>\n      <td>0</td>\n      <td>0</td>\n      <td>0</td>\n      <td>0</td>\n      <td>0</td>\n      <td>0</td>\n      <td>0</td>\n      <td>1</td>\n      <td>0</td>\n      <td>0</td>\n    </tr>\n    <tr>\n      <th>11958</th>\n      <td>47</td>\n      <td>1</td>\n      <td>99999</td>\n      <td>0</td>\n      <td>50</td>\n      <td>0</td>\n      <td>0</td>\n      <td>0</td>\n      <td>1</td>\n      <td>0</td>\n      <td>...</td>\n      <td>0</td>\n      <td>0</td>\n      <td>0</td>\n      <td>0</td>\n      <td>0</td>\n      <td>0</td>\n      <td>0</td>\n      <td>1</td>\n      <td>0</td>\n      <td>0</td>\n    </tr>\n    <tr>\n      <th>13543</th>\n      <td>51</td>\n      <td>1</td>\n      <td>0</td>\n      <td>0</td>\n      <td>50</td>\n      <td>1</td>\n      <td>0</td>\n      <td>0</td>\n      <td>1</td>\n      <td>0</td>\n      <td>...</td>\n      <td>0</td>\n      <td>0</td>\n      <td>0</td>\n      <td>0</td>\n      <td>0</td>\n      <td>0</td>\n      <td>0</td>\n      <td>1</td>\n      <td>0</td>\n      <td>0</td>\n    </tr>\n    <tr>\n      <th>27538</th>\n      <td>68</td>\n      <td>1</td>\n      <td>0</td>\n      <td>0</td>\n      <td>40</td>\n      <td>1</td>\n      <td>0</td>\n      <td>0</td>\n      <td>1</td>\n      <td>0</td>\n      <td>...</td>\n      <td>0</td>\n      <td>0</td>\n      <td>0</td>\n      <td>0</td>\n      <td>0</td>\n      <td>0</td>\n      <td>0</td>\n      <td>1</td>\n      <td>0</td>\n      <td>0</td>\n    </tr>\n    <tr>\n      <th>3369</th>\n      <td>19</td>\n      <td>0</td>\n      <td>0</td>\n      <td>0</td>\n      <td>25</td>\n      <td>1</td>\n      <td>0</td>\n      <td>0</td>\n      <td>1</td>\n      <td>0</td>\n      <td>...</td>\n      <td>0</td>\n      <td>0</td>\n      <td>0</td>\n      <td>0</td>\n      <td>0</td>\n      <td>0</td>\n      <td>0</td>\n      <td>1</td>\n      <td>0</td>\n      <td>0</td>\n    </tr>\n    <tr>\n      <th>19987</th>\n      <td>62</td>\n      <td>0</td>\n      <td>0</td>\n      <td>0</td>\n      <td>60</td>\n      <td>1</td>\n      <td>0</td>\n      <td>0</td>\n      <td>1</td>\n      <td>0</td>\n      <td>...</td>\n      <td>0</td>\n      <td>0</td>\n      <td>0</td>\n      <td>0</td>\n      <td>0</td>\n      <td>0</td>\n      <td>0</td>\n      <td>1</td>\n      <td>0</td>\n      <td>0</td>\n    </tr>\n    <tr>\n      <th>4199</th>\n      <td>31</td>\n      <td>0</td>\n      <td>0</td>\n      <td>0</td>\n      <td>40</td>\n      <td>1</td>\n      <td>0</td>\n      <td>0</td>\n      <td>1</td>\n      <td>0</td>\n      <td>...</td>\n      <td>0</td>\n      <td>0</td>\n      <td>0</td>\n      <td>0</td>\n      <td>0</td>\n      <td>0</td>\n      <td>0</td>\n      <td>1</td>\n      <td>0</td>\n      <td>0</td>\n    </tr>\n    <tr>\n      <th>16685</th>\n      <td>31</td>\n      <td>0</td>\n      <td>2463</td>\n      <td>0</td>\n      <td>38</td>\n      <td>1</td>\n      <td>0</td>\n      <td>0</td>\n      <td>1</td>\n      <td>0</td>\n      <td>...</td>\n      <td>0</td>\n      <td>0</td>\n      <td>0</td>\n      <td>0</td>\n      <td>0</td>\n      <td>0</td>\n      <td>0</td>\n      <td>1</td>\n      <td>0</td>\n      <td>0</td>\n    </tr>\n    <tr>\n      <th>4033</th>\n      <td>23</td>\n      <td>1</td>\n      <td>0</td>\n      <td>0</td>\n      <td>50</td>\n      <td>1</td>\n      <td>0</td>\n      <td>0</td>\n      <td>1</td>\n      <td>0</td>\n      <td>...</td>\n      <td>0</td>\n      <td>0</td>\n      <td>0</td>\n      <td>0</td>\n      <td>1</td>\n      <td>0</td>\n      <td>0</td>\n      <td>0</td>\n      <td>0</td>\n      <td>0</td>\n    </tr>\n    <tr>\n      <th>24354</th>\n      <td>32</td>\n      <td>1</td>\n      <td>0</td>\n      <td>0</td>\n      <td>40</td>\n      <td>1</td>\n      <td>0</td>\n      <td>0</td>\n      <td>0</td>\n      <td>1</td>\n      <td>...</td>\n      <td>0</td>\n      <td>0</td>\n      <td>0</td>\n      <td>0</td>\n      <td>0</td>\n      <td>0</td>\n      <td>0</td>\n      <td>1</td>\n      <td>0</td>\n      <td>0</td>\n    </tr>\n    <tr>\n      <th>88</th>\n      <td>30</td>\n      <td>1</td>\n      <td>0</td>\n      <td>0</td>\n      <td>40</td>\n      <td>1</td>\n      <td>0</td>\n      <td>0</td>\n      <td>1</td>\n      <td>0</td>\n      <td>...</td>\n      <td>0</td>\n      <td>0</td>\n      <td>0</td>\n      <td>0</td>\n      <td>0</td>\n      <td>0</td>\n      <td>0</td>\n      <td>1</td>\n      <td>0</td>\n      <td>0</td>\n    </tr>\n    <tr>\n      <th>22732</th>\n      <td>46</td>\n      <td>1</td>\n      <td>0</td>\n      <td>0</td>\n      <td>40</td>\n      <td>1</td>\n      <td>0</td>\n      <td>0</td>\n      <td>1</td>\n      <td>0</td>\n      <td>...</td>\n      <td>0</td>\n      <td>0</td>\n      <td>0</td>\n      <td>0</td>\n      <td>0</td>\n      <td>0</td>\n      <td>0</td>\n      <td>1</td>\n      <td>0</td>\n      <td>0</td>\n    </tr>\n    <tr>\n      <th>9417</th>\n      <td>63</td>\n      <td>1</td>\n      <td>0</td>\n      <td>0</td>\n      <td>40</td>\n      <td>1</td>\n      <td>0</td>\n      <td>0</td>\n      <td>1</td>\n      <td>0</td>\n      <td>...</td>\n      <td>0</td>\n      <td>0</td>\n      <td>0</td>\n      <td>0</td>\n      <td>0</td>\n      <td>0</td>\n      <td>0</td>\n      <td>1</td>\n      <td>0</td>\n      <td>0</td>\n    </tr>\n    <tr>\n      <th>20393</th>\n      <td>41</td>\n      <td>1</td>\n      <td>2174</td>\n      <td>0</td>\n      <td>41</td>\n      <td>1</td>\n      <td>0</td>\n      <td>0</td>\n      <td>1</td>\n      <td>0</td>\n      <td>...</td>\n      <td>0</td>\n      <td>0</td>\n      <td>0</td>\n      <td>0</td>\n      <td>0</td>\n      <td>0</td>\n      <td>0</td>\n      <td>1</td>\n      <td>0</td>\n      <td>0</td>\n    </tr>\n    <tr>\n      <th>5511</th>\n      <td>35</td>\n      <td>0</td>\n      <td>0</td>\n      <td>0</td>\n      <td>27</td>\n      <td>1</td>\n      <td>0</td>\n      <td>0</td>\n      <td>1</td>\n      <td>0</td>\n      <td>...</td>\n      <td>0</td>\n      <td>0</td>\n      <td>0</td>\n      <td>0</td>\n      <td>0</td>\n      <td>0</td>\n      <td>0</td>\n      <td>1</td>\n      <td>0</td>\n      <td>0</td>\n    </tr>\n    <tr>\n      <th>23464</th>\n      <td>51</td>\n      <td>1</td>\n      <td>0</td>\n      <td>0</td>\n      <td>30</td>\n      <td>1</td>\n      <td>0</td>\n      <td>0</td>\n      <td>1</td>\n      <td>0</td>\n      <td>...</td>\n      <td>0</td>\n      <td>0</td>\n      <td>0</td>\n      <td>0</td>\n      <td>0</td>\n      <td>0</td>\n      <td>0</td>\n      <td>1</td>\n      <td>0</td>\n      <td>0</td>\n    </tr>\n    <tr>\n      <th>11464</th>\n      <td>27</td>\n      <td>0</td>\n      <td>0</td>\n      <td>0</td>\n      <td>40</td>\n      <td>1</td>\n      <td>0</td>\n      <td>1</td>\n      <td>0</td>\n      <td>0</td>\n      <td>...</td>\n      <td>0</td>\n      <td>0</td>\n      <td>0</td>\n      <td>0</td>\n      <td>0</td>\n      <td>0</td>\n      <td>0</td>\n      <td>1</td>\n      <td>0</td>\n      <td>0</td>\n    </tr>\n    <tr>\n      <th>26671</th>\n      <td>32</td>\n      <td>1</td>\n      <td>0</td>\n      <td>0</td>\n      <td>50</td>\n      <td>0</td>\n      <td>0</td>\n      <td>0</td>\n      <td>1</td>\n      <td>0</td>\n      <td>...</td>\n      <td>0</td>\n      <td>0</td>\n      <td>0</td>\n      <td>0</td>\n      <td>0</td>\n      <td>0</td>\n      <td>0</td>\n      <td>1</td>\n      <td>0</td>\n      <td>0</td>\n    </tr>\n    <tr>\n      <th>14797</th>\n      <td>61</td>\n      <td>1</td>\n      <td>0</td>\n      <td>0</td>\n      <td>40</td>\n      <td>1</td>\n      <td>0</td>\n      <td>0</td>\n      <td>1</td>\n      <td>0</td>\n      <td>...</td>\n      <td>0</td>\n      <td>0</td>\n      <td>0</td>\n      <td>0</td>\n      <td>0</td>\n      <td>0</td>\n      <td>0</td>\n      <td>0</td>\n      <td>0</td>\n      <td>0</td>\n    </tr>\n    <tr>\n      <th>23157</th>\n      <td>29</td>\n      <td>1</td>\n      <td>2174</td>\n      <td>0</td>\n      <td>50</td>\n      <td>1</td>\n      <td>0</td>\n      <td>0</td>\n      <td>1</td>\n      <td>0</td>\n      <td>...</td>\n      <td>0</td>\n      <td>0</td>\n      <td>0</td>\n      <td>0</td>\n      <td>0</td>\n      <td>0</td>\n      <td>0</td>\n      <td>1</td>\n      <td>0</td>\n      <td>0</td>\n    </tr>\n    <tr>\n      <th>22302</th>\n      <td>42</td>\n      <td>1</td>\n      <td>0</td>\n      <td>1887</td>\n      <td>40</td>\n      <td>0</td>\n      <td>0</td>\n      <td>0</td>\n      <td>0</td>\n      <td>0</td>\n      <td>...</td>\n      <td>0</td>\n      <td>0</td>\n      <td>0</td>\n      <td>0</td>\n      <td>0</td>\n      <td>0</td>\n      <td>0</td>\n      <td>1</td>\n      <td>0</td>\n      <td>0</td>\n    </tr>\n    <tr>\n      <th>26504</th>\n      <td>38</td>\n      <td>0</td>\n      <td>0</td>\n      <td>0</td>\n      <td>32</td>\n      <td>1</td>\n      <td>0</td>\n      <td>0</td>\n      <td>1</td>\n      <td>0</td>\n      <td>...</td>\n      <td>0</td>\n      <td>0</td>\n      <td>0</td>\n      <td>0</td>\n      <td>0</td>\n      <td>0</td>\n      <td>0</td>\n      <td>1</td>\n      <td>0</td>\n      <td>0</td>\n    </tr>\n    <tr>\n      <th>27775</th>\n      <td>50</td>\n      <td>1</td>\n      <td>0</td>\n      <td>0</td>\n      <td>62</td>\n      <td>0</td>\n      <td>0</td>\n      <td>0</td>\n      <td>1</td>\n      <td>0</td>\n      <td>...</td>\n      <td>0</td>\n      <td>0</td>\n      <td>0</td>\n      <td>0</td>\n      <td>0</td>\n      <td>0</td>\n      <td>0</td>\n      <td>1</td>\n      <td>0</td>\n      <td>0</td>\n    </tr>\n    <tr>\n      <th>6100</th>\n      <td>37</td>\n      <td>1</td>\n      <td>0</td>\n      <td>0</td>\n      <td>42</td>\n      <td>1</td>\n      <td>0</td>\n      <td>0</td>\n      <td>1</td>\n      <td>0</td>\n      <td>...</td>\n      <td>0</td>\n      <td>0</td>\n      <td>0</td>\n      <td>0</td>\n      <td>0</td>\n      <td>0</td>\n      <td>0</td>\n      <td>1</td>\n      <td>0</td>\n      <td>0</td>\n    </tr>\n    <tr>\n      <th>292</th>\n      <td>29</td>\n      <td>1</td>\n      <td>0</td>\n      <td>0</td>\n      <td>56</td>\n      <td>1</td>\n      <td>0</td>\n      <td>1</td>\n      <td>0</td>\n      <td>0</td>\n      <td>...</td>\n      <td>0</td>\n      <td>0</td>\n      <td>0</td>\n      <td>0</td>\n      <td>0</td>\n      <td>0</td>\n      <td>0</td>\n      <td>1</td>\n      <td>0</td>\n      <td>0</td>\n    </tr>\n    <tr>\n      <th>17250</th>\n      <td>43</td>\n      <td>0</td>\n      <td>0</td>\n      <td>0</td>\n      <td>35</td>\n      <td>1</td>\n      <td>0</td>\n      <td>0</td>\n      <td>0</td>\n      <td>0</td>\n      <td>...</td>\n      <td>0</td>\n      <td>0</td>\n      <td>0</td>\n      <td>0</td>\n      <td>0</td>\n      <td>0</td>\n      <td>0</td>\n      <td>1</td>\n      <td>0</td>\n      <td>0</td>\n    </tr>\n  </tbody>\n</table>\n<p>50 rows × 102 columns</p>\n</div>"
     },
     "execution_count": 34,
     "metadata": {},
     "output_type": "execute_result"
    }
   ],
   "source": [
    "# تبدیل داده ها به مقادیر عددی\n",
    "data = pd.get_dummies(adult_data)\n",
    "data.sample(n=50)"
   ],
   "metadata": {
    "collapsed": false,
    "pycharm": {
     "name": "#%%\n"
    }
   }
  },
  {
   "cell_type": "code",
   "execution_count": 35,
   "outputs": [],
   "source": [
    "# start normalizing\n",
    "# اول می خواستیم قبل از تقستیم داده هامون داده ها رو scale کنبم ولی متوجه شدیم باید فقد روی داده های اموزشی این کار رو کنیم چون در دنیای واقعی داده ها به صورت  scale شده نیستن\n",
    "# adult_data_scale = normalize(data, norm='l2')\n",
    "# adult_data = pd.DataFrame(adult_data_scale, index=data.index, columns=data.columns)\n",
    "# adult_data.head()"
   ],
   "metadata": {
    "collapsed": false,
    "pycharm": {
     "name": "#%%\n"
    }
   }
  },
  {
   "cell_type": "code",
   "execution_count": 36,
   "outputs": [],
   "source": [
    "# delete outliers\n",
    "\n",
    "# columns = adult_data.columns\n",
    "# for feature in columns:\n",
    "#     lower_th = 0\n",
    "#     upper_th = 0\n",
    "#     Q1 = np.quantile(adult_data[feature], 0.25)\n",
    "#     Q3 = np.quantile(adult_data[feature], 0.75)\n",
    "#     IQR = Q3 - Q1\n",
    "#\n",
    "#     lower_th =  Q1 - 1.5*IQR\n",
    "#     upper_th =  Q3 + 1.5*IQR\n",
    "#     new_data = adult_data[feature][~((adult_data[feature] < (lower_th)) | (adult_data[feature] > (upper_th)))]\n",
    "\n"
   ],
   "metadata": {
    "collapsed": false,
    "pycharm": {
     "name": "#%%\n"
    }
   }
  },
  {
   "cell_type": "code",
   "execution_count": 37,
   "outputs": [],
   "source": [
    "# ************************    start design artificial neural networks     ***************************"
   ],
   "metadata": {
    "collapsed": false,
    "pycharm": {
     "name": "#%%\n"
    }
   }
  },
  {
   "cell_type": "code",
   "execution_count": 38,
   "outputs": [],
   "source": [
    "#   تقسیم مجموعه‌داده‌ها را به سه بخش train, validation, test\n",
    "from sklearn.model_selection import train_test_split\n",
    "\n",
    "train = data.drop(['income'],axis=1) # our dataset without target\n",
    "target =data['income'] # target\n",
    "\n",
    "split_size=0.3\n",
    "\n",
    "# Creation of Train and Test dataset\n",
    "x_train, x_test, y_train, y_test = train_test_split(train, target, test_size=split_size, random_state=22)\n",
    "\n",
    "#Creation of Train and validation dataset\n",
    "x_train, x_val, y_train, y_val = train_test_split(x_train,y_train,train_size=0.5,random_state=5)\n"
   ],
   "metadata": {
    "collapsed": false,
    "pycharm": {
     "name": "#%%\n"
    }
   }
  },
  {
   "cell_type": "code",
   "execution_count": 39,
   "outputs": [],
   "source": [
    "# ا scale کردن داده های اموزشی\n",
    "from sklearn.preprocessing import StandardScaler\n",
    "scaler = StandardScaler()\n",
    "scaler.fit(x_train)\n",
    "X_train = scaler.transform(x_train)\n",
    "X_test = scaler.transform(x_test)\n",
    "\n"
   ],
   "metadata": {
    "collapsed": false,
    "pycharm": {
     "name": "#%%\n"
    }
   }
  },
  {
   "cell_type": "code",
   "execution_count": 40,
   "outputs": [],
   "source": [
    "# define neural network\n",
    "# در همه ی دیتاست ها ما یک لایه ورودی و نعداد نودهای اون برابر است با تعداد ویژگی ها\n",
    "# یا توجه به این که ما میخواهیم یک عدد را پیش بینی کنیم در نتیجه با یک لایه خروجی با بک نود داریم\n",
    "# طبق ازمایش ها و سرچ هایی که انجام دادیم یک لایه ی پنهان در اکثر دیتا ست ها به خوبی عمل می کند پس ما یک لایه پنهان داریم و تعداد نود های آن را برابر با نصف تعداد ورودی هامون گرفتیم"
   ],
   "metadata": {
    "collapsed": false,
    "pycharm": {
     "name": "#%%\n"
    }
   }
  },
  {
   "cell_type": "code",
   "execution_count": 41,
   "outputs": [
    {
     "name": "stdout",
     "output_type": "stream",
     "text": [
      "[[1210  789]\n",
      " [ 705 5368]]\n",
      "              precision    recall  f1-score   support\n",
      "\n",
      "           0       0.63      0.61      0.62      1999\n",
      "           1       0.87      0.88      0.88      6073\n",
      "\n",
      "    accuracy                           0.81      8072\n",
      "   macro avg       0.75      0.74      0.75      8072\n",
      "weighted avg       0.81      0.81      0.81      8072\n",
      "\n"
     ]
    }
   ],
   "source": [
    "    # create mlp CLassifier\n",
    "# neural network\n",
    "from sklearn.neural_network import MLPClassifier\n",
    "mlp = MLPClassifier(hidden_layer_sizes=(51, ), max_iter=1000, random_state=1) # یک لایه مخفی باتعداد ۵۲ نود\n",
    "# hidden_layer_sizes این عنصر تعداد نورون های لایه پنهان را نشان می دهد.\n",
    "#  max_iter حداکثر تعداد تکرار\n",
    "# random_state تولید اعداد تصادفی را برای وزن‌ها و مقدار اولیه بایاس تعیین می‌کند،\n",
    "mlp.fit(X_train, y_train.values)  # اموزش شبکه عصبی]\n",
    "\n",
    "predictions = mlp.predict(X_test)\n",
    "\n",
    "from sklearn.metrics import classification_report, confusion_matrix\n",
    "print(confusion_matrix(y_test,predictions))\n",
    "# با توجه به ماتریکس 1022 از داد های تست مربوط به درامد بالای ۵۰ هزار دلار است و درست پیشبینی شده اندو ۵۶۶۹ از داده ها زیر ۵۰ هزار دلار است\n",
    "print(classification_report(y_test,predictions))"
   ],
   "metadata": {
    "collapsed": false,
    "pycharm": {
     "name": "#%%\n"
    }
   }
  },
  {
   "cell_type": "code",
   "execution_count": 42,
   "outputs": [
    {
     "name": "stdout",
     "output_type": "stream",
     "text": [
      "Fitting 5 folds for each of 36 candidates, totalling 180 fits\n"
     ]
    },
    {
     "data": {
      "text/plain": "GridSearchCV(cv=5, estimator=MLPClassifier(random_state=1), n_jobs=-1,\n             param_grid={'activation': ['relu', 'tanh', 'logistic', 'identity'],\n                         'hidden_layer_sizes': [(51,)],\n                         'learning_rate': ['constant', 'adaptive',\n                                           'invscaling'],\n                         'solver': ['adam', 'sgd', 'lbfgs']},\n             verbose=5)"
     },
     "execution_count": 42,
     "metadata": {},
     "output_type": "execute_result"
    }
   ],
   "source": [
    "#  پارامترهای بهینه مربوط به شبکه عصبی\n",
    "from sklearn.model_selection import GridSearchCV\n",
    "\n",
    "params = {'activation': ['relu', 'tanh', 'logistic', 'identity'],\n",
    "          'hidden_layer_sizes': [(51,)],\n",
    "          'solver': ['adam', 'sgd', 'lbfgs'],\n",
    "          'learning_rate' : ['constant', 'adaptive', 'invscaling']\n",
    "         }\n",
    "\n",
    "mlp_classif_grid = GridSearchCV(MLPClassifier(random_state=1), param_grid=params, n_jobs=-1, cv=5, verbose=5)\n",
    "# param_grid :Dictionary with parameters names (str) as keys and lists of parameter settings to try as values, or a list of such dictionaries, in which case the grids spanned by each dictionary in the list are explored. This enables searching over any sequence of parameter settings.\n",
    "# n_job : Number of jobs to run in parallel.\n",
    "# cv : استراتژی تقسیم اعتبار متقابل را تعیین می کند\n",
    "# verbose :Controls the verbosity: the higher, the more messages.\n",
    "\n",
    "mlp_classif_grid.fit(x_val,y_val)"
   ],
   "metadata": {
    "collapsed": false,
    "pycharm": {
     "name": "#%%\n"
    }
   }
  },
  {
   "cell_type": "code",
   "execution_count": 43,
   "outputs": [
    {
     "name": "stdout",
     "output_type": "stream",
     "text": [
      "Train Accuracy : 0.741\n",
      "Test Accuracy : 0.741\n",
      "Best Accuracy Through Grid Search : 0.827\n",
      "Best Parameters :  {'activation': 'relu', 'hidden_layer_sizes': (51,), 'learning_rate': 'constant', 'solver': 'adam'}\n"
     ]
    },
    {
     "name": "stderr",
     "output_type": "stream",
     "text": [
      "/home/mary/Ml/taklif-2/venv/lib/python3.8/site-packages/sklearn/base.py:445: UserWarning: X does not have valid feature names, but MLPClassifier was fitted with feature names\n",
      "  warnings.warn(\n",
      "/home/mary/Ml/taklif-2/venv/lib/python3.8/site-packages/sklearn/base.py:445: UserWarning: X does not have valid feature names, but MLPClassifier was fitted with feature names\n",
      "  warnings.warn(\n"
     ]
    }
   ],
   "source": [
    "print('Train Accuracy : %.3f'%mlp_classif_grid.best_estimator_.score(X_train, y_train))\n",
    "print('Test Accuracy : %.3f'%mlp_classif_grid.best_estimator_.score(X_test, y_test))\n",
    "print('Best Accuracy Through Grid Search : %.3f'%mlp_classif_grid.best_score_)\n",
    "print('Best Parameters : ',mlp_classif_grid.best_params_)"
   ],
   "metadata": {
    "collapsed": false,
    "pycharm": {
     "name": "#%%\n"
    }
   }
  },
  {
   "cell_type": "code",
   "execution_count": 44,
   "outputs": [
    {
     "name": "stdout",
     "output_type": "stream",
     "text": [
      "[[1240  759]\n",
      " [ 492 5581]]\n",
      "              precision    recall  f1-score   support\n",
      "\n",
      "           0       0.72      0.62      0.66      1999\n",
      "           1       0.88      0.92      0.90      6073\n",
      "\n",
      "    accuracy                           0.85      8072\n",
      "   macro avg       0.80      0.77      0.78      8072\n",
      "weighted avg       0.84      0.85      0.84      8072\n",
      "\n"
     ]
    }
   ],
   "source": [
    "# Create logistic regression second model\n",
    "from sklearn.linear_model import LogisticRegression\n",
    "\n",
    "model = LogisticRegression()\n",
    "model.fit(X_train, y_train)\n",
    "\n",
    "prediction = model.predict(X_test) # مدل زوی داده ی تست پیش بینی میکند بعد از اموزش\n",
    "\n",
    "from sklearn.metrics import classification_report, confusion_matrix\n",
    "print(confusion_matrix(y_test,prediction))\n",
    "\n",
    "print(classification_report(y_test,prediction))\n"
   ],
   "metadata": {
    "collapsed": false,
    "pycharm": {
     "name": "#%%\n"
    }
   }
  },
  {
   "cell_type": "code",
   "execution_count": 45,
   "outputs": [
    {
     "name": "stdout",
     "output_type": "stream",
     "text": [
      "Fitting 5 folds for each of 4 candidates, totalling 20 fits\n",
      "Train Accuracy : 0.839\n",
      "Test Accuracy : 0.844\n",
      "Best Accuracy Through Grid Search : 0.835\n",
      "Best Parameters :  {'C': 1000, 'penalty': 'l2'}\n"
     ]
    }
   ],
   "source": [
    "from sklearn.model_selection import GridSearchCV\n",
    "\n",
    "parameter_grid = {'C': [1000, 100, 20, 600], 'penalty': ['l2']}\n",
    "\n",
    "logestic_reg_grid = GridSearchCV(LogisticRegression(), param_grid=parameter_grid, n_jobs=-1, cv=5, verbose=5)\n",
    "\n",
    "scaler.fit(x_val)\n",
    "X_val = scaler.transform(x_val)\n",
    "logestic_reg_grid.fit(X_val,y_val)\n",
    "\n",
    "print('Train Accuracy : %.3f'%logestic_reg_grid.best_estimator_.score(X_train, y_train))\n",
    "print('Test Accuracy : %.3f'%logestic_reg_grid.best_estimator_.score(X_test, y_test))\n",
    "print('Best Accuracy Through Grid Search : %.3f'%logestic_reg_grid.best_score_)\n",
    "print('Best Parameters : ',logestic_reg_grid.best_params_)"
   ],
   "metadata": {
    "collapsed": false,
    "pycharm": {
     "name": "#%%\n"
    }
   }
  },
  {
   "cell_type": "code",
   "execution_count": 83,
   "outputs": [
    {
     "name": "stdout",
     "output_type": "stream",
     "text": [
      "Epoch 1/34\n",
      "9416/9416 [==============================] - 19s 2ms/step - loss: 0.1506 - accuracy: 0.7870 - val_loss: 0.1271 - val_accuracy: 0.8191\n",
      "Epoch 2/34\n",
      "9416/9416 [==============================] - 13s 1ms/step - loss: 0.1225 - accuracy: 0.8281 - val_loss: 0.1257 - val_accuracy: 0.8192\n",
      "Epoch 3/34\n",
      "9416/9416 [==============================] - 11s 1ms/step - loss: 0.1218 - accuracy: 0.8300 - val_loss: 0.1247 - val_accuracy: 0.8232\n",
      "Epoch 4/34\n",
      "9416/9416 [==============================] - 12s 1ms/step - loss: 0.1217 - accuracy: 0.8293 - val_loss: 0.1246 - val_accuracy: 0.8223\n",
      "Epoch 5/34\n",
      "9416/9416 [==============================] - 12s 1ms/step - loss: 0.1212 - accuracy: 0.8285 - val_loss: 0.1249 - val_accuracy: 0.8238\n",
      "Epoch 6/34\n",
      "9416/9416 [==============================] - 13s 1ms/step - loss: 0.1212 - accuracy: 0.8307 - val_loss: 0.1247 - val_accuracy: 0.8246\n",
      "Epoch 7/34\n",
      "9416/9416 [==============================] - 11s 1ms/step - loss: 0.1214 - accuracy: 0.8318 - val_loss: 0.1255 - val_accuracy: 0.8220\n",
      "Epoch 8/34\n",
      "9416/9416 [==============================] - 17s 2ms/step - loss: 0.1214 - accuracy: 0.8303 - val_loss: 0.1259 - val_accuracy: 0.8225\n",
      "Epoch 9/34\n",
      "9416/9416 [==============================] - 22s 2ms/step - loss: 0.1216 - accuracy: 0.8290 - val_loss: 0.1253 - val_accuracy: 0.8227\n",
      "Epoch 10/34\n",
      "9416/9416 [==============================] - 15s 2ms/step - loss: 0.1213 - accuracy: 0.8301 - val_loss: 0.1244 - val_accuracy: 0.8237\n",
      "Epoch 11/34\n",
      "9416/9416 [==============================] - 13s 1ms/step - loss: 0.1217 - accuracy: 0.8309 - val_loss: 0.1247 - val_accuracy: 0.8233\n",
      "Epoch 12/34\n",
      "9416/9416 [==============================] - 13s 1ms/step - loss: 0.1217 - accuracy: 0.8334 - val_loss: 0.1257 - val_accuracy: 0.8230\n",
      "Epoch 13/34\n",
      "9416/9416 [==============================] - 14s 2ms/step - loss: 0.1213 - accuracy: 0.8297 - val_loss: 0.1249 - val_accuracy: 0.8229\n",
      "Epoch 14/34\n",
      "9416/9416 [==============================] - 12s 1ms/step - loss: 0.1216 - accuracy: 0.8284 - val_loss: 0.1246 - val_accuracy: 0.8247\n",
      "Epoch 15/34\n",
      "9416/9416 [==============================] - 12s 1ms/step - loss: 0.1215 - accuracy: 0.8305 - val_loss: 0.1254 - val_accuracy: 0.8239\n",
      "Epoch 16/34\n",
      "9416/9416 [==============================] - 11s 1ms/step - loss: 0.1214 - accuracy: 0.8301 - val_loss: 0.1255 - val_accuracy: 0.8209\n",
      "Epoch 17/34\n",
      "9416/9416 [==============================] - 12s 1ms/step - loss: 0.1216 - accuracy: 0.8295 - val_loss: 0.1251 - val_accuracy: 0.8229\n",
      "Epoch 18/34\n",
      "9416/9416 [==============================] - 11s 1ms/step - loss: 0.1217 - accuracy: 0.8298 - val_loss: 0.1259 - val_accuracy: 0.8223\n",
      "Epoch 19/34\n",
      "9416/9416 [==============================] - 13s 1ms/step - loss: 0.1214 - accuracy: 0.8291 - val_loss: 0.1253 - val_accuracy: 0.8239\n",
      "Epoch 20/34\n",
      "9416/9416 [==============================] - 14s 1ms/step - loss: 0.1215 - accuracy: 0.8300 - val_loss: 0.1254 - val_accuracy: 0.8240\n",
      "Epoch 21/34\n",
      "9416/9416 [==============================] - 16s 2ms/step - loss: 0.1216 - accuracy: 0.8274 - val_loss: 0.1252 - val_accuracy: 0.8216\n",
      "Epoch 22/34\n",
      "9416/9416 [==============================] - 22s 2ms/step - loss: 0.1214 - accuracy: 0.8316 - val_loss: 0.1255 - val_accuracy: 0.8225\n",
      "Epoch 23/34\n",
      "9416/9416 [==============================] - 20s 2ms/step - loss: 0.1217 - accuracy: 0.8289 - val_loss: 0.1263 - val_accuracy: 0.8223\n",
      "Epoch 24/34\n",
      "9416/9416 [==============================] - 20s 2ms/step - loss: 0.1213 - accuracy: 0.8325 - val_loss: 0.1252 - val_accuracy: 0.8238\n",
      "Epoch 25/34\n",
      "9416/9416 [==============================] - 16s 2ms/step - loss: 0.1215 - accuracy: 0.8285 - val_loss: 0.1252 - val_accuracy: 0.8221\n",
      "Epoch 26/34\n",
      "9416/9416 [==============================] - 16s 2ms/step - loss: 0.1213 - accuracy: 0.8280 - val_loss: 0.1246 - val_accuracy: 0.8244\n",
      "Epoch 27/34\n",
      "9416/9416 [==============================] - 14s 2ms/step - loss: 0.1213 - accuracy: 0.8295 - val_loss: 0.1255 - val_accuracy: 0.8229\n",
      "Epoch 28/34\n",
      "9416/9416 [==============================] - 20s 2ms/step - loss: 0.1213 - accuracy: 0.8308 - val_loss: 0.1248 - val_accuracy: 0.8205\n",
      "Epoch 29/34\n",
      "9416/9416 [==============================] - 17s 2ms/step - loss: 0.1216 - accuracy: 0.8291 - val_loss: 0.1256 - val_accuracy: 0.8248\n",
      "Epoch 30/34\n",
      "9416/9416 [==============================] - 18s 2ms/step - loss: 0.1216 - accuracy: 0.8291 - val_loss: 0.1254 - val_accuracy: 0.8230\n",
      "Epoch 31/34\n",
      "9416/9416 [==============================] - 16s 2ms/step - loss: 0.1212 - accuracy: 0.8337 - val_loss: 0.1260 - val_accuracy: 0.8233\n",
      "Epoch 32/34\n",
      "9416/9416 [==============================] - 16s 2ms/step - loss: 0.1216 - accuracy: 0.8283 - val_loss: 0.1251 - val_accuracy: 0.8223\n",
      "Epoch 33/34\n",
      "9416/9416 [==============================] - 15s 2ms/step - loss: 0.1215 - accuracy: 0.8301 - val_loss: 0.1250 - val_accuracy: 0.8236\n",
      "Epoch 34/34\n",
      "9416/9416 [==============================] - 15s 2ms/step - loss: 0.1212 - accuracy: 0.8290 - val_loss: 0.1260 - val_accuracy: 0.8225\n"
     ]
    }
   ],
   "source": [
    "# برای کشیدن نمودارها برای ساخت شبکه عصبی از کتابخانه ی keras استفاده کردیم\n",
    "import tensorflow as tf\n",
    "from tensorflow import keras\n",
    "\n",
    "\n",
    "model = keras.Sequential([     # مدل Sequential یک پشته خطی از لایه ها است.\n",
    "    keras.layers.Flatten(input_shape=(101,)),  # این تابع آرایه های چند بعدی را به آرایه های یک بعدی مسطح یا آرایه های تک بعدی تبدیل می کند.\n",
    "    keras.layers.Dense(4, activation=tf.nn.relu), # hidden layer\n",
    "    keras.layers.Dense(1, activation=tf.nn.sigmoid), # output layer\n",
    "])\n",
    "\n",
    "model.compile(optimizer='adam',\n",
    "              loss='mse',\n",
    "              metrics=['accuracy'])\n",
    "\n",
    "history = model.fit(X_train, y_train, epochs=34, batch_size=1, validation_data=(X_val, y_val))"
   ],
   "metadata": {
    "collapsed": false,
    "pycharm": {
     "name": "#%%\n"
    }
   }
  },
  {
   "cell_type": "code",
   "execution_count": 84,
   "outputs": [
    {
     "name": "stdout",
     "output_type": "stream",
     "text": [
      "{'loss': [0.15060442686080933, 0.12252701073884964, 0.12178540229797363, 0.12167598307132721, 0.12124449759721756, 0.12117189913988113, 0.12135706096887589, 0.12139406055212021, 0.12161778658628464, 0.12133730947971344, 0.12167713791131973, 0.12169238179922104, 0.12128578871488571, 0.12158261239528656, 0.12151627987623215, 0.12140212953090668, 0.12157312780618668, 0.12174160778522491, 0.12139179557561874, 0.12152265757322311, 0.12157907336950302, 0.12140090763568878, 0.12172459810972214, 0.12133564800024033, 0.12152492254972458, 0.12134505808353424, 0.12132420390844345, 0.12130063027143478, 0.12159620225429535, 0.12159924954175949, 0.12119350582361221, 0.1216157004237175, 0.12145717442035675, 0.12123458087444305], 'accuracy': [0.7869583964347839, 0.8280586004257202, 0.8299702405929565, 0.8293330669403076, 0.8284834027290344, 0.83071368932724, 0.8317757248878479, 0.8302888870239258, 0.8290144205093384, 0.8300764560699463, 0.8309260606765747, 0.833368718624115, 0.8296516537666321, 0.8283772468566895, 0.8305012583732605, 0.8300764560699463, 0.8295454382896423, 0.8297578692436218, 0.8291206359863281, 0.8299702405929565, 0.8274214267730713, 0.8315632939338684, 0.8289082646369934, 0.8325191140174866, 0.8284834027290344, 0.8279524445533752, 0.8295454382896423, 0.8308199048042297, 0.8291206359863281, 0.8291206359863281, 0.8336873650550842, 0.8282710313796997, 0.8300764560699463, 0.8290144205093384], 'val_loss': [0.12706945836544037, 0.12568743526935577, 0.12467686831951141, 0.12461753189563751, 0.12485780566930771, 0.12473352253437042, 0.12550868093967438, 0.12589551508426666, 0.12532377243041992, 0.12444443255662918, 0.12470747530460358, 0.1256866455078125, 0.12491732835769653, 0.1246383786201477, 0.1254328191280365, 0.12553539872169495, 0.1250697821378708, 0.12587878108024597, 0.12534311413764954, 0.1253594160079956, 0.1251581907272339, 0.1255449801683426, 0.1263209879398346, 0.12519077956676483, 0.12517620623111725, 0.12462539970874786, 0.12551292777061462, 0.12481796741485596, 0.12558627128601074, 0.1254158616065979, 0.12600533664226532, 0.12507015466690063, 0.12501418590545654, 0.12596580386161804], 'val_accuracy': [0.8191376328468323, 0.819243848323822, 0.8231733441352844, 0.8223236799240112, 0.8238105177879333, 0.8245539665222168, 0.8220050930976868, 0.8225361108779907, 0.8227485418319702, 0.8237043619155884, 0.8232795000076294, 0.8229609131813049, 0.8228546977043152, 0.8246601819992065, 0.8239167332649231, 0.8209430575370789, 0.8228546977043152, 0.8223236799240112, 0.8239167332649231, 0.8240229487419128, 0.8215802907943726, 0.8225361108779907, 0.8223236799240112, 0.8238105177879333, 0.8221113085746765, 0.824447751045227, 0.8228546977043152, 0.8205182552337646, 0.8247663378715515, 0.8229609131813049, 0.8232795000076294, 0.8223236799240112, 0.8235981464385986, 0.8225361108779907]}\n"
     ]
    },
    {
     "data": {
      "text/plain": "<Figure size 432x288 with 1 Axes>",
      "image/png": "[encoded data removed]"
     },
     "metadata": {
      "needs_background": "light"
     },
     "output_type": "display_data"
    }
   ],
   "source": [
    "# draw loss diograms\n",
    "print(history.history)\n",
    "loss_train = history.history['loss']\n",
    "loss_val = history.history['val_loss']\n",
    "epochs = range(1,35)\n",
    "plt.plot(epochs, loss_train, 'g', label='Training loss')\n",
    "plt.plot(epochs, loss_val, 'b', label='validation loss')\n",
    "plt.title('Training and Validation loss')\n",
    "plt.xlabel('Epochs')\n",
    "plt.ylabel('Loss')\n",
    "plt.legend()\n",
    "plt.show()"
   ],
   "metadata": {
    "collapsed": false,
    "pycharm": {
     "name": "#%%\n"
    }
   }
  },
  {
   "cell_type": "code",
   "execution_count": null,
   "outputs": [],
   "source": [
    "# طبق نمودار بالا  loss training و loss validation با هم ارتباطی ندارند. و loss validation در طول تکرار یکسان باقی می ماند و این به این معنی است که مشکل overfiting  رخ داده است\n",
    "# می توان با کم کردن لایه ها و نورون های پنهان از برازش پیش از حد جلوگیری کند\n",
    "# راه دیگه استفاده از dropout و با اضافه کردن ان به مدل به طور تصادفی برخی از زیرمجموعه‌های گره را در یک لایه مشخص در طول آموزش نادیده می‌گیرد، یعنی گره‌ها را از لایه حذف می‌کند"
   ],
   "metadata": {
    "collapsed": false,
    "pycharm": {
     "name": "#%%\n"
    }
   }
  },
  {
   "cell_type": "code",
   "execution_count": 85,
   "outputs": [
    {
     "name": "stdout",
     "output_type": "stream",
     "text": [
      "34\n",
      "34\n"
     ]
    },
    {
     "data": {
      "text/plain": "<Figure size 432x288 with 1 Axes>",
      "image/png": "[encoded data removed]"
     },
     "metadata": {
      "needs_background": "light"
     },
     "output_type": "display_data"
    }
   ],
   "source": [
    "# draw accurecy loss diograms\n",
    "loss_train = history.history['accuracy']\n",
    "print(len(history.history['accuracy']))\n",
    "\n",
    "loss_val = history.history['val_accuracy']\n",
    "print(len(history.history['val_accuracy']))\n",
    "\n",
    "epochs = range(1,35)\n",
    "plt.plot(epochs, loss_train, 'g', label='Training accuracy')\n",
    "plt.plot(epochs, loss_val, 'b', label='validation accuracy')\n",
    "plt.title('Training and Validation accuracy')\n",
    "plt.xlabel('Epochs')\n",
    "plt.ylabel('Accuracy')\n",
    "plt.legend()\n",
    "plt.show()"
   ],
   "metadata": {
    "collapsed": false,
    "pycharm": {
     "name": "#%%\n"
    }
   }
  },
  {
   "cell_type": "code",
   "execution_count": null,
   "outputs": [],
   "source": [],
   "metadata": {
    "collapsed": false,
    "pycharm": {
     "name": "#%%\n"
    }
   }
  }
 ],
 "metadata": {
  "kernelspec": {
   "display_name": "Python 3",
   "language": "python",
   "name": "python3"
  },
  "language_info": {
   "codemirror_mode": {
    "name": "ipython",
    "version": 2
   },
   "file_extension": ".py",
   "mimetype": "text/x-python",
   "name": "python",
   "nbconvert_exporter": "python",
   "pygments_lexer": "ipython2",
   "version": "2.7.6"
  }
 },
 "nbformat": 4,
 "nbformat_minor": 0
}