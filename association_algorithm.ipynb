{
 "cells": [
  {
   "cell_type": "code",
   "execution_count": 1,
   "metadata": {
    "collapsed": true,
    "pycharm": {
     "name": "#%%\n"
    }
   },
   "outputs": [],
   "source": [
    "import pandas as pd\n",
    "import numpy as np\n",
    "# Libraries to help with data visualization\n",
    "import matplotlib.pyplot as plt\n",
    "\n",
    "import seaborn as  sns"
   ]
  },
  {
   "cell_type": "code",
   "execution_count": 2,
   "outputs": [],
   "source": [
    "customer_read = pd.read_csv('1.csv', sep = \",\")\n",
    "customer_data = pd.DataFrame(customer_read)"
   ],
   "metadata": {
    "collapsed": false,
    "pycharm": {
     "name": "#%%\n"
    }
   }
  },
  {
   "cell_type": "code",
   "execution_count": 3,
   "outputs": [
    {
     "data": {
      "text/plain": "   Unnamed: 0  Year_Birth   Income  Dt_Customer  Recency  WinesProducts  \\\n0           0          65  58138.0           25       58            635   \n1           1          68  46344.0            7       38             11   \n2           2          57  71613.0           13       26            426   \n3           3          38  26646.0            7       26             11   \n4           4          41  58293.0            8       94            173   \n\n   FruitsProducts  MeatProducts  FishProducts  SweetProducts  ...  \\\n0              88           546           172             88  ...   \n1               1             6             2              1  ...   \n2              49           127           111             21  ...   \n3               4            20            10              3  ...   \n4              43           118            46             27  ...   \n\n   AcceptedCmp2  Complain  Response  Children  Spent  Education_Graduation  \\\n0             0         0         1         0   1617                     1   \n1             0         0         0         1     27                     1   \n2             0         0         0         0    776                     1   \n3             0         0         0         1     53                     1   \n4             0         0         0         1    422                     0   \n\n   Education_Postgraduate  Education_Undergraduate  Marital_Status_Married  \\\n0                       0                        0                       0   \n1                       0                        0                       0   \n2                       0                        0                       1   \n3                       0                        0                       1   \n4                       1                        0                       1   \n\n   Marital_Status_Single  \n0                      1  \n1                      1  \n2                      0  \n3                      0  \n4                      0  \n\n[5 rows x 30 columns]",
      "text/html": "<div>\n<style scoped>\n    .dataframe tbody tr th:only-of-type {\n        vertical-align: middle;\n    }\n\n    .dataframe tbody tr th {\n        vertical-align: top;\n    }\n\n    .dataframe thead th {\n        text-align: right;\n    }\n</style>\n<table border=\"1\" class=\"dataframe\">\n  <thead>\n    <tr style=\"text-align: right;\">\n      <th></th>\n      <th>Unnamed: 0</th>\n      <th>Year_Birth</th>\n      <th>Income</th>\n      <th>Dt_Customer</th>\n      <th>Recency</th>\n      <th>WinesProducts</th>\n      <th>FruitsProducts</th>\n      <th>MeatProducts</th>\n      <th>FishProducts</th>\n      <th>SweetProducts</th>\n      <th>...</th>\n      <th>AcceptedCmp2</th>\n      <th>Complain</th>\n      <th>Response</th>\n      <th>Children</th>\n      <th>Spent</th>\n      <th>Education_Graduation</th>\n      <th>Education_Postgraduate</th>\n      <th>Education_Undergraduate</th>\n      <th>Marital_Status_Married</th>\n      <th>Marital_Status_Single</th>\n    </tr>\n  </thead>\n  <tbody>\n    <tr>\n      <th>0</th>\n      <td>0</td>\n      <td>65</td>\n      <td>58138.0</td>\n      <td>25</td>\n      <td>58</td>\n      <td>635</td>\n      <td>88</td>\n      <td>546</td>\n      <td>172</td>\n      <td>88</td>\n      <td>...</td>\n      <td>0</td>\n      <td>0</td>\n      <td>1</td>\n      <td>0</td>\n      <td>1617</td>\n      <td>1</td>\n      <td>0</td>\n      <td>0</td>\n      <td>0</td>\n      <td>1</td>\n    </tr>\n    <tr>\n      <th>1</th>\n      <td>1</td>\n      <td>68</td>\n      <td>46344.0</td>\n      <td>7</td>\n      <td>38</td>\n      <td>11</td>\n      <td>1</td>\n      <td>6</td>\n      <td>2</td>\n      <td>1</td>\n      <td>...</td>\n      <td>0</td>\n      <td>0</td>\n      <td>0</td>\n      <td>1</td>\n      <td>27</td>\n      <td>1</td>\n      <td>0</td>\n      <td>0</td>\n      <td>0</td>\n      <td>1</td>\n    </tr>\n    <tr>\n      <th>2</th>\n      <td>2</td>\n      <td>57</td>\n      <td>71613.0</td>\n      <td>13</td>\n      <td>26</td>\n      <td>426</td>\n      <td>49</td>\n      <td>127</td>\n      <td>111</td>\n      <td>21</td>\n      <td>...</td>\n      <td>0</td>\n      <td>0</td>\n      <td>0</td>\n      <td>0</td>\n      <td>776</td>\n      <td>1</td>\n      <td>0</td>\n      <td>0</td>\n      <td>1</td>\n      <td>0</td>\n    </tr>\n    <tr>\n      <th>3</th>\n      <td>3</td>\n      <td>38</td>\n      <td>26646.0</td>\n      <td>7</td>\n      <td>26</td>\n      <td>11</td>\n      <td>4</td>\n      <td>20</td>\n      <td>10</td>\n      <td>3</td>\n      <td>...</td>\n      <td>0</td>\n      <td>0</td>\n      <td>0</td>\n      <td>1</td>\n      <td>53</td>\n      <td>1</td>\n      <td>0</td>\n      <td>0</td>\n      <td>1</td>\n      <td>0</td>\n    </tr>\n    <tr>\n      <th>4</th>\n      <td>4</td>\n      <td>41</td>\n      <td>58293.0</td>\n      <td>8</td>\n      <td>94</td>\n      <td>173</td>\n      <td>43</td>\n      <td>118</td>\n      <td>46</td>\n      <td>27</td>\n      <td>...</td>\n      <td>0</td>\n      <td>0</td>\n      <td>0</td>\n      <td>1</td>\n      <td>422</td>\n      <td>0</td>\n      <td>1</td>\n      <td>0</td>\n      <td>1</td>\n      <td>0</td>\n    </tr>\n  </tbody>\n</table>\n<p>5 rows × 30 columns</p>\n</div>"
     },
     "execution_count": 3,
     "metadata": {},
     "output_type": "execute_result"
    }
   ],
   "source": [
    "customer_data.head()"
   ],
   "metadata": {
    "collapsed": false,
    "pycharm": {
     "name": "#%%\n"
    }
   }
  },
  {
   "cell_type": "code",
   "execution_count": 4,
   "outputs": [],
   "source": [
    "data = customer_data[['WinesProducts','FruitsProducts','MeatProducts','FishProducts','SweetProducts','GoldProducts']]"
   ],
   "metadata": {
    "collapsed": false,
    "pycharm": {
     "name": "#%%\n"
    }
   }
  },
  {
   "cell_type": "code",
   "execution_count": 5,
   "outputs": [
    {
     "data": {
      "text/plain": "   WinesProducts  FruitsProducts  MeatProducts  FishProducts  SweetProducts  \\\n0            635              88           546           172             88   \n1             11               1             6             2              1   \n2            426              49           127           111             21   \n3             11               4            20            10              3   \n4            173              43           118            46             27   \n5            520              42            98             0             42   \n\n   GoldProducts  \n0            88  \n1             6  \n2            42  \n3             5  \n4            15  \n5            14  ",
      "text/html": "<div>\n<style scoped>\n    .dataframe tbody tr th:only-of-type {\n        vertical-align: middle;\n    }\n\n    .dataframe tbody tr th {\n        vertical-align: top;\n    }\n\n    .dataframe thead th {\n        text-align: right;\n    }\n</style>\n<table border=\"1\" class=\"dataframe\">\n  <thead>\n    <tr style=\"text-align: right;\">\n      <th></th>\n      <th>WinesProducts</th>\n      <th>FruitsProducts</th>\n      <th>MeatProducts</th>\n      <th>FishProducts</th>\n      <th>SweetProducts</th>\n      <th>GoldProducts</th>\n    </tr>\n  </thead>\n  <tbody>\n    <tr>\n      <th>0</th>\n      <td>635</td>\n      <td>88</td>\n      <td>546</td>\n      <td>172</td>\n      <td>88</td>\n      <td>88</td>\n    </tr>\n    <tr>\n      <th>1</th>\n      <td>11</td>\n      <td>1</td>\n      <td>6</td>\n      <td>2</td>\n      <td>1</td>\n      <td>6</td>\n    </tr>\n    <tr>\n      <th>2</th>\n      <td>426</td>\n      <td>49</td>\n      <td>127</td>\n      <td>111</td>\n      <td>21</td>\n      <td>42</td>\n    </tr>\n    <tr>\n      <th>3</th>\n      <td>11</td>\n      <td>4</td>\n      <td>20</td>\n      <td>10</td>\n      <td>3</td>\n      <td>5</td>\n    </tr>\n    <tr>\n      <th>4</th>\n      <td>173</td>\n      <td>43</td>\n      <td>118</td>\n      <td>46</td>\n      <td>27</td>\n      <td>15</td>\n    </tr>\n    <tr>\n      <th>5</th>\n      <td>520</td>\n      <td>42</td>\n      <td>98</td>\n      <td>0</td>\n      <td>42</td>\n      <td>14</td>\n    </tr>\n  </tbody>\n</table>\n</div>"
     },
     "execution_count": 5,
     "metadata": {},
     "output_type": "execute_result"
    }
   ],
   "source": [
    "data.head(6)"
   ],
   "metadata": {
    "collapsed": false,
    "pycharm": {
     "name": "#%%\n"
    }
   }
  },
  {
   "cell_type": "code",
   "execution_count": 5,
   "outputs": [],
   "source": [],
   "metadata": {
    "collapsed": false,
    "pycharm": {
     "name": "#%%\n"
    }
   }
  },
  {
   "cell_type": "code",
   "execution_count": 6,
   "outputs": [],
   "source": [
    "pd.options.mode.chained_assignment = None\n",
    "data['WinesProducts'] = [1 if x != 0 else 0 for x in data['WinesProducts']]\n",
    "data['FruitsProducts'] = [1 if x != 0 else 0 for x in data['FruitsProducts']]\n",
    "data['MeatProducts'] = [1 if x != 0 else 0 for x in data['MeatProducts']]\n",
    "data['FishProducts'] = [1 if x != 0 else 0 for x in data['FishProducts']]\n",
    "data['SweetProducts'] = [1 if x != 0 else 0 for x in data['SweetProducts']]\n",
    "data['GoldProducts'] = [1 if x != 0 else 0 for x in data['GoldProducts']]"
   ],
   "metadata": {
    "collapsed": false,
    "pycharm": {
     "name": "#%%\n"
    }
   }
  },
  {
   "cell_type": "code",
   "execution_count": 7,
   "outputs": [
    {
     "name": "stdout",
     "output_type": "stream",
     "text": [
      "<class 'pandas.core.frame.DataFrame'>\n",
      "RangeIndex: 2020 entries, 0 to 2019\n",
      "Data columns (total 6 columns):\n",
      " #   Column          Non-Null Count  Dtype\n",
      "---  ------          --------------  -----\n",
      " 0   WinesProducts   2020 non-null   int64\n",
      " 1   FruitsProducts  2020 non-null   int64\n",
      " 2   MeatProducts    2020 non-null   int64\n",
      " 3   FishProducts    2020 non-null   int64\n",
      " 4   SweetProducts   2020 non-null   int64\n",
      " 5   GoldProducts    2020 non-null   int64\n",
      "dtypes: int64(6)\n",
      "memory usage: 94.8 KB\n"
     ]
    }
   ],
   "source": [
    "data.info()"
   ],
   "metadata": {
    "collapsed": false,
    "pycharm": {
     "name": "#%%\n"
    }
   }
  },
  {
   "cell_type": "code",
   "execution_count": 8,
   "outputs": [
    {
     "data": {
      "text/plain": "    WinesProducts  FruitsProducts  MeatProducts  FishProducts  SweetProducts  \\\n0               1               1             1             1              1   \n1               1               1             1             1              1   \n2               1               1             1             1              1   \n3               1               1             1             1              1   \n4               1               1             1             1              1   \n5               1               1             1             0              1   \n6               1               1             1             1              1   \n7               1               1             1             1              1   \n8               1               0             1             1              1   \n9               1               0             1             1              1   \n10              1               1             1             1              1   \n11              1               1             1             1              1   \n12              1               1             1             1              1   \n13              1               1             1             1              1   \n14              1               1             1             1              1   \n15              1               1             1             1              1   \n16              1               1             1             1              1   \n17              1               1             1             0              1   \n18              1               1             1             1              1   \n19              1               1             1             1              1   \n20              1               1             1             1              1   \n21              1               0             1             0              0   \n22              1               0             1             1              1   \n23              1               1             1             1              1   \n24              1               1             1             1              1   \n25              1               1             1             1              1   \n26              1               1             1             1              1   \n27              1               1             1             1              1   \n28              1               1             1             1              1   \n29              1               1             1             1              1   \n\n    GoldProducts  \n0              1  \n1              1  \n2              1  \n3              1  \n4              1  \n5              1  \n6              1  \n7              1  \n8              1  \n9              1  \n10             1  \n11             1  \n12             1  \n13             1  \n14             1  \n15             1  \n16             1  \n17             1  \n18             1  \n19             1  \n20             1  \n21             1  \n22             1  \n23             1  \n24             1  \n25             1  \n26             1  \n27             0  \n28             1  \n29             1  ",
      "text/html": "<div>\n<style scoped>\n    .dataframe tbody tr th:only-of-type {\n        vertical-align: middle;\n    }\n\n    .dataframe tbody tr th {\n        vertical-align: top;\n    }\n\n    .dataframe thead th {\n        text-align: right;\n    }\n</style>\n<table border=\"1\" class=\"dataframe\">\n  <thead>\n    <tr style=\"text-align: right;\">\n      <th></th>\n      <th>WinesProducts</th>\n      <th>FruitsProducts</th>\n      <th>MeatProducts</th>\n      <th>FishProducts</th>\n      <th>SweetProducts</th>\n      <th>GoldProducts</th>\n    </tr>\n  </thead>\n  <tbody>\n    <tr>\n      <th>0</th>\n      <td>1</td>\n      <td>1</td>\n      <td>1</td>\n      <td>1</td>\n      <td>1</td>\n      <td>1</td>\n    </tr>\n    <tr>\n      <th>1</th>\n      <td>1</td>\n      <td>1</td>\n      <td>1</td>\n      <td>1</td>\n      <td>1</td>\n      <td>1</td>\n    </tr>\n    <tr>\n      <th>2</th>\n      <td>1</td>\n      <td>1</td>\n      <td>1</td>\n      <td>1</td>\n      <td>1</td>\n      <td>1</td>\n    </tr>\n    <tr>\n      <th>3</th>\n      <td>1</td>\n      <td>1</td>\n      <td>1</td>\n      <td>1</td>\n      <td>1</td>\n      <td>1</td>\n    </tr>\n    <tr>\n      <th>4</th>\n      <td>1</td>\n      <td>1</td>\n      <td>1</td>\n      <td>1</td>\n      <td>1</td>\n      <td>1</td>\n    </tr>\n    <tr>\n      <th>5</th>\n      <td>1</td>\n      <td>1</td>\n      <td>1</td>\n      <td>0</td>\n      <td>1</td>\n      <td>1</td>\n    </tr>\n    <tr>\n      <th>6</th>\n      <td>1</td>\n      <td>1</td>\n      <td>1</td>\n      <td>1</td>\n      <td>1</td>\n      <td>1</td>\n    </tr>\n    <tr>\n      <th>7</th>\n      <td>1</td>\n      <td>1</td>\n      <td>1</td>\n      <td>1</td>\n      <td>1</td>\n      <td>1</td>\n    </tr>\n    <tr>\n      <th>8</th>\n      <td>1</td>\n      <td>0</td>\n      <td>1</td>\n      <td>1</td>\n      <td>1</td>\n      <td>1</td>\n    </tr>\n    <tr>\n      <th>9</th>\n      <td>1</td>\n      <td>0</td>\n      <td>1</td>\n      <td>1</td>\n      <td>1</td>\n      <td>1</td>\n    </tr>\n    <tr>\n      <th>10</th>\n      <td>1</td>\n      <td>1</td>\n      <td>1</td>\n      <td>1</td>\n      <td>1</td>\n      <td>1</td>\n    </tr>\n    <tr>\n      <th>11</th>\n      <td>1</td>\n      <td>1</td>\n      <td>1</td>\n      <td>1</td>\n      <td>1</td>\n      <td>1</td>\n    </tr>\n    <tr>\n      <th>12</th>\n      <td>1</td>\n      <td>1</td>\n      <td>1</td>\n      <td>1</td>\n      <td>1</td>\n      <td>1</td>\n    </tr>\n    <tr>\n      <th>13</th>\n      <td>1</td>\n      <td>1</td>\n      <td>1</td>\n      <td>1</td>\n      <td>1</td>\n      <td>1</td>\n    </tr>\n    <tr>\n      <th>14</th>\n      <td>1</td>\n      <td>1</td>\n      <td>1</td>\n      <td>1</td>\n      <td>1</td>\n      <td>1</td>\n    </tr>\n    <tr>\n      <th>15</th>\n      <td>1</td>\n      <td>1</td>\n      <td>1</td>\n      <td>1</td>\n      <td>1</td>\n      <td>1</td>\n    </tr>\n    <tr>\n      <th>16</th>\n      <td>1</td>\n      <td>1</td>\n      <td>1</td>\n      <td>1</td>\n      <td>1</td>\n      <td>1</td>\n    </tr>\n    <tr>\n      <th>17</th>\n      <td>1</td>\n      <td>1</td>\n      <td>1</td>\n      <td>0</td>\n      <td>1</td>\n      <td>1</td>\n    </tr>\n    <tr>\n      <th>18</th>\n      <td>1</td>\n      <td>1</td>\n      <td>1</td>\n      <td>1</td>\n      <td>1</td>\n      <td>1</td>\n    </tr>\n    <tr>\n      <th>19</th>\n      <td>1</td>\n      <td>1</td>\n      <td>1</td>\n      <td>1</td>\n      <td>1</td>\n      <td>1</td>\n    </tr>\n    <tr>\n      <th>20</th>\n      <td>1</td>\n      <td>1</td>\n      <td>1</td>\n      <td>1</td>\n      <td>1</td>\n      <td>1</td>\n    </tr>\n    <tr>\n      <th>21</th>\n      <td>1</td>\n      <td>0</td>\n      <td>1</td>\n      <td>0</td>\n      <td>0</td>\n      <td>1</td>\n    </tr>\n    <tr>\n      <th>22</th>\n      <td>1</td>\n      <td>0</td>\n      <td>1</td>\n      <td>1</td>\n      <td>1</td>\n      <td>1</td>\n    </tr>\n    <tr>\n      <th>23</th>\n      <td>1</td>\n      <td>1</td>\n      <td>1</td>\n      <td>1</td>\n      <td>1</td>\n      <td>1</td>\n    </tr>\n    <tr>\n      <th>24</th>\n      <td>1</td>\n      <td>1</td>\n      <td>1</td>\n      <td>1</td>\n      <td>1</td>\n      <td>1</td>\n    </tr>\n    <tr>\n      <th>25</th>\n      <td>1</td>\n      <td>1</td>\n      <td>1</td>\n      <td>1</td>\n      <td>1</td>\n      <td>1</td>\n    </tr>\n    <tr>\n      <th>26</th>\n      <td>1</td>\n      <td>1</td>\n      <td>1</td>\n      <td>1</td>\n      <td>1</td>\n      <td>1</td>\n    </tr>\n    <tr>\n      <th>27</th>\n      <td>1</td>\n      <td>1</td>\n      <td>1</td>\n      <td>1</td>\n      <td>1</td>\n      <td>0</td>\n    </tr>\n    <tr>\n      <th>28</th>\n      <td>1</td>\n      <td>1</td>\n      <td>1</td>\n      <td>1</td>\n      <td>1</td>\n      <td>1</td>\n    </tr>\n    <tr>\n      <th>29</th>\n      <td>1</td>\n      <td>1</td>\n      <td>1</td>\n      <td>1</td>\n      <td>1</td>\n      <td>1</td>\n    </tr>\n  </tbody>\n</table>\n</div>"
     },
     "execution_count": 8,
     "metadata": {},
     "output_type": "execute_result"
    }
   ],
   "source": [
    "data.head(30)"
   ],
   "metadata": {
    "collapsed": false,
    "pycharm": {
     "name": "#%%\n"
    }
   }
  },
  {
   "cell_type": "code",
   "execution_count": 9,
   "outputs": [
    {
     "name": "stdout",
     "output_type": "stream",
     "text": [
      "WinesProducts\n",
      "1    2008\n",
      "0      12\n",
      "Name: WinesProducts, dtype: int64\n",
      "----------------------------------------\n",
      "FruitsProducts\n",
      "1    1660\n",
      "0     360\n",
      "Name: FruitsProducts, dtype: int64\n",
      "----------------------------------------\n",
      "MeatProducts\n",
      "1    2019\n",
      "0       1\n",
      "Name: MeatProducts, dtype: int64\n",
      "----------------------------------------\n",
      "FishProducts\n",
      "1    1666\n",
      "0     354\n",
      "Name: FishProducts, dtype: int64\n",
      "----------------------------------------\n",
      "SweetProducts\n",
      "1    1642\n",
      "0     378\n",
      "Name: SweetProducts, dtype: int64\n",
      "----------------------------------------\n",
      "GoldProducts\n",
      "1    1963\n",
      "0      57\n",
      "Name: GoldProducts, dtype: int64\n",
      "----------------------------------------\n"
     ]
    }
   ],
   "source": [
    "for column in data.columns:\n",
    "    print(column)\n",
    "    print(data[column].value_counts())\n",
    "    print(\"-\" * 40)"
   ],
   "metadata": {
    "collapsed": false,
    "pycharm": {
     "name": "#%%\n"
    }
   }
  },
  {
   "cell_type": "code",
   "execution_count": 10,
   "outputs": [
    {
     "name": "stderr",
     "output_type": "stream",
     "text": [
      "/home/mary/data-mining/project/Venv-p/lib/python3.8/site-packages/mlxtend/frequent_patterns/fpcommon.py:111: DeprecationWarning: DataFrames with non-bool types result in worse computationalperformance and their support might be discontinued in the future.Please use a DataFrame with bool type\n",
      "  warnings.warn(\n"
     ]
    },
    {
     "data": {
      "text/plain": "                       antecedents  \\\n2                   (MeatProducts)   \n3                  (WinesProducts)   \n46    (MeatProducts, GoldProducts)   \n47   (WinesProducts, GoldProducts)   \n48                  (MeatProducts)   \n..                             ...   \n428                (SweetProducts)   \n427                 (GoldProducts)   \n426               (FruitsProducts)   \n425                 (FishProducts)   \n547                (WinesProducts)   \n\n                                           consequents  antecedent support  \\\n2                                      (WinesProducts)            0.999505   \n3                                       (MeatProducts)            0.994059   \n46                                     (WinesProducts)            0.971287   \n47                                      (MeatProducts)            0.965842   \n48                       (WinesProducts, GoldProducts)            0.999505   \n..                                                 ...                 ...   \n428  (FruitsProducts, GoldProducts, WinesProducts, ...            0.812871   \n427  (FruitsProducts, WinesProducts, SweetProducts,...            0.971782   \n426  (GoldProducts, WinesProducts, SweetProducts, F...            0.821782   \n425  (FruitsProducts, GoldProducts, WinesProducts, ...            0.824752   \n547  (MeatProducts, FishProducts, FruitsProducts, G...            0.994059   \n\n     consequent support   support  confidence      lift  leverage  conviction  \n2              0.994059  0.994059    0.994552  1.000495  0.000492    1.090369  \n3              0.999505  0.994059    1.000000  1.000495  0.000492         inf  \n46             0.994059  0.965842    0.994393  1.000336  0.000324    1.059586  \n47             0.999505  0.965842    1.000000  1.000495  0.000478         inf  \n48             0.965842  0.965842    0.966320  1.000495  0.000478    1.014204  \n..                  ...       ...         ...       ...       ...         ...  \n428            0.718317  0.646040    0.794762  1.106423  0.062140    1.372474  \n427            0.656436  0.646040    0.664799  1.012740  0.008127    1.024950  \n426            0.711386  0.646040    0.786145  1.105088  0.061435    1.349575  \n425            0.711386  0.646040    0.783313  1.101109  0.059322    1.331941  \n547            0.649010  0.646040    0.649900  1.001372  0.000885    1.002544  \n\n[548 rows x 9 columns]",
      "text/html": "<div>\n<style scoped>\n    .dataframe tbody tr th:only-of-type {\n        vertical-align: middle;\n    }\n\n    .dataframe tbody tr th {\n        vertical-align: top;\n    }\n\n    .dataframe thead th {\n        text-align: right;\n    }\n</style>\n<table border=\"1\" class=\"dataframe\">\n  <thead>\n    <tr style=\"text-align: right;\">\n      <th></th>\n      <th>antecedents</th>\n      <th>consequents</th>\n      <th>antecedent support</th>\n      <th>consequent support</th>\n      <th>support</th>\n      <th>confidence</th>\n      <th>lift</th>\n      <th>leverage</th>\n      <th>conviction</th>\n    </tr>\n  </thead>\n  <tbody>\n    <tr>\n      <th>2</th>\n      <td>(MeatProducts)</td>\n      <td>(WinesProducts)</td>\n      <td>0.999505</td>\n      <td>0.994059</td>\n      <td>0.994059</td>\n      <td>0.994552</td>\n      <td>1.000495</td>\n      <td>0.000492</td>\n      <td>1.090369</td>\n    </tr>\n    <tr>\n      <th>3</th>\n      <td>(WinesProducts)</td>\n      <td>(MeatProducts)</td>\n      <td>0.994059</td>\n      <td>0.999505</td>\n      <td>0.994059</td>\n      <td>1.000000</td>\n      <td>1.000495</td>\n      <td>0.000492</td>\n      <td>inf</td>\n    </tr>\n    <tr>\n      <th>46</th>\n      <td>(MeatProducts, GoldProducts)</td>\n      <td>(WinesProducts)</td>\n      <td>0.971287</td>\n      <td>0.994059</td>\n      <td>0.965842</td>\n      <td>0.994393</td>\n      <td>1.000336</td>\n      <td>0.000324</td>\n      <td>1.059586</td>\n    </tr>\n    <tr>\n      <th>47</th>\n      <td>(WinesProducts, GoldProducts)</td>\n      <td>(MeatProducts)</td>\n      <td>0.965842</td>\n      <td>0.999505</td>\n      <td>0.965842</td>\n      <td>1.000000</td>\n      <td>1.000495</td>\n      <td>0.000478</td>\n      <td>inf</td>\n    </tr>\n    <tr>\n      <th>48</th>\n      <td>(MeatProducts)</td>\n      <td>(WinesProducts, GoldProducts)</td>\n      <td>0.999505</td>\n      <td>0.965842</td>\n      <td>0.965842</td>\n      <td>0.966320</td>\n      <td>1.000495</td>\n      <td>0.000478</td>\n      <td>1.014204</td>\n    </tr>\n    <tr>\n      <th>...</th>\n      <td>...</td>\n      <td>...</td>\n      <td>...</td>\n      <td>...</td>\n      <td>...</td>\n      <td>...</td>\n      <td>...</td>\n      <td>...</td>\n      <td>...</td>\n    </tr>\n    <tr>\n      <th>428</th>\n      <td>(SweetProducts)</td>\n      <td>(FruitsProducts, GoldProducts, WinesProducts, ...</td>\n      <td>0.812871</td>\n      <td>0.718317</td>\n      <td>0.646040</td>\n      <td>0.794762</td>\n      <td>1.106423</td>\n      <td>0.062140</td>\n      <td>1.372474</td>\n    </tr>\n    <tr>\n      <th>427</th>\n      <td>(GoldProducts)</td>\n      <td>(FruitsProducts, WinesProducts, SweetProducts,...</td>\n      <td>0.971782</td>\n      <td>0.656436</td>\n      <td>0.646040</td>\n      <td>0.664799</td>\n      <td>1.012740</td>\n      <td>0.008127</td>\n      <td>1.024950</td>\n    </tr>\n    <tr>\n      <th>426</th>\n      <td>(FruitsProducts)</td>\n      <td>(GoldProducts, WinesProducts, SweetProducts, F...</td>\n      <td>0.821782</td>\n      <td>0.711386</td>\n      <td>0.646040</td>\n      <td>0.786145</td>\n      <td>1.105088</td>\n      <td>0.061435</td>\n      <td>1.349575</td>\n    </tr>\n    <tr>\n      <th>425</th>\n      <td>(FishProducts)</td>\n      <td>(FruitsProducts, GoldProducts, WinesProducts, ...</td>\n      <td>0.824752</td>\n      <td>0.711386</td>\n      <td>0.646040</td>\n      <td>0.783313</td>\n      <td>1.101109</td>\n      <td>0.059322</td>\n      <td>1.331941</td>\n    </tr>\n    <tr>\n      <th>547</th>\n      <td>(WinesProducts)</td>\n      <td>(MeatProducts, FishProducts, FruitsProducts, G...</td>\n      <td>0.994059</td>\n      <td>0.649010</td>\n      <td>0.646040</td>\n      <td>0.649900</td>\n      <td>1.001372</td>\n      <td>0.000885</td>\n      <td>1.002544</td>\n    </tr>\n  </tbody>\n</table>\n<p>548 rows × 9 columns</p>\n</div>"
     },
     "execution_count": 10,
     "metadata": {},
     "output_type": "execute_result"
    }
   ],
   "source": [
    "from mlxtend.frequent_patterns import apriori, association_rules, fpgrowth\n",
    "\n",
    "# Building the model\n",
    "frq_items = apriori(data, min_support = 0.08, use_colnames = True)\n",
    "\n",
    "# Collecting the inferred rules in a dataframe\n",
    "rules = association_rules(frq_items, metric =\"lift\", min_threshold = 1)\n",
    "rules = rules.sort_values(\"support\", ascending = False)\n",
    "rules"
   ],
   "metadata": {
    "collapsed": false,
    "pycharm": {
     "name": "#%%\n"
    }
   }
  },
  {
   "cell_type": "code",
   "execution_count": 11,
   "outputs": [
    {
     "name": "stdout",
     "output_type": "stream",
     "text": [
      "6 itemset(s) from tree conditioned on items ()\n",
      "0 itemset(s) from tree conditioned on items (MeatProducts)\n",
      "1 itemset(s) from tree conditioned on items (WinesProducts)\n",
      "3 itemset(s) from tree conditioned on items (GoldProducts)\n",
      "3 itemset(s) from tree conditioned on items (FishProducts)\n",
      "0 itemset(s) from tree conditioned on items (FishProducts, MeatProducts)\n",
      "1 itemset(s) from tree conditioned on items (FishProducts, WinesProducts)\n",
      "3 itemset(s) from tree conditioned on items (FishProducts, GoldProducts)\n",
      "4 itemset(s) from tree conditioned on items (FruitsProducts)\n",
      "0 itemset(s) from tree conditioned on items (FruitsProducts, MeatProducts)\n",
      "1 itemset(s) from tree conditioned on items (FruitsProducts, WinesProducts)\n",
      "3 itemset(s) from tree conditioned on items (FruitsProducts, GoldProducts)\n",
      "3 itemset(s) from tree conditioned on items (FruitsProducts, FishProducts)\n",
      "0 itemset(s) from tree conditioned on items (FruitsProducts, FishProducts, MeatProducts)\n",
      "1 itemset(s) from tree conditioned on items (FruitsProducts, FishProducts, WinesProducts)\n",
      "3 itemset(s) from tree conditioned on items (FruitsProducts, FishProducts, GoldProducts)\n",
      "5 itemset(s) from tree conditioned on items (SweetProducts)\n",
      "0 itemset(s) from tree conditioned on items (SweetProducts, MeatProducts)\n",
      "1 itemset(s) from tree conditioned on items (SweetProducts, WinesProducts)\n",
      "3 itemset(s) from tree conditioned on items (SweetProducts, GoldProducts)\n",
      "3 itemset(s) from tree conditioned on items (SweetProducts, FishProducts)\n",
      "0 itemset(s) from tree conditioned on items (SweetProducts, FishProducts, MeatProducts)\n",
      "1 itemset(s) from tree conditioned on items (SweetProducts, FishProducts, WinesProducts)\n",
      "3 itemset(s) from tree conditioned on items (SweetProducts, FishProducts, GoldProducts)\n",
      "4 itemset(s) from tree conditioned on items (SweetProducts, FruitsProducts)\n",
      "0 itemset(s) from tree conditioned on items (SweetProducts, FruitsProducts, MeatProducts)\n",
      "1 itemset(s) from tree conditioned on items (SweetProducts, FruitsProducts, WinesProducts)\n",
      "3 itemset(s) from tree conditioned on items (SweetProducts, FruitsProducts, GoldProducts)\n",
      "3 itemset(s) from tree conditioned on items (SweetProducts, FruitsProducts, FishProducts)\n",
      "0 itemset(s) from tree conditioned on items (SweetProducts, FruitsProducts, FishProducts, MeatProducts)\n",
      "1 itemset(s) from tree conditioned on items (SweetProducts, FruitsProducts, FishProducts, WinesProducts)\n",
      "3 itemset(s) from tree conditioned on items (SweetProducts, FruitsProducts, FishProducts, GoldProducts)\n"
     ]
    },
    {
     "name": "stderr",
     "output_type": "stream",
     "text": [
      "/home/mary/data-mining/project/Venv-p/lib/python3.8/site-packages/mlxtend/frequent_patterns/fpcommon.py:111: DeprecationWarning: DataFrames with non-bool types result in worse computationalperformance and their support might be discontinued in the future.Please use a DataFrame with bool type\n",
      "  warnings.warn(\n"
     ]
    },
    {
     "data": {
      "text/plain": "                       antecedents  \\\n2                   (MeatProducts)   \n3                  (WinesProducts)   \n46    (MeatProducts, GoldProducts)   \n47   (WinesProducts, GoldProducts)   \n48                  (MeatProducts)   \n..                             ...   \n428                (SweetProducts)   \n427                 (GoldProducts)   \n426               (FruitsProducts)   \n425                 (FishProducts)   \n547                (WinesProducts)   \n\n                                           consequents  antecedent support  \\\n2                                      (WinesProducts)            0.999505   \n3                                       (MeatProducts)            0.994059   \n46                                     (WinesProducts)            0.971287   \n47                                      (MeatProducts)            0.965842   \n48                       (WinesProducts, GoldProducts)            0.999505   \n..                                                 ...                 ...   \n428  (FruitsProducts, GoldProducts, WinesProducts, ...            0.812871   \n427  (FruitsProducts, WinesProducts, SweetProducts,...            0.971782   \n426  (GoldProducts, WinesProducts, SweetProducts, F...            0.821782   \n425  (FruitsProducts, GoldProducts, WinesProducts, ...            0.824752   \n547  (MeatProducts, FishProducts, FruitsProducts, G...            0.994059   \n\n     consequent support   support  confidence      lift  leverage  conviction  \n2              0.994059  0.994059    0.994552  1.000495  0.000492    1.090369  \n3              0.999505  0.994059    1.000000  1.000495  0.000492         inf  \n46             0.994059  0.965842    0.994393  1.000336  0.000324    1.059586  \n47             0.999505  0.965842    1.000000  1.000495  0.000478         inf  \n48             0.965842  0.965842    0.966320  1.000495  0.000478    1.014204  \n..                  ...       ...         ...       ...       ...         ...  \n428            0.718317  0.646040    0.794762  1.106423  0.062140    1.372474  \n427            0.656436  0.646040    0.664799  1.012740  0.008127    1.024950  \n426            0.711386  0.646040    0.786145  1.105088  0.061435    1.349575  \n425            0.711386  0.646040    0.783313  1.101109  0.059322    1.331941  \n547            0.649010  0.646040    0.649900  1.001372  0.000885    1.002544  \n\n[548 rows x 9 columns]",
      "text/html": "<div>\n<style scoped>\n    .dataframe tbody tr th:only-of-type {\n        vertical-align: middle;\n    }\n\n    .dataframe tbody tr th {\n        vertical-align: top;\n    }\n\n    .dataframe thead th {\n        text-align: right;\n    }\n</style>\n<table border=\"1\" class=\"dataframe\">\n  <thead>\n    <tr style=\"text-align: right;\">\n      <th></th>\n      <th>antecedents</th>\n      <th>consequents</th>\n      <th>antecedent support</th>\n      <th>consequent support</th>\n      <th>support</th>\n      <th>confidence</th>\n      <th>lift</th>\n      <th>leverage</th>\n      <th>conviction</th>\n    </tr>\n  </thead>\n  <tbody>\n    <tr>\n      <th>2</th>\n      <td>(MeatProducts)</td>\n      <td>(WinesProducts)</td>\n      <td>0.999505</td>\n      <td>0.994059</td>\n      <td>0.994059</td>\n      <td>0.994552</td>\n      <td>1.000495</td>\n      <td>0.000492</td>\n      <td>1.090369</td>\n    </tr>\n    <tr>\n      <th>3</th>\n      <td>(WinesProducts)</td>\n      <td>(MeatProducts)</td>\n      <td>0.994059</td>\n      <td>0.999505</td>\n      <td>0.994059</td>\n      <td>1.000000</td>\n      <td>1.000495</td>\n      <td>0.000492</td>\n      <td>inf</td>\n    </tr>\n    <tr>\n      <th>46</th>\n      <td>(MeatProducts, GoldProducts)</td>\n      <td>(WinesProducts)</td>\n      <td>0.971287</td>\n      <td>0.994059</td>\n      <td>0.965842</td>\n      <td>0.994393</td>\n      <td>1.000336</td>\n      <td>0.000324</td>\n      <td>1.059586</td>\n    </tr>\n    <tr>\n      <th>47</th>\n      <td>(WinesProducts, GoldProducts)</td>\n      <td>(MeatProducts)</td>\n      <td>0.965842</td>\n      <td>0.999505</td>\n      <td>0.965842</td>\n      <td>1.000000</td>\n      <td>1.000495</td>\n      <td>0.000478</td>\n      <td>inf</td>\n    </tr>\n    <tr>\n      <th>48</th>\n      <td>(MeatProducts)</td>\n      <td>(WinesProducts, GoldProducts)</td>\n      <td>0.999505</td>\n      <td>0.965842</td>\n      <td>0.965842</td>\n      <td>0.966320</td>\n      <td>1.000495</td>\n      <td>0.000478</td>\n      <td>1.014204</td>\n    </tr>\n    <tr>\n      <th>...</th>\n      <td>...</td>\n      <td>...</td>\n      <td>...</td>\n      <td>...</td>\n      <td>...</td>\n      <td>...</td>\n      <td>...</td>\n      <td>...</td>\n      <td>...</td>\n    </tr>\n    <tr>\n      <th>428</th>\n      <td>(SweetProducts)</td>\n      <td>(FruitsProducts, GoldProducts, WinesProducts, ...</td>\n      <td>0.812871</td>\n      <td>0.718317</td>\n      <td>0.646040</td>\n      <td>0.794762</td>\n      <td>1.106423</td>\n      <td>0.062140</td>\n      <td>1.372474</td>\n    </tr>\n    <tr>\n      <th>427</th>\n      <td>(GoldProducts)</td>\n      <td>(FruitsProducts, WinesProducts, SweetProducts,...</td>\n      <td>0.971782</td>\n      <td>0.656436</td>\n      <td>0.646040</td>\n      <td>0.664799</td>\n      <td>1.012740</td>\n      <td>0.008127</td>\n      <td>1.024950</td>\n    </tr>\n    <tr>\n      <th>426</th>\n      <td>(FruitsProducts)</td>\n      <td>(GoldProducts, WinesProducts, SweetProducts, F...</td>\n      <td>0.821782</td>\n      <td>0.711386</td>\n      <td>0.646040</td>\n      <td>0.786145</td>\n      <td>1.105088</td>\n      <td>0.061435</td>\n      <td>1.349575</td>\n    </tr>\n    <tr>\n      <th>425</th>\n      <td>(FishProducts)</td>\n      <td>(FruitsProducts, GoldProducts, WinesProducts, ...</td>\n      <td>0.824752</td>\n      <td>0.711386</td>\n      <td>0.646040</td>\n      <td>0.783313</td>\n      <td>1.101109</td>\n      <td>0.059322</td>\n      <td>1.331941</td>\n    </tr>\n    <tr>\n      <th>547</th>\n      <td>(WinesProducts)</td>\n      <td>(MeatProducts, FishProducts, FruitsProducts, G...</td>\n      <td>0.994059</td>\n      <td>0.649010</td>\n      <td>0.646040</td>\n      <td>0.649900</td>\n      <td>1.001372</td>\n      <td>0.000885</td>\n      <td>1.002544</td>\n    </tr>\n  </tbody>\n</table>\n<p>548 rows × 9 columns</p>\n</div>"
     },
     "execution_count": 11,
     "metadata": {},
     "output_type": "execute_result"
    }
   ],
   "source": [
    "frq_items_f = fpgrowth(data, min_support=0.1, use_colnames=True,verbose=1)\n",
    "rules = association_rules(frq_items, metric =\"lift\", min_threshold = 1)\n",
    "rules = rules.sort_values(\"support\", ascending = False)\n",
    "rules"
   ],
   "metadata": {
    "collapsed": false,
    "pycharm": {
     "name": "#%%\n"
    }
   }
  },
  {
   "cell_type": "markdown",
   "source": [
    "# Analyze Apriori"
   ],
   "metadata": {
    "collapsed": false,
    "pycharm": {
     "name": "#%% md\n"
    }
   }
  },
  {
   "cell_type": "markdown",
   "source": [
    "most Frequent pattern is Anyone who buys meat also buys wine\n",
    "then Anyone who buys gold  also buys (FruitsProducts, MeatProducts, WinesProducts, SweetProducts)\n",
    "then Anyone who buys (FruitsProducts, GoldProducts) also buy (WinesProducts, SweetProducts) ..."
   ],
   "metadata": {
    "collapsed": false,
    "pycharm": {
     "name": "#%% md\n"
    }
   }
  },
  {
   "cell_type": "markdown",
   "source": [
    "# Analyze FP growth"
   ],
   "metadata": {
    "collapsed": false,
    "pycharm": {
     "name": "#%% md\n"
    }
   }
  },
  {
   "cell_type": "markdown",
   "source": [
    "most Frequent pattern is Anyone who buys meate also buys wine\n",
    "then anyone who buys (GoldProducts, meatProducts) also buy wine\n"
   ],
   "metadata": {
    "collapsed": false,
    "pycharm": {
     "name": "#%% md\n"
    }
   }
  },
  {
   "cell_type": "markdown",
   "source": [
    "# as i see all pattern lift is 1 so there have Positive correlation"
   ],
   "metadata": {
    "collapsed": false,
    "pycharm": {
     "name": "#%% md\n"
    }
   }
  },
  {
   "cell_type": "code",
   "execution_count": 12,
   "outputs": [],
   "source": [
    "data = data.to_csv()\n",
    "with open('2.csv', 'w') as f:\n",
    "    f.write(data)"
   ],
   "metadata": {
    "collapsed": false,
    "pycharm": {
     "name": "#%%\n"
    }
   }
  },
  {
   "cell_type": "code",
   "execution_count": null,
   "outputs": [],
   "source": [],
   "metadata": {
    "collapsed": false,
    "pycharm": {
     "name": "#%%\n"
    }
   }
  }
 ],
 "metadata": {
  "kernelspec": {
   "display_name": "Python 3",
   "language": "python",
   "name": "python3"
  },
  "language_info": {
   "codemirror_mode": {
    "name": "ipython",
    "version": 2
   },
   "file_extension": ".py",
   "mimetype": "text/x-python",
   "name": "python",
   "nbconvert_exporter": "python",
   "pygments_lexer": "ipython2",
   "version": "2.7.6"
  }
 },
 "nbformat": 4,
 "nbformat_minor": 0
}